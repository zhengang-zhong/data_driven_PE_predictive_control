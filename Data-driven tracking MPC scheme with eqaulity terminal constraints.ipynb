{
 "cells": [
  {
   "cell_type": "code",
   "execution_count": 1,
   "metadata": {},
   "outputs": [],
   "source": [
    "import numpy as np\n",
    "import mosek\n",
    "import cvxpy as cp\n",
    "import matplotlib.pyplot as plt\n",
    "from scipy.linalg import expm"
   ]
  },
  {
   "cell_type": "code",
   "execution_count": 2,
   "metadata": {},
   "outputs": [],
   "source": [
    "def disc_linear_system(A, B, delta_t):\n",
    "    '''\n",
    "    Discrete a linear system with implicit Euler\n",
    "    x[k+1] = (I - delta_t * A)^{-1} @ x[k] + (I - delta_t * A)^{-1} @ (delta_t * B) @ u[k]\n",
    "    Returns:\n",
    "        Ak\n",
    "        Bk\n",
    "    '''\n",
    "    Nx = np.shape(A)[0]\n",
    "    Ix = np.identity(Nx)\n",
    "\n",
    "    Ak = np.linalg.inv(Ix - delta_t * A)\n",
    "    Bk = np.linalg.inv(Ix - delta_t * A) @ (delta_t * B)\n",
    "\n",
    "    \n",
    "    def disc_linear_fn(x, u):\n",
    "        x_next = Ak @ x + Bk @ u\n",
    "        \n",
    "        return x_next\n",
    "    \n",
    "    \n",
    "    return disc_linear_fn"
   ]
  },
  {
   "cell_type": "code",
   "execution_count": 3,
   "metadata": {},
   "outputs": [],
   "source": [
    "def disc_linear_system(A, B, delta_t):\n",
    "    '''\n",
    "    Discrete a linear system with implicit Euler\n",
    "    x[k+1] = (I - delta_t * A)^{-1} @ x[k] + (I - delta_t * A)^{-1} @ (delta_t * B) @ u[k]\n",
    "    Returns:\n",
    "        Ak\n",
    "        Bk\n",
    "    '''\n",
    "    Nx = np.shape(A)[0]\n",
    "    Ix = np.identity(Nx)\n",
    "\n",
    "    Ak = expm(A*delta_t)\n",
    "    Bk = (expm(A * delta_t) - Ix) @ np.linalg.inv(A) @ B\n",
    "\n",
    "    \n",
    "    def disc_linear_fn(x, u):\n",
    "        x_next = Ak @ x + Bk @ u\n",
    "        \n",
    "        return x_next\n",
    "    \n",
    "    \n",
    "    return disc_linear_fn\n",
    "\n",
    "\n"
   ]
  },
  {
   "cell_type": "code",
   "execution_count": 4,
   "metadata": {},
   "outputs": [],
   "source": [
    "# Collect data as initial condition\n",
    "def data_generation(sys, nx, nu, N, state_init = None, input_seq = None):\n",
    "    # N is the length of collected data\n",
    "    # Modify this for measurement functions (y = Cx)\n",
    "    if input_seq is None:\n",
    "        input_seq = np.random.uniform(-1,1,(nu, N))\n",
    "#         input_seq = np.random.rand(nu, N)  \n",
    "    N_it = np.shape(input_seq)[1] # Number of iteration\n",
    "    if state_init is None:\n",
    "        state_init = np.random.rand(nx,1) \n",
    "    state_seq = state_init\n",
    "    xk = state_init\n",
    "    for _ in range(N_it):\n",
    "        uk = input_seq[:,[_]]\n",
    "        state_next = sys(xk, uk)\n",
    "        state_seq = np.concatenate((state_seq, state_next),axis=1)\n",
    "        xk = state_next\n",
    "    # Remark: the length of state_seq is larger than the input_seq by one.\n",
    "    return state_seq, input_seq"
   ]
  },
  {
   "cell_type": "code",
   "execution_count": 5,
   "metadata": {},
   "outputs": [],
   "source": [
    "# Construct Hankel matrix\n",
    "def Hankel(sequence, L):\n",
    "    n, T = np.shape(sequence)\n",
    "    print(n,T)\n",
    "    Hankel_matrix = np.empty((n * L, 0), dtype = float)\n",
    "    for _ in range(T-L+1):\n",
    "        Hankel_matrix = np.concatenate((Hankel_matrix, sequence[: , _ : _+L ].reshape(-1,1, order = 'F')),axis = 1)\n",
    "    return Hankel_matrix"
   ]
  },
  {
   "cell_type": "code",
   "execution_count": 6,
   "metadata": {},
   "outputs": [],
   "source": [
    "# Formulate optimization problem\n",
    "def define_opt(nu, ny, Q, R, U_Hankel, Y_Hankel, T, L, n, u_ns, y_ns, r = None, uub = None, ulb = None, yub = None, ylb = None):\n",
    "    # Let the reference traj r be a list setpoint for input and output. To be modified, if tracking traj required.\n",
    "    \n",
    "    u_decision = cp.Variable(((L+n)*nu,1))\n",
    "    y_decision = cp.Variable(((L+n)*ny,1))\n",
    "    \n",
    "    \n",
    "    alpha = cp.Variable((T-(L+n)+1,1))\n",
    "    \n",
    "    u_init_para = cp.Parameter((n * nu, 1))\n",
    "    y_init_para = cp.Parameter((n * ny, 1))\n",
    "    \n",
    "    \n",
    "    loss_func = 0\n",
    "    for _ in range(L):\n",
    "        loss_func += cp.quad_form(y_decision[ ( n + _ ) * ny : ( n + _ + 1 ) * ny ,:] - np.array(r[:ny]).reshape(-1,1), Q)\n",
    "        loss_func += cp.quad_form(u_decision[ ( n + _ ) * nu : ( n + _ + 1 ) * nu ,:] - np.array(r[ny:]).reshape(-1,1), R)\n",
    "\n",
    "    obj = cp.Minimize(loss_func)\n",
    "    # Define constraints\n",
    "    constraint = []\n",
    "    \n",
    "    constraint += [ u_decision == U_Hankel @ alpha ]\n",
    "    constraint += [ y_decision == Y_Hankel @ alpha ]\n",
    "    constraint += [ u_decision[: n * nu] == u_init_para ]\n",
    "    constraint += [ y_decision[: n * ny] == y_init_para ]\n",
    "    constraint += [ u_decision[- n * nu :] == u_ns ]\n",
    "    constraint += [ y_decision[- n * ny :] == y_ns ]\n",
    "    \n",
    "    if uub is not None:\n",
    "        for _ in range(L):\n",
    "            constraint += [u_decision[ ( n + _ ) * nu : ( n + _ + 1 ) * nu, : ] <= uub]\n",
    "    \n",
    "    if ulb is not None:\n",
    "        for _ in range(L):\n",
    "            constraint += [u_decision[ ( n + _ ) * nu : ( n + _ + 1 ) * nu, : ] >= ulb]\n",
    "\n",
    "    if yub is not None:\n",
    "        for _ in range(L):\n",
    "            constraint += [y_decision[ ( n + _ ) * ny : ( n + _ + 1 ) * ny ,:] <= yub]\n",
    "            \n",
    "    if ylb is not None:\n",
    "        for _ in range(L):\n",
    "            constraint += [y_decision[ ( n + _ ) * ny : ( n + _ + 1 ) * ny ,:] >= ylb]\n",
    "            \n",
    "    prob = cp.Problem(obj,constraint)\n",
    "    \n",
    "    return prob, alpha, u_init_para, y_init_para, u_decision, y_decision"
   ]
  },
  {
   "cell_type": "code",
   "execution_count": 7,
   "metadata": {},
   "outputs": [],
   "source": [
    "# Simulation\n",
    "def sim(opt_prob, sys, C, N_sim, delta_t, alpha, n, nu, ny, u_init, y_init, u_init_para, y_init_para, u_decision, y_decision, x_init, input_Hankel, r = None):\n",
    "    # Generally, u_init and y_init are sequences, and x_init is the corresponding initial state of the last element in sequences\n",
    "    t0 = 0\n",
    "    xk = x_init\n",
    "    uk = 0\n",
    "    t = t0\n",
    "    h = delta_t\n",
    "\n",
    "    x_list = []\n",
    "    x_list += xk.flatten().tolist()\n",
    "    u_list = []\n",
    "\n",
    "    # N_sample_max\n",
    "    for i in range(N_sim):\n",
    "        u_init_para.value = u_init\n",
    "        y_init_para.value = y_init\n",
    "        prob.solve(solver=cp.MOSEK)\n",
    "#         uk = (input_Hankel @ alpha.value)[nu * n : nu * (n+1),:]\n",
    "#         print(\"u dec\",u_decision.value)\n",
    "#         print(\"y dec\",y_decision.value)\n",
    "        uk = u_decision.value[nu * n : nu * (n+1),:]\n",
    "        print(uk,xk)\n",
    "        u_list += uk.flatten().tolist()\n",
    "        x_kp1 = sys(xk, uk)\n",
    "        xk = x_kp1\n",
    "        yk = C @ xk\n",
    "        u_init = np.concatenate(( u_init[nu:,:], uk ), axis = 0 )\n",
    "        y_init = np.concatenate(( y_init[ny:,:], yk ), axis = 0 )\n",
    "        x_list += xk.flatten().tolist()\n",
    "\n",
    "    return x_list, u_list"
   ]
  },
  {
   "cell_type": "markdown",
   "metadata": {},
   "source": [
    "### First case study, Mass spring system \n",
    "\n",
    "case 1: full state observation"
   ]
  },
  {
   "cell_type": "markdown",
   "metadata": {},
   "source": [
    "1. larger prediction horizon required than DeePC; otherwise not stable.\n",
    "2. Higher cost, since terminal constraints imposed.\n",
    "3. Both methods fails with random input and output sequences in small value -> multiply 10"
   ]
  },
  {
   "cell_type": "code",
   "execution_count": 8,
   "metadata": {},
   "outputs": [],
   "source": [
    "m = 2  # [kg]\n",
    "k1 = 3  # [N/m]\n",
    "k2 = 2  # [N/m]\n",
    "\n",
    "A = np.array([[0, 1], [-k2 / m, -k1 / m]])\n",
    "B = np.array([[0], [1 / m]])\n",
    "\n",
    "\n",
    "Q = np.diag([10, 1])\n",
    "R = np.diag([1])\n",
    "\n",
    "\n",
    "dt = 0.1\n",
    "disc_sys_fn = disc_linear_system(A,B, dt)\n",
    "nx = 2\n",
    "nu = 1\n",
    "\n",
    "\n",
    "n = 1\n",
    "L = 15\n",
    "T = (nu + 1) * (n + L + nx) - 1\n",
    "T = 200\n",
    "state_seq, input_seq = data_generation(disc_sys_fn, nx, nu, T)\n",
    "\n",
    "state_init = np.array([[5],[0]])\n",
    "y_init_seq, u_init_seq = data_generation(disc_sys_fn, nx, nu, n, state_init = state_init)"
   ]
  },
  {
   "cell_type": "code",
   "execution_count": 9,
   "metadata": {},
   "outputs": [
    {
     "name": "stdout",
     "output_type": "stream",
     "text": [
      "2 200\n",
      "1 200\n"
     ]
    }
   ],
   "source": [
    "state_Hankel = Hankel(state_seq[:,:-1], L+n)\n",
    "input_Hankel = Hankel(input_seq, L+n)"
   ]
  },
  {
   "cell_type": "code",
   "execution_count": 10,
   "metadata": {},
   "outputs": [],
   "source": [
    "y_init = y_init_seq[:,:-1].reshape(-1,1, order = 'F')\n",
    "u_init = u_init_seq.reshape(-1,1, order = 'F')\n",
    "\n",
    "u_ns = np.array([[0]])  # terminal equalibrium constraints\n",
    "y_ns = np.array([[0],[0]])"
   ]
  },
  {
   "cell_type": "code",
   "execution_count": 11,
   "metadata": {},
   "outputs": [],
   "source": [
    "r = [0,0,0]"
   ]
  },
  {
   "cell_type": "code",
   "execution_count": 12,
   "metadata": {},
   "outputs": [],
   "source": [
    "prob, alpha, u_init_para, y_init_para, u_decision, y_decision = define_opt(nu, nx, Q, R, input_Hankel, state_Hankel, T, L, n, u_ns, y_ns, r = r)"
   ]
  },
  {
   "cell_type": "code",
   "execution_count": 13,
   "metadata": {},
   "outputs": [
    {
     "data": {
      "text/plain": [
       "array([[0.22454457]])"
      ]
     },
     "execution_count": 13,
     "metadata": {},
     "output_type": "execute_result"
    }
   ],
   "source": [
    "u_init"
   ]
  },
  {
   "cell_type": "code",
   "execution_count": 14,
   "metadata": {},
   "outputs": [
    {
     "data": {
      "text/plain": [
       "array([[5.],\n",
       "       [0.]])"
      ]
     },
     "execution_count": 14,
     "metadata": {},
     "output_type": "execute_result"
    }
   ],
   "source": [
    "y_init"
   ]
  },
  {
   "cell_type": "code",
   "execution_count": 15,
   "metadata": {},
   "outputs": [
    {
     "name": "stdout",
     "output_type": "stream",
     "text": [
      "\n",
      "\n",
      "Problem\n",
      "  Name                   :                 \n",
      "  Objective sense        : max             \n",
      "  Type                   : CONIC (conic optimization problem)\n",
      "  Constraints            : 263             \n",
      "  Cones                  : 30              \n",
      "  Scalar variables       : 159             \n",
      "  Matrix variables       : 0               \n",
      "  Integer variables      : 0               \n",
      "\n",
      "Optimizer started.\n",
      "Problem\n",
      "  Name                   :                 \n",
      "  Objective sense        : max             \n",
      "  Type                   : CONIC (conic optimization problem)\n",
      "  Constraints            : 263             \n",
      "  Cones                  : 30              \n",
      "  Scalar variables       : 159             \n",
      "  Matrix variables       : 0               \n",
      "  Integer variables      : 0               \n",
      "\n",
      "Optimizer  - threads                : 8               \n",
      "Optimizer  - solved problem         : the dual        \n",
      "Optimizer  - Constraints            : 78\n",
      "Optimizer  - Cones                  : 31\n",
      "Optimizer  - Scalar variables       : 288               conic                  : 288             \n",
      "Optimizer  - Semi-definite variables: 0                 scalarized             : 0               \n",
      "Factor     - setup time             : 0.00              dense det. time        : 0.00            \n",
      "Factor     - ML order time          : 0.00              GP order time          : 0.00            \n",
      "Factor     - nonzeros before factor : 1248              after factor           : 1248            \n",
      "Factor     - dense dim.             : 0                 flops                  : 4.76e+05        \n",
      "ITE PFEAS    DFEAS    GFEAS    PRSTATUS   POBJ              DOBJ              MU       TIME  \n",
      "0   9.0e+00  5.0e+00  1.7e+02  0.00e+00   -1.650000000e+02  0.000000000e+00   1.0e+00  0.00  \n",
      "1   1.0e+00  5.7e-01  5.4e+01  -9.84e-01  3.118586661e+02   4.610871045e+02   1.1e-01  0.02  \n",
      "2   1.9e-01  1.1e-01  2.0e+01  -8.96e-01  1.296061094e+03   1.396826046e+03   2.2e-02  0.02  \n",
      "3   3.5e-02  1.9e-02  5.1e+00  -6.19e-01  2.789417386e+03   2.797763526e+03   3.8e-03  0.02  \n",
      "4   4.5e-03  2.5e-03  3.8e-01  1.55e-01   4.372780876e+03   4.366767368e+03   5.0e-04  0.02  \n",
      "5   8.0e-05  4.4e-05  9.3e-04  8.29e-01   4.756813340e+03   4.756688096e+03   8.8e-06  0.02  \n",
      "6   2.6e-07  1.4e-07  1.7e-07  9.98e-01   4.764045852e+03   4.764045445e+03   2.8e-08  0.03  \n",
      "7   5.6e-09  3.1e-09  5.5e-10  1.00e+00   4.764068878e+03   4.764068869e+03   6.2e-10  0.03  \n",
      "8   1.0e-10  7.7e-10  6.6e-14  1.00e+00   4.764069397e+03   4.764069397e+03   2.0e-12  0.03  \n",
      "Optimizer terminated. Time: 0.04    \n",
      "\n",
      "\n",
      "Interior-point solution summary\n",
      "  Problem status  : PRIMAL_AND_DUAL_FEASIBLE\n",
      "  Solution status : OPTIMAL\n",
      "  Primal.  obj: 4.7640693966e+03    nrm: 2e+03    Viol.  con: 6e-12    var: 0e+00    cones: 0e+00  \n",
      "  Dual.    obj: 4.7640693966e+03    nrm: 6e+02    Viol.  con: 0e+00    var: 2e-07    cones: 0e+00  \n"
     ]
    },
    {
     "data": {
      "text/plain": [
       "array([[ 2.24544665e-01],\n",
       "       [-2.24886257e+01],\n",
       "       [-2.09963189e+01],\n",
       "       [-1.93535113e+01],\n",
       "       [-1.75231583e+01],\n",
       "       [-1.54606350e+01],\n",
       "       [-1.31140029e+01],\n",
       "       [-1.04244907e+01],\n",
       "       [-7.32707239e+00],\n",
       "       [-3.75106534e+00],\n",
       "       [ 3.79138917e-01],\n",
       "       [ 5.14318464e+00],\n",
       "       [ 1.06236928e+01],\n",
       "       [ 1.69050173e+01],\n",
       "       [ 2.40717971e+01],\n",
       "       [ 4.23512307e-09]])"
      ]
     },
     "execution_count": 15,
     "metadata": {},
     "output_type": "execute_result"
    }
   ],
   "source": [
    "u_init_para.value = u_init\n",
    "# u_init_para.value = np.array([[6.19632452]])\n",
    "y_init_para.value = y_init\n",
    "prob.solve(solver=cp.MOSEK,verbose=True)\n",
    "input_Hankel @ alpha.value "
   ]
  },
  {
   "cell_type": "code",
   "execution_count": 16,
   "metadata": {},
   "outputs": [
    {
     "data": {
      "text/plain": [
       "array([[ 5.00000004e+00],\n",
       "       [-4.36186403e-08],\n",
       "       [ 4.97675803e+00],\n",
       "       [-4.53125219e-01],\n",
       "       [ 4.85761623e+00],\n",
       "       [-1.89176111e+00],\n",
       "       [ 4.60921786e+00],\n",
       "       [-3.04328054e+00],\n",
       "       [ 4.25915299e+00],\n",
       "       [-3.93001607e+00],\n",
       "       [ 3.83289824e+00],\n",
       "       [-4.57192913e+00],\n",
       "       [ 3.35406457e+00],\n",
       "       [-4.98640376e+00],\n",
       "       [ 2.84466260e+00],\n",
       "       [-5.18810523e+00],\n",
       "       [ 2.32537838e+00],\n",
       "       [-5.18890606e+00],\n",
       "       [ 1.81585360e+00],\n",
       "       [-4.99787484e+00],\n",
       "       [ 1.33496385e+00],\n",
       "       [-4.62132052e+00],\n",
       "       [ 9.01089850e-01],\n",
       "       [-4.06288991e+00],\n",
       "       [ 5.32376205e-01],\n",
       "       [-3.32371759e+00],\n",
       "       [ 2.46972487e-01],\n",
       "       [-2.40262733e+00],\n",
       "       [ 6.32515687e-02],\n",
       "       [-1.29638458e+00],\n",
       "       [ 5.81121115e-08],\n",
       "       [ 7.25517258e-08]])"
      ]
     },
     "execution_count": 16,
     "metadata": {},
     "output_type": "execute_result"
    }
   ],
   "source": [
    "state_Hankel @ alpha.value "
   ]
  },
  {
   "cell_type": "code",
   "execution_count": 17,
   "metadata": {},
   "outputs": [],
   "source": [
    "C = np.identity(nx)\n",
    "N_sim = 100\n",
    "ny = nx\n",
    "# x_init = y_init[-(nx):,:]\n",
    "x_init = y_init_seq[:,[-1]]"
   ]
  },
  {
   "cell_type": "code",
   "execution_count": 18,
   "metadata": {},
   "outputs": [
    {
     "data": {
      "text/plain": [
       "array([[ 4.97675799],\n",
       "       [-0.45312518]])"
      ]
     },
     "execution_count": 18,
     "metadata": {},
     "output_type": "execute_result"
    }
   ],
   "source": [
    "x_init"
   ]
  },
  {
   "cell_type": "code",
   "execution_count": 19,
   "metadata": {},
   "outputs": [
    {
     "name": "stdout",
     "output_type": "stream",
     "text": [
      "[[-22.48862574]] [[ 4.97675799]\n",
      " [-0.45312518]]\n",
      "[[-12.62459041]] [[ 4.8576162 ]\n",
      " [-1.89176107]]\n",
      "[[-10.77423066]] [[ 4.62912235]\n",
      " [-2.65522278]]\n",
      "[[-8.07061708]] [[ 4.33533639]\n",
      " [-3.20193375]]\n",
      "[[-6.00905495]] [[ 3.99869174]\n",
      " [-3.51746185]]\n",
      "[[-4.27212245]] [[ 3.63929786]\n",
      " [-3.66084265]]\n",
      "[[-2.86200752]] [[ 3.27245031]\n",
      " [-3.66977222]]\n",
      "[[-1.72803293]] [[ 2.90987203]\n",
      " [-3.57804479]]\n",
      "[[-0.83245421]] [[ 2.56021775]\n",
      " [-3.41333219]]\n",
      "[[-0.13927813]] [[ 2.22962541]\n",
      " [-3.1983794 ]]\n",
      "[[0.38366855]] [[ 1.92218075]\n",
      " [-2.95156093]]\n",
      "[[0.76507826]] [[ 1.64032313]\n",
      " [-2.68749619]]\n",
      "[[1.0302397]] [[ 1.3851932 ]\n",
      " [-2.41759828]]\n",
      "[[1.2012128]] [[ 1.15692825]\n",
      " [-2.15057242]]\n",
      "[[1.29704994]] [[ 0.95491034]\n",
      " [-1.89286209]]\n",
      "[[1.33403432]] [[ 0.7779724 ]\n",
      " [-1.64904364]]\n",
      "[[1.32594743]] [[ 0.62456737]\n",
      " [-1.42217231]]\n",
      "[[1.2843175]] [[ 0.49290507]\n",
      " [-1.21408172]]\n",
      "[[1.21865427]] [[ 0.38106127]\n",
      " [-1.02564143]]\n",
      "[[1.13680126]] [[ 0.28706287]\n",
      " [-0.85697678]]\n",
      "[[1.04498469]] [[ 0.20895317]\n",
      " [-0.70764855]]\n",
      "[[0.94818053]] [[ 0.14484034]\n",
      " [-0.57681071]]\n",
      "[[0.85021682]] [[ 0.09293175]\n",
      " [-0.46333285]]\n",
      "[[0.75403267]] [[ 0.05155724]\n",
      " [-0.36590352]]\n",
      "[[0.66175574]] [[ 0.01918315]\n",
      " [-0.28310877]]\n",
      "[[0.57488354]] [[-0.00558078]\n",
      " [-0.21349722]]\n",
      "[[0.49438945]] [[-0.02398003]\n",
      " [-0.1556279 ]]\n",
      "[[0.42083287]] [[-0.0371183 ]\n",
      " [-0.10810652]]\n",
      "[[0.35444584]] [[-0.04596342]\n",
      " [-0.06961102]]\n",
      "[[0.29521051]] [[-0.05135554]\n",
      " [-0.03890902]]\n",
      "[[0.24292113]] [[-0.05401658]\n",
      " [-0.01486831]]\n",
      "[[0.19723732]] [[-0.05456054]\n",
      " [ 0.00353789]]\n",
      "[[0.15772698]] [[-0.05350416]\n",
      " [ 0.01722983]]\n",
      "[[0.12390073]] [[-0.05127741]\n",
      " [ 0.02702329]]\n",
      "[[0.09523949]] [[-0.04823375]\n",
      " [ 0.0336339 ]]\n",
      "[[0.07121555]] [[-0.04465986]\n",
      " [ 0.0376831 ]]\n",
      "[[0.05130152]] [[-0.0407847 ]\n",
      " [ 0.03970504]]\n",
      "[[0.03502601]] [[-0.03678786]\n",
      " [ 0.04015386]]\n",
      "[[0.02188504]] [[-0.03280712]\n",
      " [ 0.03941318]]\n",
      "[[0.01145778]] [[-0.02894522]\n",
      " [ 0.03780085]]\n",
      "[[0.00334246]] [[-0.02527594]\n",
      " [ 0.03557903]]\n",
      "[[-0.00283518]] [[-0.02184939]\n",
      " [ 0.03296041]]\n",
      "[[-0.00737583]] [[-0.01869658]\n",
      " [ 0.03011437]]\n",
      "[[-0.01058336]] [[-0.01583341]\n",
      " [ 0.02717487]]\n",
      "[[-0.01269999]] [[-0.01326399]\n",
      " [ 0.02424399]]\n",
      "[[-0.01394898]] [[-0.01098353]\n",
      " [ 0.02139831]]\n",
      "[[-0.01451046]] [[-0.0089807 ]\n",
      " [ 0.01869257]]\n",
      "[[-0.01453967]] [[-0.00723957]\n",
      " [ 0.01616426]]\n",
      "[[-0.01417967]] [[-0.00574118]\n",
      " [ 0.01383679]]\n",
      "[[-0.0135143]] [[-0.00446483]\n",
      " [ 0.01172182]]\n",
      "[[-0.01266193]] [[-0.00338904]\n",
      " [ 0.00982353]]\n",
      "[[-0.01168207]] [[-0.00249232]\n",
      " [ 0.00813802]]\n",
      "[[-0.01065103]] [[-0.00175379]\n",
      " [ 0.0066572 ]]\n",
      "[[-0.00956018]] [[-0.00115361]\n",
      " [ 0.00536867]]\n",
      "[[-0.00850621]] [[-0.00067314]\n",
      " [ 0.00426037]]\n",
      "[[-0.00748509]] [[-0.0002952 ]\n",
      " [ 0.00331578]]\n",
      "[[-0.00651999]] [[-4.19908064e-06]\n",
      " [ 2.51932784e-03]]\n",
      "[[-0.00562206]] [[0.00021388]\n",
      " [0.00185518]]\n",
      "[[-0.00479751]] [[0.00037148]\n",
      " [0.00130794]]\n",
      "[[-0.00405264]] [[0.00047956]\n",
      " [0.00086302]]\n",
      "[[-0.00338572]] [[0.00054766]\n",
      " [0.00050659]]\n",
      "[[-0.00279539]] [[0.00058397]\n",
      " [0.00022603]]\n",
      "[[-0.0022782]] [[5.95497100e-04]\n",
      " [9.80826901e-06]]\n",
      "[[-0.00182969]] [[ 0.00058816]\n",
      " [-0.00015241]]\n",
      "[[-0.00144465]] [[ 0.00056688]\n",
      " [-0.00026983]]\n",
      "[[-0.00111749]] [[ 0.00053574]\n",
      " [-0.00035054]]\n",
      "[[-0.00084244]] [[ 0.00049803]\n",
      " [-0.0004016 ]]\n",
      "[[-0.00061383]] [[ 0.00045643]\n",
      " [-0.00042906]]\n",
      "[[-0.00042611]] [[ 0.00041303]\n",
      " [-0.00043812]]\n",
      "[[-0.00027408]] [[ 0.00036943]\n",
      " [-0.00043316]]\n",
      "[[-0.00015284]] [[ 0.00032687]\n",
      " [-0.00041781]]\n",
      "[[-5.79203643e-05]] [[ 0.00028621]\n",
      " [-0.00039511]]\n",
      "[[1.46940631e-05]] [[ 0.00024809]\n",
      " [-0.00036751]]\n",
      "[[6.87205265e-05]] [[ 0.00021287]\n",
      " [-0.00033697]]\n",
      "[[0.00010734]] [[ 0.00018078]\n",
      " [-0.00030506]]\n",
      "[[0.00013338]] [[ 0.0001519 ]\n",
      " [-0.00027297]]\n",
      "[[0.00014932]] [[ 0.00012618]\n",
      " [-0.00024161]]\n",
      "[[0.00015724]] [[ 0.00010354]\n",
      " [-0.00021164]]\n",
      "[[0.00015897]] [[ 8.38014351e-05]\n",
      " [-1.83515946e-04]]\n",
      "[[0.00015599]] [[ 6.67677376e-05]\n",
      " [-1.57523941e-04]]\n",
      "[[0.00014957]] [[ 5.22175944e-05]\n",
      " [-1.33828825e-04]]\n",
      "[[0.00014076]] [[ 3.99180847e-05]\n",
      " [-1.12489871e-04]]\n",
      "[[0.00013037]] [[ 2.96343607e-05]\n",
      " [-9.34882709e-05]]\n",
      "[[0.0001191]] [[ 2.11364316e-05]\n",
      " [-7.67472174e-05]]\n",
      "[[0.00010746]] [[ 1.4204116e-05]\n",
      " [-6.2148532e-05]]\n",
      "[[9.58606917e-05]] [[ 8.63048704e-06]\n",
      " [-4.95462171e-05]]\n",
      "[[8.45987858e-05]] [[ 4.22409773e-06]\n",
      " [-3.87773547e-05]]\n",
      "[[7.38935682e-05]] [[ 8.10231275e-07]\n",
      " [-2.96707442e-05]]\n",
      "[[6.38924716e-05]] [[-1.76861030e-06]\n",
      " [-2.20535376e-05]]\n",
      "[[5.46871037e-05]] [[-3.6528013e-06]\n",
      " [-1.5756310e-05]]\n",
      "[[4.63247242e-05]] [[-4.96612393e-06]\n",
      " [-1.06167422e-05]]\n",
      "[[3.88181226e-05]] [[-5.81661133e-06]\n",
      " [-6.48219326e-06]]\n",
      "[[3.21539264e-05]] [[-6.29760165e-06]\n",
      " [-3.21136576e-06]]\n",
      "[[2.62995286e-05]] [[-6.48892183e-06]\n",
      " [-6.75249979e-07]]\n",
      "[[2.12087889e-05]] [[-6.45813663e-06]\n",
      " [ 1.24249935e-06]]\n",
      "[[1.68266611e-05]] [[-6.26181325e-06]\n",
      " [ 2.64562021e-06]]\n",
      "[[1.30928937e-05]] [[-5.94676360e-06]\n",
      " [ 3.62562406e-06]]\n",
      "[[9.94494542e-06]] [[-5.55123648e-06]\n",
      " [ 4.26240854e-06]]\n",
      "[[7.32023983e-06]] [[-5.10604049e-06]\n",
      " [ 4.62502771e-06]]\n",
      "[[5.15786277e-06]] [[-4.63558473e-06]\n",
      " [ 4.77256013e-06]]\n"
     ]
    }
   ],
   "source": [
    "x_list, u_list = sim(prob, disc_sys_fn, C, N_sim, dt, alpha, n, nu, ny, u_init, y_init, u_init_para, y_init_para, u_decision, y_decision, x_init, input_Hankel)"
   ]
  },
  {
   "cell_type": "code",
   "execution_count": 20,
   "metadata": {},
   "outputs": [
    {
     "data": {
      "text/plain": [
       "array([[ 4.97675799],\n",
       "       [-0.45312518]])"
      ]
     },
     "execution_count": 20,
     "metadata": {},
     "output_type": "execute_result"
    }
   ],
   "source": [
    "x_init"
   ]
  },
  {
   "cell_type": "code",
   "execution_count": 21,
   "metadata": {},
   "outputs": [
    {
     "data": {
      "image/png": "[encoded data removed]",
      "text/plain": [
       "<Figure size 720x1440 with 2 Axes>"
      ]
     },
     "metadata": {
      "needs_background": "light"
     },
     "output_type": "display_data"
    }
   ],
   "source": [
    "delta_t = dt\n",
    "n = nx\n",
    "\n",
    "x_traj = x_list\n",
    "\n",
    "Nt = np.shape(x_traj[::n])[0]\n",
    "t_plot = [delta_t * i for i in range(Nt)]\n",
    "\n",
    "plt.figure(1, figsize=(10, 20))\n",
    "plt.clf()\n",
    "for i in range (n):\n",
    "    plt.subplot( str(n) + str(1) + str(i + 1) )\n",
    "    plt.grid()\n",
    "    x_traj_temp = x_traj[i::n]\n",
    "    plt.plot(t_plot, x_traj_temp)\n",
    "    plt.ylabel('x' + str(i + 1))\n",
    "\n",
    "plt.xlabel('t')\n",
    "plt.show()"
   ]
  },
  {
   "cell_type": "code",
   "execution_count": 22,
   "metadata": {},
   "outputs": [
    {
     "data": {
      "image/png": "[encoded data removed]",
      "text/plain": [
       "<Figure size 360x720 with 1 Axes>"
      ]
     },
     "metadata": {
      "needs_background": "light"
     },
     "output_type": "display_data"
    }
   ],
   "source": [
    "delta_t = dt\n",
    "n = nu\n",
    "\n",
    "u_traj = u_list\n",
    "\n",
    "Nt = np.shape(u_traj[::n])[0]\n",
    "t_plot = [delta_t * i for i in range(Nt)]\n",
    "\n",
    "plt.figure(1, figsize=(5, 10))\n",
    "plt.clf()\n",
    "for i in range (n):\n",
    "    plt.subplot( str(n) + str(1) + str(i + 1) )\n",
    "    plt.grid()\n",
    "    u_traj_temp = u_traj[i::n]\n",
    "    plt.plot(t_plot, u_traj_temp)\n",
    "    plt.ylabel('u' + str(i + 1))\n",
    "\n",
    "plt.xlabel('t')\n",
    "plt.show()"
   ]
  },
  {
   "cell_type": "markdown",
   "metadata": {},
   "source": [
    "Case 2: Only observe the position of the mass\n",
    "\n",
    "1. Set $u^s = 1$ and $y^s = 0$, the simulated stable state is [1.06351793, 0.53228785] and input [0.00174959]"
   ]
  },
  {
   "cell_type": "code",
   "execution_count": 23,
   "metadata": {},
   "outputs": [
    {
     "name": "stdout",
     "output_type": "stream",
     "text": [
      "1 200\n",
      "2 200\n",
      "1 200\n"
     ]
    },
    {
     "data": {
      "text/plain": [
       "array([[5.]])"
      ]
     },
     "execution_count": 23,
     "metadata": {},
     "output_type": "execute_result"
    }
   ],
   "source": [
    "m = 2  # [kg]\n",
    "k1 = 3  # [N/m]\n",
    "k2 = 2  # [N/m]\n",
    "\n",
    "A = np.array([[0, 1], [-k2 / m, -k1 / m]])\n",
    "B = np.array([[0], [1 / m]])\n",
    "C = np.array([[1,0]])\n",
    "\n",
    "Q = np.diag([10])\n",
    "R = np.diag([1])\n",
    "\n",
    "\n",
    "dt = 0.1\n",
    "disc_sys_fn = disc_linear_system(A,B, dt)\n",
    "nx = 2\n",
    "ny = 1\n",
    "nu = 1\n",
    "\n",
    "\n",
    "n = 1\n",
    "L = 15\n",
    "T = (nu + 1) * (n + L + nx) - 1\n",
    "T = 200\n",
    "state_seq, input_seq = data_generation(disc_sys_fn, nx, nu, T)\n",
    "output_seq = C @ state_seq\n",
    "\n",
    "input_Hankel = Hankel(input_seq, L+n)\n",
    "state_Hankel = Hankel(state_seq[:,:-1], L+n)\n",
    "output_Hankel = Hankel(output_seq[:,:-1], L+n)\n",
    "\n",
    "\n",
    "\n",
    "state_init = np.array([[5],[0]])\n",
    "x_init_seq, u_init_seq = data_generation(disc_sys_fn, nx, nu, n, state_init = state_init)\n",
    "y_init_seq = C @ x_init_seq\n",
    "\n",
    "\n",
    "y_init = y_init_seq[:,:-1].reshape(-1,1, order = 'F')\n",
    "u_init = u_init_seq.reshape(-1,1, order = 'F')\n",
    "\n",
    "u_ns = np.array([[0]])  # terminal equalibrium constraints\n",
    "# u_ns = np.array([[1]])\n",
    "y_ns = np.array([[0]])\n",
    "\n",
    "r = [0,0]\n",
    "# r = [0,1]\n",
    "prob, alpha, u_init_para, y_init_para, u_decision, y_decision = define_opt(nu, ny, Q, R, input_Hankel, output_Hankel, T, L, n, u_ns, y_ns, r = r)\n",
    "u_init\n",
    "y_init"
   ]
  },
  {
   "cell_type": "code",
   "execution_count": 24,
   "metadata": {},
   "outputs": [
    {
     "name": "stdout",
     "output_type": "stream",
     "text": [
      "\n",
      "\n",
      "Problem\n",
      "  Name                   :                 \n",
      "  Objective sense        : max             \n",
      "  Type                   : CONIC (conic optimization problem)\n",
      "  Constraints            : 247             \n",
      "  Cones                  : 30              \n",
      "  Scalar variables       : 126             \n",
      "  Matrix variables       : 0               \n",
      "  Integer variables      : 0               \n",
      "\n",
      "Optimizer started.\n",
      "Problem\n",
      "  Name                   :                 \n",
      "  Objective sense        : max             \n",
      "  Type                   : CONIC (conic optimization problem)\n",
      "  Constraints            : 247             \n",
      "  Cones                  : 30              \n",
      "  Scalar variables       : 126             \n",
      "  Matrix variables       : 0               \n",
      "  Integer variables      : 0               \n",
      "\n",
      "Optimizer  - threads                : 8               \n",
      "Optimizer  - solved problem         : the dual        \n",
      "Optimizer  - Constraints            : 62\n",
      "Optimizer  - Cones                  : 31\n",
      "Optimizer  - Scalar variables       : 274               conic                  : 274             \n",
      "Optimizer  - Semi-definite variables: 0                 scalarized             : 0               \n",
      "Factor     - setup time             : 0.00              dense det. time        : 0.00            \n",
      "Factor     - ML order time          : 0.00              GP order time          : 0.00            \n",
      "Factor     - nonzeros before factor : 586               after factor           : 586             \n",
      "Factor     - dense dim.             : 0                 flops                  : 2.08e+05        \n",
      "ITE PFEAS    DFEAS    GFEAS    PRSTATUS   POBJ              DOBJ              MU       TIME  \n",
      "0   9.0e+00  5.0e+00  1.7e+02  0.00e+00   -1.650000000e+02  0.000000000e+00   1.0e+00  0.00  \n",
      "1   2.3e+00  1.3e+00  6.8e+01  -7.99e-01  -6.060274299e+01  6.826594077e+01   2.5e-01  0.01  \n",
      "2   5.7e-01  3.2e-01  2.1e+01  -5.15e-01  2.015676804e+02   2.781312704e+02   6.3e-02  0.01  \n",
      "3   1.2e-01  6.9e-02  4.1e+00  -8.93e-02  4.894511595e+02   5.189822620e+02   1.4e-02  0.02  \n",
      "4   1.4e-02  8.0e-03  2.1e-01  5.93e-01   6.460046913e+02   6.500969700e+02   1.6e-03  0.02  \n",
      "5   6.9e-04  3.9e-04  2.3e-03  9.23e-01   6.714599735e+02   6.716635477e+02   7.7e-05  0.02  \n",
      "6   1.3e-05  7.3e-06  5.9e-06  9.93e-01   6.728059409e+02   6.728097790e+02   1.5e-06  0.02  \n",
      "7   7.7e-08  4.3e-08  2.7e-09  1.00e+00   6.728320208e+02   6.728320433e+02   8.5e-09  0.02  \n",
      "8   7.3e-10  2.1e-10  9.6e-13  1.00e+00   6.728321759e+02   6.728321760e+02   4.2e-11  0.02  \n",
      "Optimizer terminated. Time: 0.03    \n",
      "\n",
      "\n",
      "Interior-point solution summary\n",
      "  Problem status  : PRIMAL_AND_DUAL_FEASIBLE\n",
      "  Solution status : OPTIMAL\n",
      "  Primal.  obj: 6.7283217592e+02    nrm: 3e+02    Viol.  con: 2e-11    var: 0e+00    cones: 0e+00  \n",
      "  Dual.    obj: 6.7283217604e+02    nrm: 2e+01    Viol.  con: 0e+00    var: 4e-09    cones: 0e+00  \n"
     ]
    },
    {
     "data": {
      "text/plain": [
       "array([[-1.66854932e-01],\n",
       "       [ 1.01881059e+00],\n",
       "       [ 1.56458198e+00],\n",
       "       [ 1.99788400e+00],\n",
       "       [ 2.32490760e+00],\n",
       "       [ 2.55088569e+00],\n",
       "       [ 2.68000382e+00],\n",
       "       [ 2.71531060e+00],\n",
       "       [ 2.65868920e+00],\n",
       "       [ 2.51085241e+00],\n",
       "       [ 2.27135385e+00],\n",
       "       [ 1.93864998e+00],\n",
       "       [ 1.51017959e+00],\n",
       "       [ 9.82470183e-01],\n",
       "       [ 3.51281313e-01],\n",
       "       [-5.41382092e-10]])"
      ]
     },
     "execution_count": 24,
     "metadata": {},
     "output_type": "execute_result"
    }
   ],
   "source": [
    "u_init_para.value = u_init\n",
    "# u_init_para.value = np.array([[6.19632452]])\n",
    "y_init_para.value = y_init\n",
    "prob.solve(solver=cp.MOSEK,verbose=True)\n",
    "input_Hankel @ alpha.value "
   ]
  },
  {
   "cell_type": "code",
   "execution_count": 25,
   "metadata": {},
   "outputs": [],
   "source": [
    "N_sim = 100\n",
    "# x_init = y_init[-(nx):,:]\n",
    "x_init = x_init_seq[:,[-1]]"
   ]
  },
  {
   "cell_type": "code",
   "execution_count": 26,
   "metadata": {},
   "outputs": [
    {
     "data": {
      "text/plain": [
       "array([[ 4.97582741],\n",
       "       [-0.47126786]])"
      ]
     },
     "execution_count": 26,
     "metadata": {},
     "output_type": "execute_result"
    }
   ],
   "source": [
    "x_init"
   ]
  },
  {
   "cell_type": "code",
   "execution_count": 27,
   "metadata": {},
   "outputs": [
    {
     "name": "stdout",
     "output_type": "stream",
     "text": [
      "[[1.01881059]] [[ 4.97582741]\n",
      " [-0.47126786]]\n",
      "[[1.00002219]] [[ 4.91089909]\n",
      " [-0.81755968]]\n",
      "[[0.98031643]] [[ 4.81413127]\n",
      " [-1.10890107]]\n",
      "[[0.95519217]] [[ 4.69076744]\n",
      " [-1.35028553]]\n",
      "[[0.9256202]] [[ 4.54555253]\n",
      " [-1.54668315]]\n",
      "[[0.89246736]] [[ 4.38275045]\n",
      " [-1.70274417]]\n",
      "[[0.85650685]] [[ 4.2061758 ]\n",
      " [-1.82280513]]\n",
      "[[0.8184352]] [[ 4.01922484]\n",
      " [-1.91089673]]\n",
      "[[0.7788815]] [[ 3.82490566]\n",
      " [-1.97075256]]\n",
      "[[0.73834881]] [[ 3.62586742]\n",
      " [-2.00581895]]\n",
      "[[0.69732813]] [[ 3.42442839]\n",
      " [-2.01926891]]\n",
      "[[0.6562275]] [[ 3.2226028 ]\n",
      " [-2.01401126]]\n",
      "[[0.61539992]] [[ 3.02212662]\n",
      " [-1.9927043 ]]\n",
      "[[0.57515264]] [[ 2.82448197]\n",
      " [-1.95776861]]\n",
      "[[0.5357345]] [[ 2.63092024]\n",
      " [-1.91139982]]\n",
      "[[0.49736047]] [[ 2.44248391]\n",
      " [-1.85558226]]\n",
      "[[0.46020295]] [[ 2.26002705]\n",
      " [-1.79210157]]\n",
      "[[0.42442479]] [[ 2.08423455]\n",
      " [-1.72255777]]\n",
      "[[0.39007408]] [[ 1.91564008]\n",
      " [-1.64837672]]\n",
      "[[0.35729125]] [[ 1.75464272]\n",
      " [-1.57082647]]\n",
      "[[0.32611164]] [[ 1.60152241]\n",
      " [-1.49102318]]\n",
      "[[0.2965712]] [[ 1.45645439]\n",
      " [-1.40994682]]\n",
      "[[0.26868848]] [[ 1.31952227]\n",
      " [-1.328451  ]]\n",
      "[[0.24246656]] [[ 1.19073022]\n",
      " [-1.24727345]]\n",
      "[[0.21787543]] [[ 1.07001394]\n",
      " [-1.16704606]]\n",
      "[[0.1949125]] [[ 0.95725085]\n",
      " [-1.08830526]]\n",
      "[[0.1735247]] [[ 0.85226917]\n",
      " [-1.0114991 ]]\n",
      "[[0.15369289]] [[ 0.75485629]\n",
      " [-0.93699773]]\n",
      "[[0.13534615]] [[ 0.66476625]\n",
      " [-0.86509923]]\n",
      "[[0.11843981]] [[ 0.58172646]\n",
      " [-0.79603932]]\n",
      "[[0.10289997]] [[ 0.50544366]\n",
      " [-0.72999659]]\n",
      "[[0.08867913]] [[ 0.43560925]\n",
      " [-0.66710021]]\n",
      "[[0.07572023]] [[ 0.37190403]\n",
      " [-0.60743436]]\n",
      "[[0.0639267]] [[ 0.31400235]\n",
      " [-0.55104415]]\n",
      "[[0.05325376]] [[ 0.26157571]\n",
      " [-0.4979425 ]]\n",
      "[[0.04361744]] [[ 0.21429587]\n",
      " [-0.44811211]]\n",
      "[[0.03497612]] [[ 0.17183756]\n",
      " [-0.40151161]]\n",
      "[[0.02725006]] [[ 0.13388078]\n",
      " [-0.35807735]]\n",
      "[[0.02037648]] [[ 0.10011276]\n",
      " [-0.31772888]]\n",
      "[[0.0142933]] [[ 0.07022956]\n",
      " [-0.28037123]]\n",
      "[[0.00894036]] [[ 0.04393729]\n",
      " [-0.24589778]]\n",
      "[[0.00425244]] [[ 0.02095324]\n",
      " [-0.2141928 ]]\n",
      "[[0.00020288]] [[ 0.0010066]\n",
      " [-0.185134 ]]\n",
      "[[-0.00328242]] [[-0.01616086]\n",
      " [-0.15859282]]\n",
      "[[-0.00625905]] [[-0.03079444]\n",
      " [-0.13443869]]\n",
      "[[-0.00877943]] [[-0.04312626]\n",
      " [-0.11253963]]\n",
      "[[-0.01086618]] [[-0.05337524]\n",
      " [-0.09276358]]\n",
      "[[-0.01257055]] [[-0.06174707]\n",
      " [-0.0749782 ]]\n",
      "[[-0.01393182]] [[-0.06843432]\n",
      " [-0.05905351]]\n",
      "[[-0.01498669]] [[-0.07361669]\n",
      " [-0.04486218]]\n",
      "[[-0.01576923]] [[-0.07746128]\n",
      " [-0.03228024]]\n",
      "[[-0.01631098]] [[-0.08012303]\n",
      " [-0.02118762]]\n",
      "[[-0.01664108]] [[-0.08174505]\n",
      " [-0.01146864]]\n",
      "[[-0.01678637]] [[-0.08245912]\n",
      " [-0.00301233]]\n",
      "[[-0.01677141]] [[-0.08238619]\n",
      " [ 0.0042873 ]]\n",
      "[[-0.01661878]] [[-0.08163684]\n",
      " [ 0.01053106]]\n",
      "[[-0.01634899]] [[-0.08031186]\n",
      " [ 0.01581448]]\n",
      "[[-0.01598067]] [[-0.07850272]\n",
      " [ 0.02022773]]\n",
      "[[-0.01553057]] [[-0.07629218]\n",
      " [ 0.02385565]]\n",
      "[[-0.01501389]] [[-0.07375474]\n",
      " [ 0.02677775]]\n",
      "[[-0.0144444]] [[-0.07095724]\n",
      " [ 0.02906831]]\n",
      "[[-0.01383404]] [[-0.06795934]\n",
      " [ 0.03079651]]\n",
      "[[-0.01319369]] [[-0.06481403]\n",
      " [ 0.03202654]]\n",
      "[[-0.01253285]] [[-0.06156813]\n",
      " [ 0.03281776]]\n",
      "[[-0.01185995]] [[-0.05826273]\n",
      " [ 0.0332249 ]]\n",
      "[[-0.0111821]] [[-0.05493371]\n",
      " [ 0.03329825]]\n",
      "[[-0.0105057]] [[-0.0516121 ]\n",
      " [ 0.03308385]]\n",
      "[[-0.00983622]] [[-0.04832456]\n",
      " [ 0.0326237 ]]\n",
      "[[-0.00917834]] [[-0.04509372]\n",
      " [ 0.03195599]]\n",
      "[[-0.00853591]] [[-0.04193858]\n",
      " [ 0.03111527]]\n",
      "[[-0.00791215]] [[-0.03887485]\n",
      " [ 0.03013274]]\n",
      "[[-0.00729911]] [[-0.0359153]\n",
      " [ 0.0290364]]\n",
      "[[-0.00672026]] [[-0.03307   ]\n",
      " [ 0.02785177]]\n",
      "[[-0.00616601]] [[-0.03034668]\n",
      " [ 0.02660057]]\n",
      "[[-0.00563768]] [[-0.02775098]\n",
      " [ 0.02530253]]\n",
      "[[-0.00513612]] [[-0.02528671]\n",
      " [ 0.02397501]]\n",
      "[[-0.004662]] [[-0.02295604]\n",
      " [ 0.02263321]]\n",
      "[[-0.00421536]] [[-0.02075971]\n",
      " [ 0.02129029]]\n",
      "[[-0.00379599]] [[-0.01869726]\n",
      " [ 0.01995759]]\n",
      "[[-0.00340367]] [[-0.01676718]\n",
      " [ 0.01864479]]\n",
      "[[-0.00303772]] [[-0.01496704]\n",
      " [ 0.01736004]]\n",
      "[[-0.0026982]] [[-0.0132937 ]\n",
      " [ 0.01611014]]\n",
      "[[-0.00238336]] [[-0.01174338]\n",
      " [ 0.0149006 ]]\n",
      "[[-0.00209276]] [[-0.01031182]\n",
      " [ 0.01373588]]\n",
      "[[-0.00182531]] [[-0.00899436]\n",
      " [ 0.01261942]]\n",
      "[[-0.0015801]] [[-0.00778602]\n",
      " [ 0.01155378]]\n",
      "[[-0.00135596]] [[-0.00668164]\n",
      " [ 0.01054075]]\n",
      "[[-0.00115364]] [[-0.00567589]\n",
      " [ 0.00958141]]\n",
      "[[-0.00096805]] [[-0.00476339]\n",
      " [ 0.00867617]]\n",
      "[[-0.00080036]] [[-0.0039387 ]\n",
      " [ 0.00782513]]\n",
      "[[-0.00064945]] [[-0.00319643]\n",
      " [ 0.0070278 ]]\n",
      "[[-0.00051425]] [[-0.00253125]\n",
      " [ 0.00628332]]\n",
      "[[-0.00039372]] [[-0.00193793]\n",
      " [ 0.00559051]]\n",
      "[[-0.00028692]] [[-0.00141137]\n",
      " [ 0.00494792]]\n",
      "[[-0.00019285]] [[-0.00094664]\n",
      " [ 0.00435388]]\n",
      "[[-0.00011]] [[-0.00053896]\n",
      " [ 0.00380654]]\n",
      "[[-3.74820797e-05]] [[-0.00018377]\n",
      " [ 0.00330397]]\n",
      "[[2.521264e-05]] [[0.00012332]\n",
      " [0.00284411]]\n",
      "[[7.89353464e-05]] [[0.00038646]\n",
      " [0.00242482]]\n",
      "[[0.00012425]] [[0.00060961]\n",
      " [0.00204392]]\n"
     ]
    }
   ],
   "source": [
    "x_list, u_list = sim(prob, disc_sys_fn, C, N_sim, dt, alpha, n, nu, ny, u_init, y_init, u_init_para, y_init_para, u_decision, y_decision, x_init, input_Hankel)"
   ]
  },
  {
   "cell_type": "code",
   "execution_count": 28,
   "metadata": {},
   "outputs": [
    {
     "data": {
      "image/png": "[encoded data removed]",
      "text/plain": [
       "<Figure size 720x1440 with 2 Axes>"
      ]
     },
     "metadata": {
      "needs_background": "light"
     },
     "output_type": "display_data"
    }
   ],
   "source": [
    "delta_t = dt\n",
    "n = nx\n",
    "\n",
    "x_traj = x_list\n",
    "\n",
    "Nt = np.shape(x_traj[::n])[0]\n",
    "t_plot = [delta_t * i for i in range(Nt)]\n",
    "\n",
    "plt.figure(1, figsize=(10, 20))\n",
    "plt.clf()\n",
    "for i in range (n):\n",
    "    plt.subplot( str(n) + str(1) + str(i + 1) )\n",
    "    plt.grid()\n",
    "    x_traj_temp = x_traj[i::n]\n",
    "    plt.plot(t_plot, x_traj_temp)\n",
    "    plt.ylabel('x' + str(i + 1))\n",
    "\n",
    "plt.xlabel('t')\n",
    "plt.show()"
   ]
  },
  {
   "cell_type": "code",
   "execution_count": 29,
   "metadata": {},
   "outputs": [
    {
     "data": {
      "image/png": "[encoded data removed]",
      "text/plain": [
       "<Figure size 360x720 with 1 Axes>"
      ]
     },
     "metadata": {
      "needs_background": "light"
     },
     "output_type": "display_data"
    }
   ],
   "source": [
    "delta_t = dt\n",
    "n = nu\n",
    "\n",
    "u_traj = u_list\n",
    "\n",
    "Nt = np.shape(u_traj[::n])[0]\n",
    "t_plot = [delta_t * i for i in range(Nt)]\n",
    "\n",
    "plt.figure(1, figsize=(5, 10))\n",
    "plt.clf()\n",
    "for i in range (n):\n",
    "    plt.subplot( str(n) + str(1) + str(i + 1) )\n",
    "    plt.grid()\n",
    "    u_traj_temp = u_traj[i::n]\n",
    "    plt.plot(t_plot, u_traj_temp)\n",
    "    plt.ylabel('u' + str(i + 1))\n",
    "\n",
    "plt.xlabel('t')\n",
    "plt.show()"
   ]
  },
  {
   "cell_type": "markdown",
   "metadata": {},
   "source": [
    "### Second case study: four tank system (case study in their paper)\n",
    "\n",
    "It is the linear version of the nonlinear four tank system (ref: Nonlinear Model Predictive Control of a Four Tank System: An Experimental Stability Study)."
   ]
  },
  {
   "cell_type": "markdown",
   "metadata": {},
   "source": [
    "$\\begin{aligned} \\dot{x}_{1} &=-\\frac{a_{1}}{A_{1}} \\sqrt{2 g x_{1}}+\\frac{a_{3}}{A_{1}} \\sqrt{2 g x_{3}}+\\frac{\\gamma_{1}}{A_{1}} u_{1} \\\\ \\dot{x}_{2} &=-\\frac{a_{2}}{A_{2}} \\sqrt{2 g x_{2}}+\\frac{a_{4}}{A_{2}} \\sqrt{2 g x_{4}}+\\frac{\\gamma_{2}}{A_{2}} u_{2} \\\\ \\dot{x}_{3} &=-\\frac{a_{3}}{A_{3}} \\sqrt{2 g x_{3}}+\\frac{\\left(1-\\gamma_{2}\\right)}{A_{3}} u_{2} \\\\ \\dot{x}_{4} &=-\\frac{a_{4}}{A_{4}} \\sqrt{2 g x_{4}}+\\frac{\\left(1-\\gamma_{1}\\right)}{A_{4}} u_{1} \\end{aligned}$"
   ]
  },
  {
   "cell_type": "markdown",
   "metadata": {},
   "source": [
    "Linearized version (ref: Data-Driven Model Predictive Control with Stability and Robustness Guarantees)"
   ]
  },
  {
   "cell_type": "markdown",
   "metadata": {},
   "source": [
    "$ x_{k+1} =\\left[\\begin{array}{cccc}0.921 & 0 & 0.041 & 0 \\\\ 0 & 0.918 & 0 & 0.033 \\\\ 0 & 0 & 0.924 & 0 \\\\ 0 & 0 & 0 & 0.937\\end{array}\\right] x_{k} +\\left[\\begin{array}{cc}0.017 & 0.001 \\\\ 0.001 & 0.023 \\\\ 0 & 0.061 \\\\ 0.072 & 0\\end{array}\\right] u_{k}$\n",
    "\n",
    "$y_{k}=\\left[\\begin{array}{llll}1 & 0 & 0 & 0 \\\\ 0 & 1 & 0 & 0\\end{array}\\right] x_{k}$\n",
    "\n",
    "set point: $\\left(u^{s}, y^{s}\\right)=\\left(\\left[\\begin{array}{l}1 \\\\ 1\\end{array}\\right],\\left[\\begin{array}{l}0.65 \\\\ 0.77\\end{array}\\right]\\right)$"
   ]
  },
  {
   "cell_type": "markdown",
   "metadata": {},
   "source": [
    "1. Why simulation not stable?"
   ]
  },
  {
   "cell_type": "code",
   "execution_count": 30,
   "metadata": {},
   "outputs": [],
   "source": [
    "def disc_four_tank(x, u):\n",
    "    A = np.array([[0.921,  0, 0.041, 0], [0, 0.918, 0, 0.033], [0, 0, 0.924, 0], [0, 0, 0, 0.937]])\n",
    "    B = np.array([[0.017, 0.001], [0.001, 0.023], [0, 0.061], [0.072, 0]])\n",
    "    x_next = A@x + B@u\n",
    "\n",
    "    return x_next"
   ]
  },
  {
   "cell_type": "code",
   "execution_count": 48,
   "metadata": {},
   "outputs": [],
   "source": [
    "A = np.array([[0.921,  0, 0.041, 0], [0, 0.918, 0, 0.033], [0, 0, 0.924, 0], [0, 0, 0, 0.937]])\n",
    "B = np.array([[0.017, 0.001], [0.001, 0.023], [0, 0.061], [0.072, 0]])\n",
    "C = np.array([[1,0,0,0],[0,1,0,0]])\n",
    "\n",
    "\n",
    "\n",
    "\n",
    "# disc_sys_fn = disc_linear_fn\n",
    "nx = 4\n",
    "nu = 2\n",
    "ny = 2\n",
    "\n",
    "Q = np.diag([3] * ny)\n",
    "R = np.diag([1e-4] * nu)\n",
    "\n",
    "\n",
    "\n",
    "n = 1\n",
    "L = 30\n",
    "# T = (nu + 1) * (n + L + nx) - 1\n",
    "T = 400\n",
    "\n",
    "u_ns = np.array([[1,1]* n]).reshape(-1,1)  # terminal equalibrium constraints\n",
    "y_ns = np.array([[0.65,0.77]*n]).reshape(-1,1)\n",
    "\n",
    "state_init = np.array([[0.1],[0.1],[0.2],[0.2]])\n",
    "\n",
    "# state_seq, input_seq = data_generation(disc_four_tank, nx, nu, T, state_init = state_init)\n",
    "state_seq, input_seq = data_generation(disc_four_tank, nx, nu, T)\n",
    "\n",
    "output_seq = C @ state_seq"
   ]
  },
  {
   "cell_type": "code",
   "execution_count": 49,
   "metadata": {},
   "outputs": [
    {
     "data": {
      "text/plain": [
       "array([[ 0.97957173,  0.94722666,  0.9120512 , ...,  0.05900821,\n",
       "         0.05098052,  0.04107972],\n",
       "       [ 0.43941332,  0.42580359,  0.43763322, ...,  0.0308432 ,\n",
       "         0.03324768,  0.05290494],\n",
       "       [ 0.78530366,  0.70659813,  0.69882597, ..., -0.04026467,\n",
       "        -0.04057276,  0.00760415],\n",
       "       [ 0.87335492,  0.87405093,  0.86105058, ...,  0.19094695,\n",
       "         0.17188684,  0.1400971 ]])"
      ]
     },
     "execution_count": 49,
     "metadata": {},
     "output_type": "execute_result"
    }
   ],
   "source": [
    "state_seq"
   ]
  },
  {
   "cell_type": "code",
   "execution_count": 50,
   "metadata": {},
   "outputs": [
    {
     "name": "stdout",
     "output_type": "stream",
     "text": [
      "4 400\n",
      "2 400\n",
      "2 400\n"
     ]
    }
   ],
   "source": [
    "state_Hankel = Hankel(state_seq[:,:-1], L+n)\n",
    "output_Hankel = Hankel(output_seq[:,:-1], L+n)\n",
    "input_Hankel = Hankel(input_seq, L+n)"
   ]
  },
  {
   "cell_type": "code",
   "execution_count": 51,
   "metadata": {},
   "outputs": [],
   "source": [
    "x_init_seq, u_init_seq = data_generation(disc_four_tank, nx, nu, n, state_init = state_init)"
   ]
  },
  {
   "cell_type": "code",
   "execution_count": 52,
   "metadata": {},
   "outputs": [
    {
     "data": {
      "text/plain": [
       "array([[0.1       , 0.0980411 ],\n",
       "       [0.1       , 0.10980762],\n",
       "       [0.2       , 0.21548588],\n",
       "       [0.2       , 0.17570232]])"
      ]
     },
     "execution_count": 52,
     "metadata": {},
     "output_type": "execute_result"
    }
   ],
   "source": [
    "x_init_seq"
   ]
  },
  {
   "cell_type": "code",
   "execution_count": 53,
   "metadata": {},
   "outputs": [
    {
     "data": {
      "text/plain": [
       "array([[0.1       , 0.0980411 ],\n",
       "       [0.1       , 0.10980762]])"
      ]
     },
     "execution_count": 53,
     "metadata": {},
     "output_type": "execute_result"
    }
   ],
   "source": [
    "y_init_seq = C @ x_init_seq\n",
    "y_init_seq"
   ]
  },
  {
   "cell_type": "code",
   "execution_count": 54,
   "metadata": {},
   "outputs": [
    {
     "data": {
      "text/plain": [
       "array([[0.0980411 ],\n",
       "       [0.10980762],\n",
       "       [0.21548588],\n",
       "       [0.17570232]])"
      ]
     },
     "execution_count": 54,
     "metadata": {},
     "output_type": "execute_result"
    }
   ],
   "source": [
    "y_init = y_init_seq[:,:-1].reshape(-1,1, order = 'F')\n",
    "# x_init = x_init_seq[:,:-1].reshape(-1,1, order = 'F')\n",
    "x_init = x_init_seq[:,-1].reshape(-1,1, order = 'F')\n",
    "u_init = u_init_seq.reshape(-1,1, order = 'F')\n",
    "x_init"
   ]
  },
  {
   "cell_type": "code",
   "execution_count": 55,
   "metadata": {},
   "outputs": [
    {
     "data": {
      "text/plain": [
       "array([[0.1],\n",
       "       [0.1]])"
      ]
     },
     "execution_count": 55,
     "metadata": {},
     "output_type": "execute_result"
    }
   ],
   "source": [
    "y_init"
   ]
  },
  {
   "cell_type": "code",
   "execution_count": 56,
   "metadata": {},
   "outputs": [
    {
     "data": {
      "text/plain": [
       "array([[-0.16246772],\n",
       "       [ 0.50304721]])"
      ]
     },
     "execution_count": 56,
     "metadata": {},
     "output_type": "execute_result"
    }
   ],
   "source": [
    "u_init"
   ]
  },
  {
   "cell_type": "code",
   "execution_count": 57,
   "metadata": {},
   "outputs": [],
   "source": [
    "r = [0.65,0.77,1,1]"
   ]
  },
  {
   "cell_type": "code",
   "execution_count": 58,
   "metadata": {},
   "outputs": [],
   "source": [
    "prob, alpha, u_init_para, y_init_para, u_decision, y_decision = define_opt(nu, ny, Q, R, input_Hankel, output_Hankel, T, L, n, u_ns, y_ns, r = r)"
   ]
  },
  {
   "cell_type": "code",
   "execution_count": 59,
   "metadata": {},
   "outputs": [
    {
     "name": "stdout",
     "output_type": "stream",
     "text": [
      "\n",
      "\n",
      "Problem\n",
      "  Name                   :                 \n",
      "  Objective sense        : max             \n",
      "  Type                   : CONIC (conic optimization problem)\n",
      "  Constraints            : 554             \n",
      "  Cones                  : 60              \n",
      "  Scalar variables       : 372             \n",
      "  Matrix variables       : 0               \n",
      "  Integer variables      : 0               \n",
      "\n",
      "Optimizer started.\n",
      "Problem\n",
      "  Name                   :                 \n",
      "  Objective sense        : max             \n",
      "  Type                   : CONIC (conic optimization problem)\n",
      "  Constraints            : 554             \n",
      "  Cones                  : 60              \n",
      "  Scalar variables       : 372             \n",
      "  Matrix variables       : 0               \n",
      "  Integer variables      : 0               \n",
      "\n",
      "Optimizer  - threads                : 8               \n",
      "Optimizer  - solved problem         : the dual        \n",
      "Optimizer  - Constraints            : 184\n",
      "Optimizer  - Cones                  : 61\n",
      "Optimizer  - Scalar variables       : 607               conic                  : 607             \n",
      "Optimizer  - Semi-definite variables: 0                 scalarized             : 0               \n",
      "Factor     - setup time             : 0.00              dense det. time        : 0.00            \n",
      "Factor     - ML order time          : 0.00              GP order time          : 0.00            \n",
      "Factor     - nonzeros before factor : 7926              after factor           : 7926            \n",
      "Factor     - dense dim.             : 0                 flops                  : 6.40e+06        \n",
      "ITE PFEAS    DFEAS    GFEAS    PRSTATUS   POBJ              DOBJ              MU       TIME  \n",
      "0   2.0e+00  3.1e+00  9.1e+01  0.00e+00   -9.000300000e+01  1.421085472e-14   1.0e+00  0.01  \n",
      "1   2.5e-01  3.9e-01  1.1e+01  -2.28e-01  -1.688343872e+01  6.636442421e+00   1.3e-01  0.03  \n",
      "2   2.4e-02  3.8e-02  4.0e-01  5.74e-01   5.129804374e-01   3.485740926e+00   1.2e-02  0.03  \n",
      "3   4.1e-03  6.4e-03  4.1e-02  6.05e-01   1.431186945e+00   2.161181358e+00   2.1e-03  0.04  \n",
      "4   8.0e-04  1.2e-03  5.4e-03  3.98e-01   1.231468441e+00   1.456149885e+00   4.0e-04  0.04  \n",
      "5   1.6e-04  2.5e-04  8.5e-04  2.53e-01   9.046962562e-01   9.818290799e-01   8.2e-05  0.04  \n",
      "6   5.2e-05  8.0e-05  2.2e-04  2.39e-01   6.751512005e-01   7.110165326e-01   2.6e-05  0.05  \n",
      "7   1.9e-05  3.0e-05  6.4e-05  4.31e-01   5.439001071e-01   5.608357473e-01   9.7e-06  0.05  \n",
      "8   2.7e-06  4.2e-06  4.5e-06  3.63e-01   3.748380242e-01   3.781538131e-01   1.3e-06  0.06  \n",
      "9   1.2e-06  1.8e-06  1.5e-06  1.09e+00   3.437401815e-01   3.451294907e-01   6.0e-07  0.06  \n",
      "10  2.0e-07  3.1e-07  1.0e-07  7.95e-01   3.203281910e-01   3.205773014e-01   9.9e-08  0.06  \n",
      "11  1.2e-09  2.0e-09  4.4e-11  9.75e-01   3.154499643e-01   3.154516453e-01   6.1e-10  0.06  \n",
      "12  4.7e-13  9.9e-10  3.6e-16  1.00e+00   3.154208185e-01   3.154208183e-01   4.6e-13  0.07  \n",
      "Optimizer terminated. Time: 0.07    \n",
      "\n",
      "\n",
      "Interior-point solution summary\n",
      "  Problem status  : PRIMAL_AND_DUAL_FEASIBLE\n",
      "  Solution status : OPTIMAL\n",
      "  Primal.  obj: 3.1542081846e-01    nrm: 3e+00    Viol.  con: 2e-13    var: 0e+00    cones: 3e-12  \n",
      "  Dual.    obj: 3.1542081832e-01    nrm: 6e+02    Viol.  con: 0e+00    var: 2e-08    cones: 0e+00  \n"
     ]
    },
    {
     "data": {
      "text/plain": [
       "0.3154208184583942"
      ]
     },
     "execution_count": 59,
     "metadata": {},
     "output_type": "execute_result"
    }
   ],
   "source": [
    "u_init_para.value = u_init\n",
    "# u_init_para.value = np.array([[6.19632452]])\n",
    "y_init_para.value = y_init\n",
    "prob.solve(solver=cp.MOSEK,verbose=True)\n",
    "# input_Hankel @ alpha.value \n",
    "# state_Hankel @ alpha.value "
   ]
  },
  {
   "cell_type": "code",
   "execution_count": 60,
   "metadata": {},
   "outputs": [],
   "source": [
    "# output_Hankel @ alpha.value "
   ]
  },
  {
   "cell_type": "code",
   "execution_count": 61,
   "metadata": {},
   "outputs": [],
   "source": [
    "# u_decision.value"
   ]
  },
  {
   "cell_type": "code",
   "execution_count": 62,
   "metadata": {},
   "outputs": [],
   "source": [
    "# y_decision.value"
   ]
  },
  {
   "cell_type": "code",
   "execution_count": 63,
   "metadata": {},
   "outputs": [],
   "source": [
    "# state_Hankel @ alpha.value "
   ]
  },
  {
   "cell_type": "code",
   "execution_count": 64,
   "metadata": {},
   "outputs": [
    {
     "name": "stdout",
     "output_type": "stream",
     "text": [
      "[[-18.41461299]\n",
      " [-12.98545958]] [[0.0980411 ]\n",
      " [0.10980762]\n",
      " [0.21548588]\n",
      " [0.17570232]]\n",
      "[[-35.70712095]\n",
      " [-28.67260711]] [[-0.22690311]\n",
      " [-0.21047861]\n",
      " [-0.59300408]\n",
      " [-1.16121906]]\n",
      "[[-66.49347557]\n",
      " [-51.49985212]] [[-0.86898459]\n",
      " [-0.92671668]\n",
      " [-2.29696481]\n",
      " [-3.65897496]]\n",
      "[[-117.7526456]\n",
      " [ -94.0131671]] [[-2.07639931]\n",
      " [-2.22246216]\n",
      " [-5.26388646]\n",
      " [-8.21598978]]\n",
      "[[-212.78294382]\n",
      " [-167.88708085]] [[ -4.22399125]\n",
      " [ -4.59140342]\n",
      " [-10.59863428]\n",
      " [-16.17657291]]\n",
      "[[-380.50401165]\n",
      " [-302.8823224 ]] [[ -8.11003707]\n",
      " [ -8.82292104]\n",
      " [-20.03425001]\n",
      " [-30.47782077]]\n",
      "[[-684.91714187]\n",
      " [-543.2079429 ]] [[-15.06219891]\n",
      " [-16.45200703]\n",
      " [-36.98746867]\n",
      " [-55.9540069 ]]\n",
      "[[-1226.66655853]\n",
      " [ -975.51191548]] [[ -27.57557077]\n",
      " [ -30.12812451]\n",
      " [ -67.31210557]\n",
      " [-101.74293868]]\n",
      "[[-2204.72192562]\n",
      " [-1751.21412338]] [[ -49.98574042]\n",
      " [ -54.67857589]\n",
      " [-121.70261239]\n",
      " [-183.65312576]]\n"
     ]
    },
    {
     "ename": "ValueError",
     "evalue": "Cannot unpack invalid solution: Solution(status=UNKNOWN, opt_val=nan, primal_vars={}, dual_vars={}, attr={'solve_time': 0.09477496147155762})",
     "output_type": "error",
     "traceback": [
      "\u001b[0;31m---------------------------------------------------------------------------\u001b[0m",
      "\u001b[0;31mValueError\u001b[0m                                Traceback (most recent call last)",
      "\u001b[0;32m<ipython-input-64-5d4432db6205>\u001b[0m in \u001b[0;36m<module>\u001b[0;34m\u001b[0m\n\u001b[1;32m      1\u001b[0m \u001b[0mN_sim\u001b[0m \u001b[0;34m=\u001b[0m \u001b[0;36m100\u001b[0m\u001b[0;34m\u001b[0m\u001b[0;34m\u001b[0m\u001b[0m\n\u001b[0;32m----> 2\u001b[0;31m \u001b[0mx_list\u001b[0m\u001b[0;34m,\u001b[0m \u001b[0mu_list\u001b[0m \u001b[0;34m=\u001b[0m \u001b[0msim\u001b[0m\u001b[0;34m(\u001b[0m\u001b[0mprob\u001b[0m\u001b[0;34m,\u001b[0m \u001b[0mdisc_four_tank\u001b[0m\u001b[0;34m,\u001b[0m \u001b[0mC\u001b[0m\u001b[0;34m,\u001b[0m \u001b[0mN_sim\u001b[0m\u001b[0;34m,\u001b[0m \u001b[0mdt\u001b[0m\u001b[0;34m,\u001b[0m \u001b[0malpha\u001b[0m\u001b[0;34m,\u001b[0m \u001b[0mn\u001b[0m\u001b[0;34m,\u001b[0m \u001b[0mnu\u001b[0m\u001b[0;34m,\u001b[0m \u001b[0mny\u001b[0m\u001b[0;34m,\u001b[0m \u001b[0mu_init\u001b[0m\u001b[0;34m,\u001b[0m \u001b[0my_init\u001b[0m\u001b[0;34m,\u001b[0m \u001b[0mu_init_para\u001b[0m\u001b[0;34m,\u001b[0m \u001b[0my_init_para\u001b[0m\u001b[0;34m,\u001b[0m \u001b[0mu_decision\u001b[0m\u001b[0;34m,\u001b[0m \u001b[0my_decision\u001b[0m\u001b[0;34m,\u001b[0m \u001b[0mx_init\u001b[0m\u001b[0;34m,\u001b[0m \u001b[0minput_Hankel\u001b[0m\u001b[0;34m)\u001b[0m\u001b[0;34m\u001b[0m\u001b[0;34m\u001b[0m\u001b[0m\n\u001b[0m",
      "\u001b[0;32m<ipython-input-7-f2f89d20f8ff>\u001b[0m in \u001b[0;36msim\u001b[0;34m(opt_prob, sys, C, N_sim, delta_t, alpha, n, nu, ny, u_init, y_init, u_init_para, y_init_para, u_decision, y_decision, x_init, input_Hankel, r)\u001b[0m\n\u001b[1;32m     16\u001b[0m         \u001b[0mu_init_para\u001b[0m\u001b[0;34m.\u001b[0m\u001b[0mvalue\u001b[0m \u001b[0;34m=\u001b[0m \u001b[0mu_init\u001b[0m\u001b[0;34m\u001b[0m\u001b[0;34m\u001b[0m\u001b[0m\n\u001b[1;32m     17\u001b[0m         \u001b[0my_init_para\u001b[0m\u001b[0;34m.\u001b[0m\u001b[0mvalue\u001b[0m \u001b[0;34m=\u001b[0m \u001b[0my_init\u001b[0m\u001b[0;34m\u001b[0m\u001b[0;34m\u001b[0m\u001b[0m\n\u001b[0;32m---> 18\u001b[0;31m         \u001b[0mprob\u001b[0m\u001b[0;34m.\u001b[0m\u001b[0msolve\u001b[0m\u001b[0;34m(\u001b[0m\u001b[0msolver\u001b[0m\u001b[0;34m=\u001b[0m\u001b[0mcp\u001b[0m\u001b[0;34m.\u001b[0m\u001b[0mMOSEK\u001b[0m\u001b[0;34m)\u001b[0m\u001b[0;34m\u001b[0m\u001b[0;34m\u001b[0m\u001b[0m\n\u001b[0m\u001b[1;32m     19\u001b[0m \u001b[0;31m#         uk = (input_Hankel @ alpha.value)[nu * n : nu * (n+1),:]\u001b[0m\u001b[0;34m\u001b[0m\u001b[0;34m\u001b[0m\u001b[0;34m\u001b[0m\u001b[0m\n\u001b[1;32m     20\u001b[0m \u001b[0;31m#         print(\"u dec\",u_decision.value)\u001b[0m\u001b[0;34m\u001b[0m\u001b[0;34m\u001b[0m\u001b[0;34m\u001b[0m\u001b[0m\n",
      "\u001b[0;32m/Library/Frameworks/Python.framework/Versions/3.7/lib/python3.7/site-packages/cvxpy/problems/problem.py\u001b[0m in \u001b[0;36msolve\u001b[0;34m(self, *args, **kwargs)\u001b[0m\n\u001b[1;32m    394\u001b[0m         \u001b[0;32melse\u001b[0m\u001b[0;34m:\u001b[0m\u001b[0;34m\u001b[0m\u001b[0;34m\u001b[0m\u001b[0m\n\u001b[1;32m    395\u001b[0m             \u001b[0msolve_func\u001b[0m \u001b[0;34m=\u001b[0m \u001b[0mProblem\u001b[0m\u001b[0;34m.\u001b[0m\u001b[0m_solve\u001b[0m\u001b[0;34m\u001b[0m\u001b[0;34m\u001b[0m\u001b[0m\n\u001b[0;32m--> 396\u001b[0;31m         \u001b[0;32mreturn\u001b[0m \u001b[0msolve_func\u001b[0m\u001b[0;34m(\u001b[0m\u001b[0mself\u001b[0m\u001b[0;34m,\u001b[0m \u001b[0;34m*\u001b[0m\u001b[0margs\u001b[0m\u001b[0;34m,\u001b[0m \u001b[0;34m**\u001b[0m\u001b[0mkwargs\u001b[0m\u001b[0;34m)\u001b[0m\u001b[0;34m\u001b[0m\u001b[0;34m\u001b[0m\u001b[0m\n\u001b[0m\u001b[1;32m    397\u001b[0m \u001b[0;34m\u001b[0m\u001b[0m\n\u001b[1;32m    398\u001b[0m     \u001b[0;34m@\u001b[0m\u001b[0mclassmethod\u001b[0m\u001b[0;34m\u001b[0m\u001b[0;34m\u001b[0m\u001b[0m\n",
      "\u001b[0;32m/Library/Frameworks/Python.framework/Versions/3.7/lib/python3.7/site-packages/cvxpy/problems/problem.py\u001b[0m in \u001b[0;36m_solve\u001b[0;34m(self, solver, warm_start, verbose, gp, qcp, requires_grad, enforce_dpp, **kwargs)\u001b[0m\n\u001b[1;32m    752\u001b[0m         solution = solving_chain.solve_via_data(\n\u001b[1;32m    753\u001b[0m             self, data, warm_start, verbose, kwargs)\n\u001b[0;32m--> 754\u001b[0;31m         \u001b[0mself\u001b[0m\u001b[0;34m.\u001b[0m\u001b[0munpack_results\u001b[0m\u001b[0;34m(\u001b[0m\u001b[0msolution\u001b[0m\u001b[0;34m,\u001b[0m \u001b[0msolving_chain\u001b[0m\u001b[0;34m,\u001b[0m \u001b[0minverse_data\u001b[0m\u001b[0;34m)\u001b[0m\u001b[0;34m\u001b[0m\u001b[0;34m\u001b[0m\u001b[0m\n\u001b[0m\u001b[1;32m    755\u001b[0m         \u001b[0;32mreturn\u001b[0m \u001b[0mself\u001b[0m\u001b[0;34m.\u001b[0m\u001b[0mvalue\u001b[0m\u001b[0;34m\u001b[0m\u001b[0;34m\u001b[0m\u001b[0m\n\u001b[1;32m    756\u001b[0m \u001b[0;34m\u001b[0m\u001b[0m\n",
      "\u001b[0;32m/Library/Frameworks/Python.framework/Versions/3.7/lib/python3.7/site-packages/cvxpy/problems/problem.py\u001b[0m in \u001b[0;36munpack_results\u001b[0;34m(self, solution, chain, inverse_data)\u001b[0m\n\u001b[1;32m   1068\u001b[0m                     \u001b[0;34m\"Try another solver, or solve with verbose=True for more \"\u001b[0m\u001b[0;34m\u001b[0m\u001b[0;34m\u001b[0m\u001b[0m\n\u001b[1;32m   1069\u001b[0m                     \"information.\")\n\u001b[0;32m-> 1070\u001b[0;31m         \u001b[0mself\u001b[0m\u001b[0;34m.\u001b[0m\u001b[0munpack\u001b[0m\u001b[0;34m(\u001b[0m\u001b[0msolution\u001b[0m\u001b[0;34m)\u001b[0m\u001b[0;34m\u001b[0m\u001b[0;34m\u001b[0m\u001b[0m\n\u001b[0m\u001b[1;32m   1071\u001b[0m         self._solver_stats = SolverStats(self._solution.attr,\n\u001b[1;32m   1072\u001b[0m                                          chain.solver.name())\n",
      "\u001b[0;32m/Library/Frameworks/Python.framework/Versions/3.7/lib/python3.7/site-packages/cvxpy/problems/problem.py\u001b[0m in \u001b[0;36munpack\u001b[0;34m(self, solution)\u001b[0m\n\u001b[1;32m   1028\u001b[0m                     \u001b[0mdv\u001b[0m\u001b[0;34m.\u001b[0m\u001b[0msave_value\u001b[0m\u001b[0;34m(\u001b[0m\u001b[0;32mNone\u001b[0m\u001b[0;34m)\u001b[0m\u001b[0;34m\u001b[0m\u001b[0;34m\u001b[0m\u001b[0m\n\u001b[1;32m   1029\u001b[0m         \u001b[0;32melse\u001b[0m\u001b[0;34m:\u001b[0m\u001b[0;34m\u001b[0m\u001b[0;34m\u001b[0m\u001b[0m\n\u001b[0;32m-> 1030\u001b[0;31m             \u001b[0;32mraise\u001b[0m \u001b[0mValueError\u001b[0m\u001b[0;34m(\u001b[0m\u001b[0;34m\"Cannot unpack invalid solution: %s\"\u001b[0m \u001b[0;34m%\u001b[0m \u001b[0msolution\u001b[0m\u001b[0;34m)\u001b[0m\u001b[0;34m\u001b[0m\u001b[0;34m\u001b[0m\u001b[0m\n\u001b[0m\u001b[1;32m   1031\u001b[0m \u001b[0;34m\u001b[0m\u001b[0m\n\u001b[1;32m   1032\u001b[0m         \u001b[0mself\u001b[0m\u001b[0;34m.\u001b[0m\u001b[0m_value\u001b[0m \u001b[0;34m=\u001b[0m \u001b[0msolution\u001b[0m\u001b[0;34m.\u001b[0m\u001b[0mopt_val\u001b[0m\u001b[0;34m\u001b[0m\u001b[0;34m\u001b[0m\u001b[0m\n",
      "\u001b[0;31mValueError\u001b[0m: Cannot unpack invalid solution: Solution(status=UNKNOWN, opt_val=nan, primal_vars={}, dual_vars={}, attr={'solve_time': 0.09477496147155762})"
     ]
    }
   ],
   "source": [
    "N_sim = 100\n",
    "x_list, u_list = sim(prob, disc_four_tank, C, N_sim, dt, alpha, n, nu, ny, u_init, y_init, u_init_para, y_init_para, u_decision, y_decision, x_init, input_Hankel)"
   ]
  },
  {
   "cell_type": "code",
   "execution_count": null,
   "metadata": {},
   "outputs": [],
   "source": [
    "b =  B @ np.array([[1],[1]])\n",
    "a = np.linalg.inv(np.identity(4) - A)\n",
    "\n",
    "np.linalg.solve(a, b)"
   ]
  },
  {
   "cell_type": "code",
   "execution_count": null,
   "metadata": {},
   "outputs": [],
   "source": []
  }
 ],
 "metadata": {
  "kernelspec": {
   "display_name": "Python 3",
   "language": "python",
   "name": "python3"
  },
  "language_info": {
   "codemirror_mode": {
    "name": "ipython",
    "version": 3
   },
   "file_extension": ".py",
   "mimetype": "text/x-python",
   "name": "python",
   "nbconvert_exporter": "python",
   "pygments_lexer": "ipython3",
   "version": "3.7.7"
  }
 },
 "nbformat": 4,
 "nbformat_minor": 4
}
