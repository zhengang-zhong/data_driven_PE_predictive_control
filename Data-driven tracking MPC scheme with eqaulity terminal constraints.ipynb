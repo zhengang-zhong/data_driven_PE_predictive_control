{
 "cells": [
  {
   "cell_type": "code",
   "execution_count": 1,
   "metadata": {},
   "outputs": [],
   "source": [
    "import numpy as np\n",
    "import mosek\n",
    "import cvxpy as cp\n",
    "import matplotlib.pyplot as plt"
   ]
  },
  {
   "cell_type": "code",
   "execution_count": 8,
   "metadata": {},
   "outputs": [],
   "source": [
    "def disc_linear_system(A, B, delta_t):\n",
    "    '''\n",
    "    Discrete a linear system with implicit Euler\n",
    "    x[k+1] = (I - delta_t * A)^{-1} @ x[k] + (I - delta_t * A)^{-1} @ (delta_t * B) @ u[k]\n",
    "    Returns:\n",
    "        Ak\n",
    "        Bk\n",
    "    '''\n",
    "    Nx = np.shape(A)[0]\n",
    "    Ix = np.identity(Nx)\n",
    "\n",
    "    Ak = np.linalg.inv(Ix - delta_t * A)\n",
    "    Bk = np.linalg.inv(Ix - delta_t * A) @ (delta_t * B)\n",
    "\n",
    "    \n",
    "    def disc_linear_fn(x, u):\n",
    "        x_next = Ak @ x + Bk @ u\n",
    "        \n",
    "        return x_next\n",
    "    \n",
    "    \n",
    "    return disc_linear_fn"
   ]
  },
  {
   "cell_type": "code",
   "execution_count": 92,
   "metadata": {},
   "outputs": [],
   "source": [
    "# Collect data as initial condition\n",
    "def data_generation(sys, nx, nu, N, state_init = None, input_seq = None):\n",
    "    # N is the length of collected data\n",
    "    # Modify this for measurement functions (y = Cx)\n",
    "    if input_seq is None:\n",
    "        input_seq = np.random.rand(nu, N) *10\n",
    "    N_it = np.shape(input_seq)[1] # Number of iteration\n",
    "    if state_init is None:\n",
    "        state_init = np.random.rand(nx,1) *10\n",
    "    state_seq = state_init\n",
    "    xk = state_init\n",
    "    for _ in range(N_it):\n",
    "        uk = input_seq[:,_].reshape(-1,nu)\n",
    "        state_next = sys(xk, uk)\n",
    "        state_seq = np.concatenate((state_seq, state_next),axis=1)\n",
    "        xk = state_next\n",
    "    # Remark: the length of state_seq is larger than the input_seq by one.\n",
    "    return state_seq, input_seq"
   ]
  },
  {
   "cell_type": "code",
   "execution_count": 93,
   "metadata": {},
   "outputs": [],
   "source": [
    "# Construct Hankel matrix\n",
    "def Hankel(sequence, L):\n",
    "    n, T = np.shape(sequence)\n",
    "    print(n,T)\n",
    "    Hankel_matrix = np.empty((n * L, 0), dtype = float)\n",
    "    for _ in range(T-L+1):\n",
    "        Hankel_matrix = np.concatenate((Hankel_matrix, sequence[: , _ : _+L ].reshape(-1,1, order = 'F')),axis = 1)\n",
    "    return Hankel_matrix"
   ]
  },
  {
   "cell_type": "code",
   "execution_count": 134,
   "metadata": {},
   "outputs": [],
   "source": [
    "# Formulate optimization problem\n",
    "def define_opt(nu, ny, Q, R, U_Hankel, Y_Hankel, L, n, u_ns, y_ns, r = None, uub = None, ulb = None, yub = None, ylb = None):\n",
    "    # Let the reference traj r be a list setpoint for input and output. To be modified, if tracking traj required.\n",
    "    \n",
    "    u_decision = cp.Variable(((L+n)*nu,1))\n",
    "    y_decision = cp.Variable(((L+n)*ny,1))\n",
    "    \n",
    "    \n",
    "    alpha = cp.Variable((T-(L+n)+1,1))\n",
    "    \n",
    "    u_init_para = cp.Parameter((n * nu, 1))\n",
    "    y_init_para = cp.Parameter((n * ny, 1))\n",
    "    \n",
    "    \n",
    "    loss_func = 0\n",
    "    for _ in range(L):\n",
    "        loss_func += cp.quad_form(y_decision[ ( n + _ ) * ny : ( n + _ + 1 ) * ny ,:] - np.array(r[:ny]).reshape(-1,1), Q)\n",
    "        loss_func += cp.quad_form(u_decision[ ( n + _ ) * nu : ( n + _ + 1 ) * nu ,:] - np.array(r[ny:]).reshape(-1,1), R)\n",
    "\n",
    "    obj = cp.Minimize(loss_func)\n",
    "    # Define constraints\n",
    "    constraint = []\n",
    "    \n",
    "    constraint += [ u_decision == U_Hankel @ alpha ]\n",
    "    constraint += [ y_decision == Y_Hankel @ alpha ]\n",
    "    constraint += [ u_decision[: n * nu] == u_init_para ]\n",
    "    constraint += [ y_decision[: n * ny] == y_init_para ]\n",
    "    constraint += [ u_decision[- n * nu :] == u_ns ]\n",
    "    constraint += [ y_decision[- n * ny :] == y_ns ]\n",
    "    \n",
    "    if uub is not None:\n",
    "        for _ in range(L):\n",
    "            constraint += [u_decision[ ( n + _ ) * nu : ( n + _ + 1 ) * nu, : ] <= uub]\n",
    "    \n",
    "    if ulb is not None:\n",
    "        for _ in range(L):\n",
    "            constraint += [u_decision[ ( n + _ ) * nu : ( n + _ + 1 ) * nu, : ] >= ulb]\n",
    "\n",
    "    if yub is not None:\n",
    "        for _ in range(L):\n",
    "            constraint += [y_decision[ ( n + _ ) * ny : ( n + _ + 1 ) * ny ,:] <= yub]\n",
    "            \n",
    "    if ylb is not None:\n",
    "        for _ in range(L):\n",
    "            constraint += [y_decision[ ( n + _ ) * ny : ( n + _ + 1 ) * ny ,:] >= ylb]\n",
    "            \n",
    "    prob = cp.Problem(obj,constraint)\n",
    "    \n",
    "    return prob, alpha, u_init_para, y_init_para"
   ]
  },
  {
   "cell_type": "code",
   "execution_count": 137,
   "metadata": {},
   "outputs": [],
   "source": [
    "# Simulation\n",
    "def sim(opt_prob, sys, C, N_sim, delta_t, alpha, n, nu, ny, u_init, y_init, u_init_para, y_init_para, x_init, input_Hankel, r = None):\n",
    "    # Generally, u_ini and y_ini are sequences, and x_init is the corresponding initial state of the last element in sequences\n",
    "    t0 = 0\n",
    "    xk = x_init\n",
    "    uk = 0\n",
    "    t = t0\n",
    "    h = delta_t\n",
    "\n",
    "    x_list = []\n",
    "    x_list += xk.flatten().tolist()\n",
    "    u_list = []\n",
    "\n",
    "    # N_sample_max\n",
    "    for i in range(N_sim):\n",
    "        u_init_para.value = u_init\n",
    "        y_init_para.value = y_init\n",
    "        prob.solve(solver=cp.MOSEK)\n",
    "        print(xk,uk)\n",
    "        uk = (input_Hankel @ alpha.value)[nu * n : nu * (n+1),:]\n",
    "        u_list += uk.flatten().tolist()\n",
    "        x_kp1 = sys(xk, uk)\n",
    "        xk = x_kp1\n",
    "        yk = C @ xk\n",
    "        u_init = np.concatenate(( u_ini[nu:,:], uk ), axis = 0 )\n",
    "        y_init = np.concatenate(( y_ini[ny:,:], yk ), axis = 0 )\n",
    "        x_list += xk.flatten().tolist()\n",
    "\n",
    "    return x_list, u_list"
   ]
  },
  {
   "cell_type": "markdown",
   "metadata": {},
   "source": [
    "First case study, Mass spring system\n",
    "\n",
    "1. larger prediction horizon required than DeePC; otherwise not stable.\n",
    "2. Higher cost, since terminal constraints imposed.\n",
    "3. Both methods fails with random input and output sequences in small value -> multiply 10"
   ]
  },
  {
   "cell_type": "code",
   "execution_count": 138,
   "metadata": {},
   "outputs": [
    {
     "data": {
      "text/plain": [
       "array([[1, 2],\n",
       "       [1, 2]])"
      ]
     },
     "execution_count": 138,
     "metadata": {},
     "output_type": "execute_result"
    }
   ],
   "source": [
    "a = np.array([[1],[1]])\n",
    "b = np.array([[2],[2]])\n",
    "np.concatenate((a, b), axis=1)"
   ]
  },
  {
   "cell_type": "code",
   "execution_count": 149,
   "metadata": {},
   "outputs": [],
   "source": [
    "m = 2  # [kg]\n",
    "k1 = 3  # [N/m]\n",
    "k2 = 2  # [N/m]\n",
    "\n",
    "A = np.array([[0, 1], [-k2 / m, -k1 / m]])\n",
    "B = np.array([[0], [1 / m]])\n",
    "\n",
    "\n",
    "Q = np.diag([10, 1])\n",
    "R = np.diag([1])\n",
    "\n",
    "\n",
    "dt = 0.1\n",
    "disc_sys_fn = disc_linear_system(A,B, dt)\n",
    "nx = 2\n",
    "nu = 1\n",
    "\n",
    "\n",
    "n = 1\n",
    "L = 10\n",
    "T = (nu + 1) * (n + L + nx) - 1\n",
    "state_seq, input_seq = data_generation(disc_sys_fn, nx, nu, T)\n",
    "\n",
    "state_init = np.array([[5],[0]])\n",
    "y_init_seq, u_init_seq = data_generation(disc_sys_fn, nx, nu, n, state_init = state_ini)"
   ]
  },
  {
   "cell_type": "code",
   "execution_count": 150,
   "metadata": {},
   "outputs": [
    {
     "name": "stdout",
     "output_type": "stream",
     "text": [
      "2 25\n",
      "1 25\n"
     ]
    }
   ],
   "source": [
    "state_Hankel = Hankel(state_seq[:,:-1], L+n)\n",
    "input_Hankel = Hankel(input_seq, L+n)"
   ]
  },
  {
   "cell_type": "code",
   "execution_count": 151,
   "metadata": {},
   "outputs": [],
   "source": [
    "y_init = y_init_seq[:,:-1].reshape(-1,1, order = 'F')\n",
    "u_init = u_init_seq.reshape(-1,1, order = 'F')\n",
    "\n",
    "u_ns = np.array([[0]])  # terminal equalibrium constraints\n",
    "y_ns = np.array([[0],[0]])"
   ]
  },
  {
   "cell_type": "code",
   "execution_count": 152,
   "metadata": {},
   "outputs": [],
   "source": [
    "r = [0,0,0]"
   ]
  },
  {
   "cell_type": "code",
   "execution_count": 153,
   "metadata": {},
   "outputs": [],
   "source": [
    "prob, alpha, u_init_para, y_init_para = define_opt(nu, nx, Q, R, input_Hankel, state_Hankel, L, n, u_ns, y_ns, r = r)"
   ]
  },
  {
   "cell_type": "code",
   "execution_count": 154,
   "metadata": {},
   "outputs": [
    {
     "data": {
      "text/plain": [
       "array([[2.99874805]])"
      ]
     },
     "execution_count": 154,
     "metadata": {},
     "output_type": "execute_result"
    }
   ],
   "source": [
    "u_init"
   ]
  },
  {
   "cell_type": "code",
   "execution_count": 155,
   "metadata": {},
   "outputs": [
    {
     "data": {
      "text/plain": [
       "array([[5.],\n",
       "       [0.]])"
      ]
     },
     "execution_count": 155,
     "metadata": {},
     "output_type": "execute_result"
    }
   ],
   "source": [
    "y_init"
   ]
  },
  {
   "cell_type": "code",
   "execution_count": 156,
   "metadata": {},
   "outputs": [
    {
     "name": "stdout",
     "output_type": "stream",
     "text": [
      "\n",
      "\n",
      "Problem\n",
      "  Name                   :                 \n",
      "  Objective sense        : max             \n",
      "  Type                   : CONIC (conic optimization problem)\n",
      "  Constraints            : 68              \n",
      "  Cones                  : 20              \n",
      "  Scalar variables       : 109             \n",
      "  Matrix variables       : 0               \n",
      "  Integer variables      : 0               \n",
      "\n",
      "Optimizer started.\n",
      "Problem\n",
      "  Name                   :                 \n",
      "  Objective sense        : max             \n",
      "  Type                   : CONIC (conic optimization problem)\n",
      "  Constraints            : 68              \n",
      "  Cones                  : 20              \n",
      "  Scalar variables       : 109             \n",
      "  Matrix variables       : 0               \n",
      "  Integer variables      : 0               \n",
      "\n",
      "Optimizer  - threads                : 8               \n",
      "Optimizer  - solved problem         : the primal      \n",
      "Optimizer  - Constraints            : 33\n",
      "Optimizer  - Cones                  : 21\n",
      "Optimizer  - Scalar variables       : 74                conic                  : 74              \n",
      "Optimizer  - Semi-definite variables: 0                 scalarized             : 0               \n",
      "Factor     - setup time             : 0.00              dense det. time        : 0.00            \n",
      "Factor     - ML order time          : 0.00              GP order time          : 0.00            \n",
      "Factor     - nonzeros before factor : 345               after factor           : 345             \n",
      "Factor     - dense dim.             : 0                 flops                  : 1.44e+04        \n",
      "ITE PFEAS    DFEAS    GFEAS    PRSTATUS   POBJ              DOBJ              MU       TIME  \n",
      "0   9.0e+00  5.0e+00  2.1e+01  0.00e+00   -2.000000000e+01  0.000000000e+00   1.0e+00  0.00  \n",
      "1   4.2e+00  2.3e+00  1.2e+01  -7.33e-01  -1.908112552e+01  -2.940039551e+00  4.6e-01  0.01  \n",
      "2   2.6e+00  1.4e+00  1.1e+01  -7.60e-01  3.952147096e+01   5.796206678e+01   2.9e-01  0.02  \n",
      "3   5.0e-01  2.8e-01  4.1e+00  -8.79e-01  2.562139688e+02   2.613721788e+02   5.5e-02  0.02  \n",
      "4   1.2e-01  6.6e-02  2.2e+00  -8.69e-01  9.974435773e+02   9.574156510e+02   1.3e-02  0.02  \n",
      "5   2.1e-02  1.2e-02  8.5e-01  -9.62e-01  4.421214254e+03   4.138839063e+03   2.3e-03  0.02  \n",
      "6   6.3e-03  3.5e-03  3.6e-01  -7.85e-01  8.620464918e+03   8.017418620e+03   7.0e-04  0.02  \n",
      "7   2.6e-03  1.4e-03  1.3e-01  -2.61e-01  1.207675344e+04   1.164298776e+04   2.9e-04  0.02  \n",
      "8   4.2e-04  2.3e-04  1.3e-02  1.55e-01   1.734020986e+04   1.715898409e+04   4.6e-05  0.02  \n",
      "9   1.4e-05  7.6e-06  7.1e-05  8.79e-01   1.870675970e+04   1.870187472e+04   1.5e-06  0.02  \n",
      "10  1.5e-06  8.3e-07  2.5e-06  1.00e+00   1.874659520e+04   1.874606754e+04   1.7e-07  0.02  \n",
      "11  1.7e-07  9.3e-08  9.6e-08  1.00e+00   1.875096124e+04   1.875090213e+04   1.9e-08  0.02  \n",
      "12  2.6e-08  1.5e-08  5.9e-09  1.00e+00   1.875143934e+04   1.875143013e+04   2.9e-09  0.02  \n",
      "13  6.4e-09  3.6e-09  7.2e-10  1.00e+00   1.875150846e+04   1.875150620e+04   7.1e-10  0.02  \n",
      "14  9.7e-10  5.4e-10  4.2e-11  1.00e+00   1.875152759e+04   1.875152724e+04   1.1e-10  0.03  \n",
      "15  1.6e-10  2.6e-10  2.7e-12  1.00e+00   1.875153063e+04   1.875153057e+04   1.7e-11  0.03  \n",
      "16  6.3e-12  6.5e-10  3.6e-13  1.00e+00   1.875153119e+04   1.875153119e+04   7.7e-13  0.03  \n",
      "Optimizer terminated. Time: 0.04    \n",
      "\n",
      "\n",
      "Interior-point solution summary\n",
      "  Problem status  : PRIMAL_AND_DUAL_FEASIBLE\n",
      "  Solution status : OPTIMAL\n",
      "  Primal.  obj: 1.8751531189e+04    nrm: 8e+03    Viol.  con: 2e-07    var: 0e+00    cones: 0e+00  \n",
      "  Dual.    obj: 1.8751531186e+04    nrm: 4e+03    Viol.  con: 0e+00    var: 2e-10    cones: 0e+00  \n"
     ]
    },
    {
     "data": {
      "text/plain": [
       "array([[  2.99874805],\n",
       "       [-66.46060235],\n",
       "       [-57.58703869],\n",
       "       [-47.06799731],\n",
       "       [-34.67403793],\n",
       "       [-20.15087162],\n",
       "       [ -3.22188225],\n",
       "       [ 16.40917456],\n",
       "       [ 39.05441512],\n",
       "       [ 65.03697676],\n",
       "       [  0.        ]])"
      ]
     },
     "execution_count": 156,
     "metadata": {},
     "output_type": "execute_result"
    }
   ],
   "source": [
    "u_init_para.value = u_init\n",
    "# u_init_para.value = np.array([[6.19632452]])\n",
    "y_init_para.value = y_init\n",
    "prob.solve(solver=cp.MOSEK,verbose=True)\n",
    "input_Hankel @ alpha.value "
   ]
  },
  {
   "cell_type": "code",
   "execution_count": 157,
   "metadata": {},
   "outputs": [
    {
     "name": "stdout",
     "output_type": "stream",
     "text": [
      "[[5.]\n",
      " [0.]] 0\n",
      "[[ 4.67042844]\n",
      " [-3.29571562]] [[-66.46060235]]\n",
      "[[ 4.2555789 ]\n",
      " [-4.14849538]] [[-20.98992354]]\n",
      "[[ 3.75700212]\n",
      " [-4.98576785]] [[-24.18874867]]\n",
      "[[ 3.24485001]\n",
      " [-5.12152101]] [[-11.58992636]]\n",
      "[[ 2.74140111]\n",
      " [-5.03448906]] [[-7.88002598]]\n",
      "[[ 2.2711015 ]\n",
      " [-4.70299613]] [[-2.9369266]]\n",
      "[[ 1.84484644]\n",
      " [-4.26255053]] [[-0.28904671]]\n",
      "[[ 1.46931072]\n",
      " [-3.75535724]] [[1.81641546]]\n",
      "[[ 1.14590743]\n",
      " [-3.2340329 ]] [[3.01620288]]\n",
      "[[ 0.87327489]\n",
      " [-2.72632538]] [[3.7217241]]\n",
      "[[ 0.64793858]\n",
      " [-2.25336307]] [[3.99503404]]\n",
      "[[ 0.46529829]\n",
      " [-1.82640297]] [[3.99058969]]\n",
      "[[ 0.320178  ]\n",
      " [-1.45120281]] [[3.79075077]]\n",
      "[[ 0.207283  ]\n",
      " [-1.12895009]] [[3.4727702]]\n",
      "[[ 0.12149336]\n",
      " [-0.85789635]] [[3.09037256]]\n",
      "[[ 0.05805601]\n",
      " [-0.63437348]] [[2.6834488]]\n",
      "[[ 0.01269503]\n",
      " [-0.45360982]] [[2.27983382]]\n",
      "[[-0.0183367 ]\n",
      " [-0.31031732]] [[1.89822463]]\n",
      "[[-0.03824955]\n",
      " [-0.19912846]] [[1.54989288]]\n",
      "[[-0.04973721]\n",
      " [-0.11487667]] [[1.24093133]]\n",
      "[[-0.05501666]\n",
      " [-0.05279444]] [[0.97322788]]\n",
      "[[-0.05587651]\n",
      " [-0.00859856]] [[0.74636903]]\n",
      "[[-0.05373111]\n",
      " [ 0.02145399]] [[0.55795074]]\n",
      "[[-0.04967547]\n",
      " [ 0.04055642]] [[0.40436685]]\n",
      "[[-0.04453654]\n",
      " [ 0.05138937]] [[0.28175392]]\n",
      "[[-0.03892164]\n",
      " [ 0.05614898]] [[0.18579596]]\n",
      "[[-0.03326113]\n",
      " [ 0.05660511]] [[0.11241557]]\n",
      "[[-0.02784575]\n",
      " [ 0.05415375]] [[0.05774255]]\n",
      "[[-0.02285851]\n",
      " [ 0.0498724 ]] [[0.0182732]]\n",
      "[[-0.01840126]\n",
      " [ 0.04457256]] [[-0.00908151]]\n",
      "[[-0.01451645]\n",
      " [ 0.03884806]] [[-0.02697878]]\n",
      "[[-0.01120472]\n",
      " [ 0.03311728]] [[-0.03767326]]\n",
      "[[-0.00843849]\n",
      " [ 0.02766228]] [[-0.04299018]]\n",
      "[[-0.00617278]\n",
      " [ 0.02265718]] [[-0.04447586]]\n",
      "[[-0.00435299]\n",
      " [ 0.01819788]] [[-0.0432985]]\n",
      "[[-0.00292083]\n",
      " [ 0.01432157]] [[-0.04040297]]\n",
      "[[-0.00181829]\n",
      " [ 0.01102543]] [[-0.03648311]]\n",
      "[[-0.00099047]\n",
      " [ 0.00827817]] [[-0.03209166]]\n",
      "[[-0.00038717]\n",
      " [ 0.00603298]] [[-0.02757922]]\n",
      "[[3.61932870e-05]\n",
      " [4.23366054e-03]] [[-0.02321303]]\n",
      "[[0.0003183 ]\n",
      " [0.00282104]] [[-0.01915266]]\n",
      "[[0.00049194]\n",
      " [0.00173647]] [[-0.01549809]]\n",
      "[[0.00058442]\n",
      " [0.00092477]] [[-0.01229093]]\n",
      "[[0.00061799]\n",
      " [0.00033573]] [[-0.00953754]]\n",
      "[[ 6.10430806e-04]\n",
      " [-7.56379987e-05]] [[-0.00723345]]\n",
      "[[ 0.00057565]\n",
      " [-0.00034783]] [[-0.00533596]]\n",
      "[[ 0.0005243 ]\n",
      " [-0.00051349]] [[-0.00380506]]\n",
      "[[ 0.00046434]\n",
      " [-0.00059956]] [[-0.00259153]]\n",
      "[[ 0.00040152]\n",
      " [-0.00062819]] [[-0.00165407]]\n",
      "[[ 0.00033984]\n",
      " [-0.00061686]] [[-0.00094428]]\n",
      "[[ 0.00028191]\n",
      " [-0.00057928]] [[-0.00042248]]\n",
      "[[ 0.0002293 ]\n",
      " [-0.00052608]] [[-5.56974584e-05]]\n",
      "[[ 0.00018287]\n",
      " [-0.00046436]] [[0.00020722]]\n",
      "[[ 0.00014282]\n",
      " [-0.00040041]] [[0.00036342]]\n",
      "[[ 0.00010903]\n",
      " [-0.00033797]] [[0.00045283]]\n",
      "[[ 8.10512917e-05]\n",
      " [-2.79763732e-04]] [[0.00048699]]\n",
      "[[ 5.83315771e-05]\n",
      " [-2.27197146e-04]] [[0.0004864]]\n",
      "[[ 4.02384983e-05]\n",
      " [-1.80930788e-04]] [[0.00046301]]\n",
      "[[ 2.61277248e-05]\n",
      " [-1.41107735e-04]] [[0.00042539]]\n",
      "[[ 1.53751409e-05]\n",
      " [-1.07525839e-04]] [[0.00037981]]\n",
      "[[ 7.39977959e-06]\n",
      " [-7.97536132e-05]] [[0.00033098]]\n",
      "[[ 1.67730432e-06]\n",
      " [-5.72247528e-05]] [[0.00028226]]\n",
      "[[-2.26302482e-06]\n",
      " [-3.94032914e-05]] [[0.00023369]]\n",
      "[[-4.80890031e-06]\n",
      " [-2.54587549e-05]] [[0.0001929]]\n",
      "[[-6.29405687e-06]\n",
      " [-1.48515655e-05]] [[0.000155]]\n",
      "[[-6.99216794e-06]\n",
      " [-6.98111074e-06]] [[0.00012248]]\n",
      "[[-7.12625410e-06]\n",
      " [-1.34086165e-06]] [[9.45298887e-05]]\n",
      "[[-6.86659566e-06]\n",
      " [ 2.59658442e-06]] [[7.28054832e-05]]\n",
      "[[-6.35906488e-06]\n",
      " [ 5.07530787e-06]] [[5.2082263e-05]]\n",
      "[[-5.70867156e-06]\n",
      " [ 6.50393313e-06]] [[3.66669614e-05]]\n",
      "[[-4.99469701e-06]\n",
      " [ 7.13974556e-06]] [[2.41460914e-05]]\n",
      "[[-4.27265478e-06]\n",
      " [ 7.22042231e-06]] [[1.47294924e-05]]\n",
      "[[-3.58045233e-06]\n",
      " [ 6.92202443e-06]] [[7.63721097e-06]]\n",
      "[[-2.94194004e-06]\n",
      " [ 6.38512292e-06]] [[2.53345842e-06]]\n",
      "[[-2.37053903e-06]\n",
      " [ 5.71401009e-06]] [[-1.02130423e-06]]\n",
      "[[-1.87196229e-06]\n",
      " [ 4.98576739e-06]] [[-3.35147649e-06]]\n",
      "[[-1.44650073e-06]\n",
      " [ 4.25461562e-06]] [[-4.75219001e-06]]\n",
      "[[-1.09078194e-06]\n",
      " [ 3.55718788e-06]] [[-5.45855495e-06]]\n",
      "[[-7.99150428e-07]\n",
      " [ 2.91631514e-06]] [[-5.66681039e-06]]\n",
      "[[-5.64692086e-07]\n",
      " [ 2.34458342e-06]] [[-5.53026829e-06]]\n",
      "[[-3.79986966e-07]\n",
      " [ 1.84705120e-06]] [[-5.16946461e-06]]\n",
      "[[-2.37636761e-07]\n",
      " [ 1.42350205e-06]] [[-4.67575056e-06]]\n",
      "[[-1.30618210e-07]\n",
      " [ 1.07018551e-06]] [[-4.11701069e-06]]\n",
      "[[-5.25014746e-08]\n",
      " [ 7.81167358e-07]] [[-3.54186385e-06]]\n",
      "[[2.43222639e-09]\n",
      " [5.49337010e-07]] [[-2.98373147e-06]]\n",
      "[[3.91463998e-08]\n",
      " [3.67141735e-07]] [[-2.46418751e-06]]\n",
      "[[6.18563955e-08]\n",
      " [2.27099956e-07]] [[-1.99582291e-06]]\n",
      "[[7.40706303e-08]\n",
      " [1.22142348e-07]] [[-1.58458385e-06]]\n",
      "[[7.86526584e-08]\n",
      " [4.58202810e-08]] [[-1.23167519e-06]]\n",
      "[[ 7.78941987e-08]\n",
      " [-7.58459655e-09]] [[-9.35062943e-07]]\n",
      "[[ 7.35919152e-08]\n",
      " [-4.30228350e-08]] [[-6.90649443e-07]]\n",
      "[[ 6.71230702e-08]\n",
      " [-6.46884502e-08]] [[-4.93131514e-07]]\n",
      "[[ 5.95166148e-08]\n",
      " [-7.60645542e-08]] [[-3.36682514e-07]]\n",
      "[[ 5.15178771e-08]\n",
      " [-7.99873767e-08]] [[-2.15382826e-07]]\n",
      "[[ 4.36456755e-08]\n",
      " [-7.87220160e-08]] [[-1.23567484e-07]]\n",
      "[[ 3.62680237e-08]\n",
      " [-7.37765184e-08]] [[-4.98835542e-08]]\n",
      "[[ 2.95591677e-08]\n",
      " [-6.70885597e-08]] [[-8.38817142e-09]]\n",
      "[[ 2.36245409e-08]\n",
      " [-5.93462684e-08]] [[2.40561025e-08]]\n",
      "[[ 1.84920421e-08]\n",
      " [-5.13249875e-08]] [[4.34347413e-08]]\n"
     ]
    }
   ],
   "source": [
    "C = np.identity(nx)\n",
    "N_sim = 100\n",
    "ny = nx\n",
    "x_init = y_ini[-(nx):,:]\n",
    "x_list, u_list = sim(prob, disc_sys_fn, C, N_sim, dt, alpha, n, nu, ny, u_init, y_init, u_init_para, y_init_para, x_init, input_Hankel)"
   ]
  },
  {
   "cell_type": "code",
   "execution_count": 158,
   "metadata": {},
   "outputs": [
    {
     "data": {
      "image/png": "[encoded data removed]",
      "text/plain": [
       "<Figure size 720x1440 with 2 Axes>"
      ]
     },
     "metadata": {
      "needs_background": "light"
     },
     "output_type": "display_data"
    }
   ],
   "source": [
    "delta_t = dt\n",
    "n = nx\n",
    "\n",
    "x_traj = x_list\n",
    "\n",
    "Nt = np.shape(x_traj[::n])[0]\n",
    "t_plot = [delta_t * i for i in range(Nt)]\n",
    "\n",
    "plt.figure(1, figsize=(10, 20))\n",
    "plt.clf()\n",
    "for i in range (n):\n",
    "    plt.subplot( str(n) + str(1) + str(i + 1) )\n",
    "    plt.grid()\n",
    "    x_traj_temp = x_traj[i::n]\n",
    "    plt.plot(t_plot, x_traj_temp)\n",
    "    plt.ylabel('x' + str(i + 1))\n",
    "\n",
    "plt.xlabel('t')\n",
    "plt.show()"
   ]
  },
  {
   "cell_type": "code",
   "execution_count": 159,
   "metadata": {},
   "outputs": [
    {
     "data": {
      "image/png": "[encoded data removed]",
      "text/plain": [
       "<Figure size 360x720 with 1 Axes>"
      ]
     },
     "metadata": {
      "needs_background": "light"
     },
     "output_type": "display_data"
    }
   ],
   "source": [
    "delta_t = dt\n",
    "n = nu\n",
    "\n",
    "u_traj = u_list\n",
    "\n",
    "Nt = np.shape(u_traj[::n])[0]\n",
    "t_plot = [delta_t * i for i in range(Nt)]\n",
    "\n",
    "plt.figure(1, figsize=(5, 10))\n",
    "plt.clf()\n",
    "for i in range (n):\n",
    "    plt.subplot( str(n) + str(1) + str(i + 1) )\n",
    "    plt.grid()\n",
    "    u_traj_temp = u_traj[i::n]\n",
    "    plt.plot(t_plot, u_traj_temp)\n",
    "    plt.ylabel('u' + str(i + 1))\n",
    "\n",
    "plt.xlabel('t')\n",
    "plt.show()"
   ]
  },
  {
   "cell_type": "markdown",
   "metadata": {},
   "source": [
    "Second case study: four tank system (case study in their paper)\n",
    "\n",
    "It is the linear version of the nonlinear four tank system (ref: Nonlinear Model Predictive Control of a Four Tank System: An Experimental Stability Study)."
   ]
  },
  {
   "cell_type": "markdown",
   "metadata": {},
   "source": [
    "$\\begin{aligned} \\dot{x}_{1} &=-\\frac{a_{1}}{A_{1}} \\sqrt{2 g x_{1}}+\\frac{a_{3}}{A_{1}} \\sqrt{2 g x_{3}}+\\frac{\\gamma_{1}}{A_{1}} u_{1} \\\\ \\dot{x}_{2} &=-\\frac{a_{2}}{A_{2}} \\sqrt{2 g x_{2}}+\\frac{a_{4}}{A_{2}} \\sqrt{2 g x_{4}}+\\frac{\\gamma_{2}}{A_{2}} u_{2} \\\\ \\dot{x}_{3} &=-\\frac{a_{3}}{A_{3}} \\sqrt{2 g x_{3}}+\\frac{\\left(1-\\gamma_{2}\\right)}{A_{3}} u_{2} \\\\ \\dot{x}_{4} &=-\\frac{a_{4}}{A_{4}} \\sqrt{2 g x_{4}}+\\frac{\\left(1-\\gamma_{1}\\right)}{A_{4}} u_{1} \\end{aligned}$"
   ]
  },
  {
   "cell_type": "markdown",
   "metadata": {},
   "source": [
    "Linearized version (ref: Data-Driven Model Predictive Control with Stability and Robustness Guarantees)"
   ]
  },
  {
   "cell_type": "markdown",
   "metadata": {},
   "source": [
    "$ x_{k+1} =\\left[\\begin{array}{cccc}0.921 & 0 & 0.041 & 0 \\\\ 0 & 0.918 & 0 & 0.033 \\\\ 0 & 0 & 0.924 & 0 \\\\ 0 & 0 & 0 & 0.937\\end{array}\\right] x_{k} +\\left[\\begin{array}{cc}0.017 & 0.001 \\\\ 0.001 & 0.023 \\\\ 0 & 0.061 \\\\ 0.072 & 0\\end{array}\\right] u_{k}$\n",
    "\n",
    "$y_{k}=\\left[\\begin{array}{llll}1 & 0 & 0 & 0 \\\\ 0 & 1 & 0 & 0\\end{array}\\right] x_{k}$\n",
    "\n",
    "set point: $\\left(u^{s}, y^{s}\\right)=\\left(\\left[\\begin{array}{l}1 \\\\ 1\\end{array}\\right],\\left[\\begin{array}{l}0.65 \\\\ 0.77\\end{array}\\right]\\right)$"
   ]
  }
 ],
 "metadata": {
  "kernelspec": {
   "display_name": "Python 3",
   "language": "python",
   "name": "python3"
  },
  "language_info": {
   "codemirror_mode": {
    "name": "ipython",
    "version": 3
   },
   "file_extension": ".py",
   "mimetype": "text/x-python",
   "name": "python",
   "nbconvert_exporter": "python",
   "pygments_lexer": "ipython3",
   "version": "3.7.7"
  }
 },
 "nbformat": 4,
 "nbformat_minor": 4
}
