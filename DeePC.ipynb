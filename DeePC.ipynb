{
 "cells": [
  {
   "cell_type": "code",
   "execution_count": 1,
   "metadata": {},
   "outputs": [],
   "source": [
    "import numpy as np\n",
    "import mosek\n",
    "import cvxpy as cp\n",
    "import casadi as ca\n",
    "from scipy.linalg import hankel\n",
    "import matplotlib.pyplot as plt"
   ]
  },
  {
   "cell_type": "code",
   "execution_count": 2,
   "metadata": {},
   "outputs": [],
   "source": [
    "def disc_linear_system(A, B, delta_t):\n",
    "    '''\n",
    "    Discrete a linear system with implicit Euler\n",
    "    x[k+1] = (I - delta_t * A)^{-1} @ x[k] + (I - delta_t * A)^{-1} @ (delta_t * B) @ u[k]\n",
    "    Returns:\n",
    "        Ak\n",
    "        Bk\n",
    "    '''\n",
    "    Nx = np.shape(A)[0]\n",
    "    Ix = np.identity(Nx)\n",
    "\n",
    "    Ak = np.linalg.inv(Ix - delta_t * A)\n",
    "    Bk = np.linalg.inv(Ix - delta_t * A) @ (delta_t * B)\n",
    "\n",
    "    \n",
    "    def disc_linear_fn(x, u):\n",
    "        x_next = Ak @ x + Bk @ u\n",
    "        \n",
    "        return x_next\n",
    "    \n",
    "    \n",
    "    return disc_linear_fn"
   ]
  },
  {
   "cell_type": "code",
   "execution_count": 3,
   "metadata": {},
   "outputs": [],
   "source": [
    "# def inverted_pendulum_ode(x, u):\n",
    "#     M  = 1.096\n",
    "#     m = 0.109\n",
    "#     l = 0.25\n",
    "#     b = 0.1\n",
    "#     g = 9.81\n",
    "#     I = 0.0034\n",
    "\n",
    "#     p = I * (M + m) + M * m * l ** 2\n",
    "\n",
    "#     A = np.array([[0, 1, 0, 0],\n",
    "#                   [0, -(I+m*l**2)*b/p,  (m**2*g*l**2)/p,   0],\n",
    "#                   [0, 0, 0, 1],\n",
    "#                   [0, -(m*l*b)/p,       m*g*l*(M+m)/p,  0]])\n",
    "#     B = np.array([[0], [(I+m*l**2)/p], [0], [m*l/p]])\n",
    "\n",
    "#     dot_x = A @ x + B @ u\n",
    "\n",
    "#     return dot_x"
   ]
  },
  {
   "cell_type": "code",
   "execution_count": 4,
   "metadata": {},
   "outputs": [],
   "source": [
    "# Collect data as initial condition\n",
    "def data_generation(sys, n, m, T, state_init = None, input_seq = None):\n",
    "    # T is the length of collected data\n",
    "    # Modify this for measurement functions (y = Cx)\n",
    "    if input_seq is None:\n",
    "        input_seq = np.random.rand(m, T) *10\n",
    "    N_it = np.shape(input_seq)[1] # Number of iteration\n",
    "    if state_init is None:\n",
    "        state_init = np.random.rand(n,1) *10\n",
    "    state_seq = state_init\n",
    "    xk = state_init\n",
    "    for _ in range(N_it):\n",
    "        uk = input_seq[:,_].reshape(-1,m)\n",
    "        state_next = sys(xk, uk)\n",
    "        state_seq = np.append(state_seq, state_next,axis=1)\n",
    "        xk = state_next\n",
    "    # Remark: the length of state_seq is larger than the input_seq by one.\n",
    "    return state_seq, input_seq"
   ]
  },
  {
   "cell_type": "code",
   "execution_count": 5,
   "metadata": {},
   "outputs": [],
   "source": [
    "# Construct Hankel matrix\n",
    "def Hankel(sequence, L):\n",
    "    n, T = np.shape(sequence)\n",
    "    print(n,T)\n",
    "    Hankel_matrix = np.empty((n * L, 0), dtype = float)\n",
    "    for _ in range(T-L+1):\n",
    "        Hankel_matrix = np.append(Hankel_matrix, sequence[: , _ : _+L ].reshape(-1,1, order = 'F'),axis = 1)\n",
    "    return Hankel_matrix\n",
    "        "
   ]
  },
  {
   "cell_type": "code",
   "execution_count": 6,
   "metadata": {},
   "outputs": [],
   "source": [
    "# Split matrix in to two part\n",
    "def Hankel_split(Hankel_matrix, n, T_ini):\n",
    "    # n is is the dim of the state (or input, output), T_ini stand for the length of the first part\n",
    "    Hankel_p = Hankel_matrix[:T_ini * n,:] # \"past\"\n",
    "    Hankel_f = Hankel_matrix[T_ini * n:,:] # \"future\"\n",
    "    return Hankel_p, Hankel_f"
   ]
  },
  {
   "cell_type": "code",
   "execution_count": 7,
   "metadata": {},
   "outputs": [],
   "source": [
    "# # Formulate optimization problem\n",
    "# def define_opt(nu, ny, Q, R, r, U_Hankel, Y_Hankel, u_ini, y_ini, T, T_ini, N, uub = None, ulb = None, yub = None, ylb = None):\n",
    "#     # Let the reference traj r be a set point here. To be modified, if tracking traj required.\n",
    "    \n",
    "#     u_decision = cp.Variable((N*nu,1))\n",
    "#     y_decision = cp.Variable((N*ny,1))\n",
    "    \n",
    "#     L = T_ini + N\n",
    "    \n",
    "#     g = cp.Variable((T-L+1,1))\n",
    "    \n",
    "#     # Split matrices\n",
    "#     Up, Uf = Hankel_split(U_Hankel,nu, T_ini)\n",
    "#     Yp, Yf = Hankel_split(Y_Hankel,ny, T_ini)\n",
    "    \n",
    "#     loss_func = 0\n",
    "#     for _ in range(N):\n",
    "# #         loss_func += (y_decision[_ * ny : ( _ + 1 ) * ny ,:] - r).T @ Q @ (y_decision[_ * ny : ( _ + 1 ) * ny ,:] - r)\n",
    "#         loss_func += cp.quad_form(y_decision[_ * ny : ( _ + 1 ) * ny ,:] - r, Q)\n",
    "#         loss_func += cp.quad_form(u_decision[_ * nu : ( _ + 1 ) * nu ,:], R)\n",
    "# #         loss_func += (y_decision[_ * ny : ( _ + 1 ) * ny ,:] ).T  @ (y_decision[_ * ny : ( _ + 1 ) * ny ,:])\n",
    "# #         loss_func += (u_decision[_ * nu : ( _ + 1 ) * nu ,:]).T  @ (u_decision[_ * nu : ( _ + 1 ) * nu ,:])\n",
    "\n",
    "#     obj = cp.Minimize(loss_func)\n",
    "#     # Define constraints\n",
    "#     constraint = []\n",
    "    \n",
    "#     constraint += [ Up @ g == u_ini ]\n",
    "#     constraint += [ Yp @ g == y_ini ]\n",
    "#     constraint += [ Uf @ g == u_decision ]\n",
    "#     constraint += [ Yf @ g == y_decision ]\n",
    "    \n",
    "#     if uub is not None:\n",
    "#         for _ in range(N):\n",
    "#             constraint += [u_decision[_ * nu : ( _ + 1 ) * nu ,:] <= uub]\n",
    "    \n",
    "#     if ulb is not None:\n",
    "#         for _ in range(N):\n",
    "#             constraint += [u_decision[_ * nu : ( _ + 1 ) * nu ,:] >= ulb]\n",
    "\n",
    "#     if yub is not None:\n",
    "#         for _ in range(N):\n",
    "#             constraint += [y_decision[_ * ny : ( _ + 1 ) * ny ,:] <= yub]\n",
    "            \n",
    "#     if ylb is not None:\n",
    "#         for _ in range(N):\n",
    "#             constraint += [y_decision[_ * ny : ( _ + 1 ) * ny ,:] >= ylb]\n",
    "            \n",
    "#     prob = cp.Problem(obj,constraint)\n",
    "    \n",
    "#     return prob, g"
   ]
  },
  {
   "cell_type": "code",
   "execution_count": 8,
   "metadata": {},
   "outputs": [],
   "source": [
    "# Formulate optimization problem\n",
    "def define_opt(nu, ny, Q, R, r, U_Hankel, Y_Hankel, T, T_ini, N, uub = None, ulb = None, yub = None, ylb = None):\n",
    "    # Let the reference traj r be a set point here. To be modified, if tracking traj required.\n",
    "    \n",
    "    u_decision = cp.Variable((N*nu,1))\n",
    "    y_decision = cp.Variable((N*ny,1))\n",
    "    \n",
    "    L = T_ini + N\n",
    "    \n",
    "    g = cp.Variable((T-L+1,1))\n",
    "    \n",
    "    u_ini_para = cp.Parameter((T_ini * nu, 1))\n",
    "    y_ini_para = cp.Parameter((T_ini * ny, 1))\n",
    "    \n",
    "    # Split matrices\n",
    "    Up, Uf = Hankel_split(U_Hankel, nu, T_ini)\n",
    "    Yp, Yf = Hankel_split(Y_Hankel, ny, T_ini)\n",
    "    \n",
    "    loss_func = 0\n",
    "    for _ in range(N):\n",
    "#         loss_func += (y_decision[_ * ny : ( _ + 1 ) * ny ,:] - r).T @ Q @ (y_decision[_ * ny : ( _ + 1 ) * ny ,:] - r)\n",
    "        loss_func += cp.quad_form(y_decision[_ * ny : ( _ + 1 ) * ny ,:] - r, Q)\n",
    "        loss_func += cp.quad_form(u_decision[_ * nu : ( _ + 1 ) * nu ,:], R)\n",
    "\n",
    "    obj = cp.Minimize(loss_func)\n",
    "    # Define constraints\n",
    "    constraint = []\n",
    "    \n",
    "    constraint += [ Up @ g == u_ini_para ]\n",
    "    constraint += [ Yp @ g == y_ini_para ]\n",
    "    constraint += [ Uf @ g == u_decision ]\n",
    "    constraint += [ Yf @ g == y_decision ]\n",
    "    \n",
    "    if uub is not None:\n",
    "        for _ in range(N):\n",
    "            constraint += [u_decision[_ * nu : ( _ + 1 ) * nu ,:] <= uub]\n",
    "    \n",
    "    if ulb is not None:\n",
    "        for _ in range(N):\n",
    "            constraint += [u_decision[_ * nu : ( _ + 1 ) * nu ,:] >= ulb]\n",
    "\n",
    "    if yub is not None:\n",
    "        for _ in range(N):\n",
    "            constraint += [y_decision[_ * ny : ( _ + 1 ) * ny ,:] <= yub]\n",
    "            \n",
    "    if ylb is not None:\n",
    "        for _ in range(N):\n",
    "            constraint += [y_decision[_ * ny : ( _ + 1 ) * ny ,:] >= ylb]\n",
    "            \n",
    "    prob = cp.Problem(obj,constraint)\n",
    "    \n",
    "    return prob, g, u_ini_para, y_ini_para"
   ]
  },
  {
   "cell_type": "code",
   "execution_count": 9,
   "metadata": {},
   "outputs": [],
   "source": [
    "# Simulation\n",
    "def sim(opt_prob, sys, C, N_sim, delta_t, g, nu, ny, u_ini, y_ini, u_ini_para, y_ini_para, x_init, r = None):\n",
    "    # Generally, u_ini and y_ini are sequences, and x_init is the corresponding initial state of the last element in sequences\n",
    "    t0 = 0\n",
    "    xk = x_init\n",
    "    uk = 0\n",
    "    t = t0\n",
    "    h = delta_t\n",
    "\n",
    "    x_list = []\n",
    "    x_list += xk.flatten().tolist()\n",
    "    u_list = []\n",
    "\n",
    "    # N_sample_max\n",
    "    for i in range(N_sim):\n",
    "        u_ini_para.value = u_ini\n",
    "        y_ini_para.value = y_ini\n",
    "        prob.solve(solver=cp.MOSEK)\n",
    "\n",
    "        uk = (Uf @ g.value)[:nu,:]\n",
    "        u_list += uk.flatten().tolist()\n",
    "        x_kp1 = sys(xk, uk)\n",
    "        xk = x_kp1\n",
    "        yk = C @ xk\n",
    "        u_ini = np.append( u_ini[nu:,:], uk, axis = 0 )\n",
    "        y_ini = np.append( y_ini[ny:,:], yk, axis = 0 )\n",
    "        x_list += xk.flatten().tolist()\n",
    "\n",
    "    return x_list, u_list"
   ]
  },
  {
   "cell_type": "code",
   "execution_count": 10,
   "metadata": {},
   "outputs": [],
   "source": [
    "# M  = 1.096\n",
    "# m = 0.109\n",
    "# l = 0.25\n",
    "# b = 0.1\n",
    "# g = 9.81\n",
    "# I = 0.0034\n",
    "\n",
    "# p = I * (M + m) + M * m * l ** 2\n",
    "\n",
    "# A = np.array([[0, 1, 0, 0],\n",
    "#               [0, -(I+m*l**2)*b/p,  (m**2*g*l**2)/p,   0],\n",
    "#               [0, 0, 0, 1],\n",
    "#               [0, -(m*l*b)/p,       m*g*l*(M+m)/p,  0]])\n",
    "# B = np.array([[0], [(I+m*l**2)/p], [0], [m*l/p]])\n",
    "\n",
    "m = 2  # [kg]\n",
    "k1 = 3  # [N/m]\n",
    "k2 = 2  # [N/m]\n",
    "\n",
    "A = np.array([[0, 1], [-k2 / m, -k1 / m]])\n",
    "B = np.array([[0], [1 / m]])\n",
    "\n",
    "\n",
    "Q = np.diag([10, 1])\n",
    "R = np.diag([1])\n",
    "\n",
    "\n",
    "dt = 0.1\n",
    "disc_sys_fn = disc_linear_system(A,B, dt)\n",
    "nx = 2\n",
    "nu = 1\n",
    "\n",
    "r = np.array([0]*nx).reshape(-1,1)\n",
    "\n",
    "\n",
    "T_ini = 1\n",
    "N = 5\n",
    "T = (nu + 1) * (T_ini + N + nx) - 1\n",
    "L = T_ini + N\n",
    "state_seq, input_seq = data_generation(disc_sys_fn, nx, nu, T)"
   ]
  },
  {
   "cell_type": "code",
   "execution_count": 11,
   "metadata": {},
   "outputs": [
    {
     "data": {
      "text/plain": [
       "(2, 16)"
      ]
     },
     "execution_count": 11,
     "metadata": {},
     "output_type": "execute_result"
    }
   ],
   "source": [
    "state_seq.shape"
   ]
  },
  {
   "cell_type": "code",
   "execution_count": 12,
   "metadata": {},
   "outputs": [
    {
     "data": {
      "text/plain": [
       "(1, 15)"
      ]
     },
     "execution_count": 12,
     "metadata": {},
     "output_type": "execute_result"
    }
   ],
   "source": [
    "input_seq.shape"
   ]
  },
  {
   "cell_type": "code",
   "execution_count": 13,
   "metadata": {},
   "outputs": [
    {
     "name": "stdout",
     "output_type": "stream",
     "text": [
      "2 15\n",
      "1 15\n"
     ]
    }
   ],
   "source": [
    "state_Hankel = Hankel(state_seq[:,:-1], L)\n",
    "input_Hankel = Hankel(input_seq, L)"
   ]
  },
  {
   "cell_type": "code",
   "execution_count": 14,
   "metadata": {},
   "outputs": [],
   "source": [
    "# u_ini = np.array([0] * T_ini).reshape(1,-1)\n",
    "state_ini = np.array([[5],[0]])\n",
    "y_ini_seq, u_ini_seq = data_generation(disc_sys_fn, nx, nu, T_ini, state_init = state_ini)\n",
    "y_ini = y_ini_seq[:,:-1].reshape(-1,1, order = 'F')\n",
    "u_ini = u_ini_seq.reshape(-1,1, order = 'F')"
   ]
  },
  {
   "cell_type": "code",
   "execution_count": 15,
   "metadata": {},
   "outputs": [],
   "source": [
    "prob, g, u_ini_para, y_ini_para = define_opt(nu, nx, Q, R, r, input_Hankel, state_Hankel, T, T_ini, N, uub = None, ulb = None, yub = None, ylb = None)"
   ]
  },
  {
   "cell_type": "code",
   "execution_count": 16,
   "metadata": {},
   "outputs": [
    {
     "data": {
      "text/plain": [
       "array([[6.19632452]])"
      ]
     },
     "execution_count": 16,
     "metadata": {},
     "output_type": "execute_result"
    }
   ],
   "source": [
    "u_ini"
   ]
  },
  {
   "cell_type": "code",
   "execution_count": 17,
   "metadata": {},
   "outputs": [
    {
     "data": {
      "text/plain": [
       "array([[5.],\n",
       "       [0.]])"
      ]
     },
     "execution_count": 17,
     "metadata": {},
     "output_type": "execute_result"
    }
   ],
   "source": [
    "y_ini"
   ]
  },
  {
   "cell_type": "code",
   "execution_count": 18,
   "metadata": {},
   "outputs": [
    {
     "name": "stdout",
     "output_type": "stream",
     "text": [
      "\n",
      "\n",
      "Problem\n",
      "  Name                   :                 \n",
      "  Objective sense        : max             \n",
      "  Type                   : CONIC (conic optimization problem)\n",
      "  Constraints            : 35              \n",
      "  Cones                  : 10              \n",
      "  Scalar variables       : 53              \n",
      "  Matrix variables       : 0               \n",
      "  Integer variables      : 0               \n",
      "\n",
      "Optimizer started.\n",
      "Problem\n",
      "  Name                   :                 \n",
      "  Objective sense        : max             \n",
      "  Type                   : CONIC (conic optimization problem)\n",
      "  Constraints            : 35              \n",
      "  Cones                  : 10              \n",
      "  Scalar variables       : 53              \n",
      "  Matrix variables       : 0               \n",
      "  Integer variables      : 0               \n",
      "\n",
      "Optimizer  - threads                : 8               \n",
      "Optimizer  - solved problem         : the primal      \n",
      "Optimizer  - Constraints            : 18\n",
      "Optimizer  - Cones                  : 11\n",
      "Optimizer  - Scalar variables       : 39                conic                  : 39              \n",
      "Optimizer  - Semi-definite variables: 0                 scalarized             : 0               \n",
      "Factor     - setup time             : 0.00              dense det. time        : 0.00            \n",
      "Factor     - ML order time          : 0.00              GP order time          : 0.00            \n",
      "Factor     - nonzeros before factor : 126               after factor           : 126             \n",
      "Factor     - dense dim.             : 0                 flops                  : 3.34e+03        \n",
      "ITE PFEAS    DFEAS    GFEAS    PRSTATUS   POBJ              DOBJ              MU       TIME  \n",
      "0   9.0e+00  6.2e+00  1.1e+01  0.00e+00   -1.000000000e+01  0.000000000e+00   1.0e+00  0.00  \n",
      "1   3.9e+00  2.7e+00  6.2e+00  -7.41e-01  -6.716108423e+00  9.064339832e-01   4.4e-01  0.02  \n",
      "2   1.6e+00  1.1e+00  4.2e+00  -8.32e-01  4.675976380e+01   5.278833739e+01   1.7e-01  0.02  \n",
      "3   2.3e-01  1.6e-01  1.2e+00  -8.02e-01  2.831520879e+02   2.718689736e+02   2.5e-02  0.02  \n",
      "4   5.2e-02  3.6e-02  3.0e-01  -3.15e-01  6.728552180e+02   6.536062430e+02   5.7e-03  0.02  \n",
      "5   2.2e-02  1.5e-02  1.2e-01  1.06e-01   8.726577259e+02   8.564079976e+02   2.4e-03  0.02  \n",
      "6   1.8e-03  1.3e-03  3.5e-03  6.00e-01   1.127794001e+03   1.125470137e+03   2.0e-04  0.02  \n",
      "7   1.3e-04  8.9e-05  7.0e-05  9.46e-01   1.154709976e+03   1.154530029e+03   1.4e-05  0.02  \n",
      "8   8.2e-06  5.6e-06  1.1e-06  9.92e-01   1.156745743e+03   1.156734202e+03   9.1e-07  0.02  \n",
      "9   2.8e-07  1.9e-07  7.1e-09  9.99e-01   1.156880003e+03   1.156879606e+03   3.1e-08  0.02  \n",
      "10  5.9e-09  4.1e-09  2.2e-11  1.00e+00   1.156884711e+03   1.156884703e+03   6.6e-10  0.02  \n",
      "11  1.5e-10  1.0e-10  7.4e-14  1.00e+00   1.156884812e+03   1.156884812e+03   1.6e-11  0.02  \n",
      "Optimizer terminated. Time: 0.03    \n",
      "\n",
      "\n",
      "Interior-point solution summary\n",
      "  Problem status  : PRIMAL_AND_DUAL_FEASIBLE\n",
      "  Solution status : OPTIMAL\n",
      "  Primal.  obj: 1.1568848117e+03    nrm: 5e+02    Viol.  con: 7e-08    var: 0e+00    cones: 0e+00  \n",
      "  Dual.    obj: 1.1568848115e+03    nrm: 3e+01    Viol.  con: 0e+00    var: 5e-10    cones: 0e+00  \n"
     ]
    },
    {
     "data": {
      "text/plain": [
       "1156.8848117304174"
      ]
     },
     "execution_count": 18,
     "metadata": {},
     "output_type": "execute_result"
    }
   ],
   "source": [
    "u_ini_para.value = u_ini\n",
    "y_ini_para.value = y_ini\n",
    "\n",
    "\n",
    "# y_ini_para.value = np.array([[ 5.        ],\n",
    "#        [ 0.        ],\n",
    "#        [ 4.95942492],\n",
    "#        [-0.40575078],\n",
    "#        [ 4.8829769 ],\n",
    "#        [-0.76448019]])\n",
    "\n",
    "# u_ini_para.value =  np.array([[ 0.2979251 ], [ 0.32541827], [-0.30906273]])\n",
    "# u_ini_para.value =  np.array([[ 0.2979251 ], [ 0.32541827], [-0.30906273]])\n",
    "# y_ini_para.value = np.array([[ 4.95942492],\n",
    "#  [-0.40575078],\n",
    "#  [ 4.8829769 ],\n",
    "#  [-0.76448019],\n",
    "#  [ 4.77364664],\n",
    "#  [-1.0933026 ]])\n",
    "prob.solve(solver=cp.MOSEK,verbose=True)\n",
    "\n"
   ]
  },
  {
   "cell_type": "code",
   "execution_count": 19,
   "metadata": {},
   "outputs": [],
   "source": [
    "g.value\n",
    "Up, Uf = Hankel_split(input_Hankel, nu, T_ini)"
   ]
  },
  {
   "cell_type": "code",
   "execution_count": 20,
   "metadata": {},
   "outputs": [
    {
     "data": {
      "text/plain": [
       "array([[-1.59118655e+00],\n",
       "       [-9.45112254e-01],\n",
       "       [-4.51032935e-01],\n",
       "       [-1.29026640e-01],\n",
       "       [ 6.16906703e-09]])"
      ]
     },
     "execution_count": 20,
     "metadata": {},
     "output_type": "execute_result"
    }
   ],
   "source": [
    "(Uf @ g.value )"
   ]
  },
  {
   "cell_type": "code",
   "execution_count": 21,
   "metadata": {},
   "outputs": [
    {
     "data": {
      "text/plain": [
       "array([[5.],\n",
       "       [0.]])"
      ]
     },
     "execution_count": 21,
     "metadata": {},
     "output_type": "execute_result"
    }
   ],
   "source": [
    "y_ini"
   ]
  },
  {
   "cell_type": "code",
   "execution_count": 22,
   "metadata": {},
   "outputs": [
    {
     "data": {
      "text/plain": [
       "array([[5.],\n",
       "       [0.]])"
      ]
     },
     "execution_count": 22,
     "metadata": {},
     "output_type": "execute_result"
    }
   ],
   "source": [
    "x_init = y_ini[-nx:,:]\n",
    "x_init"
   ]
  },
  {
   "cell_type": "code",
   "execution_count": 23,
   "metadata": {},
   "outputs": [],
   "source": [
    "C = np.identity(nx)\n",
    "N_sim = 100\n",
    "ny = nx\n",
    "x_init = y_ini[-(nx):,:]\n",
    "x_list, u_list = sim(prob, disc_sys_fn, C, N_sim, dt, g, nu, ny, u_ini, y_ini, u_ini_para, y_ini_para, x_init)"
   ]
  },
  {
   "cell_type": "code",
   "execution_count": 24,
   "metadata": {},
   "outputs": [],
   "source": [
    "# x_list"
   ]
  },
  {
   "cell_type": "code",
   "execution_count": 25,
   "metadata": {},
   "outputs": [
    {
     "data": {
      "image/png": "[encoded data removed]",
      "text/plain": [
       "<Figure size 720x1440 with 2 Axes>"
      ]
     },
     "metadata": {
      "needs_background": "light"
     },
     "output_type": "display_data"
    }
   ],
   "source": [
    "\n",
    "delta_t = dt\n",
    "n = nx\n",
    "\n",
    "x_traj = x_list\n",
    "\n",
    "Nt = np.shape(x_traj[::n])[0]\n",
    "t_plot = [delta_t * i for i in range(Nt)]\n",
    "\n",
    "plt.figure(1, figsize=(10, 20))\n",
    "plt.clf()\n",
    "for i in range (n):\n",
    "    plt.subplot( str(n) + str(1) + str(i + 1) )\n",
    "    plt.grid()\n",
    "    x_traj_temp = x_traj[i::n]\n",
    "    plt.plot(t_plot, x_traj_temp)\n",
    "    plt.ylabel('x' + str(i + 1))\n",
    "\n",
    "plt.xlabel('t')\n",
    "plt.show()"
   ]
  },
  {
   "cell_type": "code",
   "execution_count": 26,
   "metadata": {},
   "outputs": [
    {
     "data": {
      "image/png": "[encoded data removed]",
      "text/plain": [
       "<Figure size 720x1440 with 1 Axes>"
      ]
     },
     "metadata": {
      "needs_background": "light"
     },
     "output_type": "display_data"
    }
   ],
   "source": [
    "delta_t = dt\n",
    "n = nu\n",
    "\n",
    "u_traj = u_list\n",
    "\n",
    "Nt = np.shape(u_traj[::n])[0]\n",
    "t_plot = [delta_t * i for i in range(Nt)]\n",
    "\n",
    "plt.figure(1, figsize=(10, 20))\n",
    "plt.clf()\n",
    "for i in range (n):\n",
    "    plt.subplot( str(n) + str(1) + str(i + 1) )\n",
    "    plt.grid()\n",
    "    u_traj_temp = u_traj[i::n]\n",
    "    plt.plot(t_plot, u_traj_temp)\n",
    "    plt.ylabel('u' + str(i + 1))\n",
    "\n",
    "plt.xlabel('t')\n",
    "plt.show()"
   ]
  }
 ],
 "metadata": {
  "kernelspec": {
   "display_name": "Python 3",
   "language": "python",
   "name": "python3"
  },
  "language_info": {
   "codemirror_mode": {
    "name": "ipython",
    "version": 3
   },
   "file_extension": ".py",
   "mimetype": "text/x-python",
   "name": "python",
   "nbconvert_exporter": "python",
   "pygments_lexer": "ipython3",
   "version": "3.7.7"
  }
 },
 "nbformat": 4,
 "nbformat_minor": 5
}
