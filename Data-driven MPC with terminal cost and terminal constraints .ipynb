{
 "cells": [
  {
   "cell_type": "code",
   "execution_count": 86,
   "metadata": {},
   "outputs": [],
   "source": [
    "import numpy as np\n",
    "import mosek\n",
    "import cvxpy as cp\n",
    "import matplotlib.pyplot as plt\n",
    "from scipy.linalg import expm,cholesky,block_diag"
   ]
  },
  {
   "cell_type": "markdown",
   "metadata": {},
   "source": [
    "Ref: On the design of terminal ingredients for data-driven MPC"
   ]
  },
  {
   "cell_type": "markdown",
   "metadata": {},
   "source": [
    "Proposition 10 in the paper states how to design the terminal ingredients to stabilize the closed-loop system\n",
    "$ \\left[ \\begin{array}{cc}\\left(\\tau \\bar{P}_{\\Delta}^{w}-\\left[\\begin{array}{cc}\\mathcal{X} & 0 \\\\ 0 & 0\\end{array}\\right]\\right)& \\left[\\begin{array}{c}A^{\\prime} \\mathcal{X}+B^{\\prime} M \\\\ \\mathcal{X} \\\\ M\\end{array}\\right] & 0 \\\\ \\star & -\\mathcal{X} & {\\left[\\begin{array}{c}Q_{r} \\mathcal{X} \\\\ R_{r} M\\end{array}\\right]^{\\top}} \\\\ \\star & \\star & -I\\end{array} \\right]\\prec 0$ \n",
    "\n",
    "Then: $P:=\\mathcal{X}^{-1}-T_{y}^{\\top} Q T_{y}, K:=M \\mathcal{X}^{-1}$"
   ]
  },
  {
   "cell_type": "code",
   "execution_count": 28,
   "metadata": {},
   "outputs": [],
   "source": [
    "def disc_linear_system(A, B, delta_t):\n",
    "    '''\n",
    "    Discrete a linear system with implicit Euler\n",
    "    x[k+1] = (I - delta_t * A)^{-1} @ x[k] + (I - delta_t * A)^{-1} @ (delta_t * B) @ u[k]\n",
    "    Returns:\n",
    "        Ak\n",
    "        Bk\n",
    "    '''\n",
    "    Nx = np.shape(A)[0]\n",
    "    Ix = np.identity(Nx)\n",
    "\n",
    "    Ak = expm(A*delta_t)\n",
    "    Bk = (expm(A * delta_t) - Ix) @ np.linalg.inv(A) @ B\n",
    "\n",
    "    \n",
    "    def disc_linear_fn(x, u):\n",
    "        x_next = Ak @ x + Bk @ u\n",
    "        \n",
    "        return x_next\n",
    "    \n",
    "    \n",
    "    return disc_linear_fn"
   ]
  },
  {
   "cell_type": "code",
   "execution_count": 29,
   "metadata": {},
   "outputs": [],
   "source": [
    "# Collect data as initial condition\n",
    "def data_generation(sys, nx, nu, N, state_init = None, input_seq = None):\n",
    "    # N is the length of collected data\n",
    "    # Modify this for measurement functions (y = Cx)\n",
    "    if input_seq is None:\n",
    "        input_seq = np.random.uniform(-1,1,(nu, N))\n",
    "#         input_seq = np.random.rand(nu, N)  \n",
    "    N_it = np.shape(input_seq)[1] # Number of iteration\n",
    "    if state_init is None:\n",
    "        state_init = np.random.rand(nx,1) \n",
    "    state_seq = state_init\n",
    "    xk = state_init\n",
    "    for _ in range(N_it):\n",
    "        uk = input_seq[:,[_]]\n",
    "        state_next = sys(xk, uk)\n",
    "        state_seq = np.concatenate((state_seq, state_next),axis=1)\n",
    "        xk = state_next\n",
    "    # Remark: the length of state_seq is larger than the input_seq by one.\n",
    "    return state_seq, input_seq"
   ]
  },
  {
   "cell_type": "code",
   "execution_count": 30,
   "metadata": {},
   "outputs": [],
   "source": [
    "# Construct Hankel matrix\n",
    "def Hankel(sequence, L):\n",
    "    n, T = np.shape(sequence)\n",
    "    print(n,T)\n",
    "    Hankel_matrix = np.empty((n * L, 0), dtype = float)\n",
    "    for _ in range(T-L+1):\n",
    "        Hankel_matrix = np.concatenate((Hankel_matrix, sequence[: , _ : _+L ].reshape(-1,1, order = 'F')),axis = 1)\n",
    "    return Hankel_matrix"
   ]
  },
  {
   "cell_type": "code",
   "execution_count": 290,
   "metadata": {},
   "outputs": [
    {
     "data": {
      "text/plain": [
       "array([[-0.63744449, -0.1860328 ,  0.52130528,  0.77835202, -0.84784831,\n",
       "        -0.76981865, -0.62378987, -0.56382597, -0.93386286,  0.25351951,\n",
       "        -0.2223579 , -0.20476486, -0.19258865, -0.32608359,  0.39663205,\n",
       "         0.15952003,  0.31239566,  0.33514681,  0.02646   , -0.80101688,\n",
       "         0.66915118,  0.96207741, -0.4478528 ,  0.10136053,  0.35118515,\n",
       "         0.85945787, -0.18372272, -0.66684544,  0.10832873, -0.25808865,\n",
       "        -0.84172885,  0.96479336, -0.12387389, -0.67730907,  0.0913358 ,\n",
       "        -0.62404653, -0.18446009,  0.92069789, -0.91636063,  0.93400667,\n",
       "        -0.21260741, -0.99228815, -0.74147929,  0.13859394,  0.37010851,\n",
       "        -0.60683375,  0.21725669, -0.50178181,  0.35871861,  0.44197301,\n",
       "        -0.97552489, -0.55872079, -0.94960398, -0.84892001, -0.07699947,\n",
       "        -0.28729743,  0.06893962,  0.57799319,  0.07410081, -0.88452706,\n",
       "        -0.82883314, -0.40999183, -0.86189609,  0.59536181, -0.73693367,\n",
       "        -0.10134175,  0.70288897, -0.30098107, -0.00961132, -0.90124289,\n",
       "         0.54469652, -0.51737066,  0.1290801 ,  0.21685599, -0.19308012,\n",
       "         0.97342822,  0.85461674, -0.0277448 ,  0.10894844,  0.93898562,\n",
       "        -0.27186379,  0.52789428,  0.85942269, -0.47957245,  0.85964266,\n",
       "         0.5007998 ,  0.21062435, -0.8856045 , -0.32075642,  0.58139967,\n",
       "        -0.79806653,  0.83548548,  0.05948785, -0.70747425, -0.55604946,\n",
       "         0.37060407, -0.3356176 , -0.0191422 ,  0.01984233,  0.47384138],\n",
       "       [ 0.07972646, -0.05600128, -0.64594359, -0.89085885, -0.19669489,\n",
       "         0.69764886, -0.81263169,  0.25288975,  0.34696932, -0.48309818,\n",
       "        -0.07778291,  0.21265927, -0.13717046, -0.63265941, -0.46065235,\n",
       "         0.1644308 , -0.33598078,  0.56702579,  0.90769642,  0.26743044,\n",
       "         0.71033393, -0.10628747,  0.19053145, -0.24397485,  0.92082113,\n",
       "         0.22035278, -0.82928536, -0.84739812,  0.1689269 , -0.42858999,\n",
       "        -0.50370196, -0.93998951,  0.72628097, -0.21996603,  0.73574019,\n",
       "         0.04579854,  0.50999628, -0.97552457,  0.99850273, -0.40111914,\n",
       "         0.10996482, -0.08144532,  0.16474408, -0.50145853,  0.26686307,\n",
       "        -0.71251763,  0.39671503, -0.7877739 , -0.61427997, -0.90768566,\n",
       "         0.29553639, -0.95516886, -0.5720218 , -0.15874843,  0.18503278,\n",
       "        -0.41065774, -0.85055032, -0.51294947,  0.11771673, -0.89198847,\n",
       "         0.80565649, -0.95242123, -0.88350693, -0.02337063,  0.45111824,\n",
       "         0.84542731, -0.12197307, -0.56284143,  0.62133833,  0.24704949,\n",
       "         0.54258284, -0.91894829,  0.88975566,  0.29751456,  0.811389  ,\n",
       "         0.31176132,  0.06604951,  0.54557871, -0.56142711,  0.88151675,\n",
       "        -0.18078703,  0.81547488, -0.67165916, -0.51472738,  0.76900324,\n",
       "         0.82713749, -0.3026119 , -0.82376735, -0.76995664, -0.38524167,\n",
       "        -0.87900816,  0.43478177, -0.62411306, -0.3366008 ,  0.14574672,\n",
       "        -0.2345921 ,  0.15606256,  0.2923647 , -0.31102159,  0.62172635]])"
      ]
     },
     "execution_count": 290,
     "metadata": {},
     "output_type": "execute_result"
    }
   ],
   "source": [
    "input_seq"
   ]
  },
  {
   "cell_type": "code",
   "execution_count": 322,
   "metadata": {},
   "outputs": [],
   "source": [
    "def Xi_stack(nu, ny, l, N, input_seq, output_seq):\n",
    "    Xi = np.empty((l * (nu + ny), 0), dtype = float)\n",
    "    Xi_p = np.empty((l * (nu + ny), 0), dtype = float)\n",
    "    \n",
    "    for i in range(N-l):\n",
    "        input_temp = np.vstack(input_seq[:,i:i+l].flatten().tolist())\n",
    "        output_temp = np.vstack(output_seq[:,i:i+l].flatten().tolist())\n",
    "        xi_temp = np.concatenate([input_temp, output_temp], axis = 0)\n",
    "        Xi = np.concatenate([Xi,xi_temp],axis = 1)\n",
    "        \n",
    "        input_temp = np.vstack(input_seq[:,i+1:i+l+1].flatten().tolist())\n",
    "        output_temp = np.vstack(output_seq[:,i+1:i+l+1].flatten().tolist())\n",
    "        xi_p_temp = np.concatenate([input_temp, output_temp], axis = 0)\n",
    "        Xi_p = np.concatenate([Xi_p,xi_p_temp],axis = 1)\n",
    "        \n",
    "    return Xi,Xi_p"
   ]
  },
  {
   "cell_type": "code",
   "execution_count": null,
   "metadata": {},
   "outputs": [],
   "source": [
    "# def U_stack(nu, l, N, input_seq):\n",
    "#     U = np.empty((l * (nu + ny), 0), dtype = float)\n",
    "\n",
    "    \n",
    "#     for i in range(N-l):\n",
    "#         input_temp = np.vstack(input_seq[:,i:i+l].flatten().tolist())\n",
    "#         output_temp = np.vstack(output_seq[:,i:i+l].flatten().tolist())\n",
    "#         xi_temp = np.concatenate([input_temp, output_temp], axis = 0)\n",
    "#         Xi = np.concatenate([Xi,xi_temp],axis = 1)\n",
    "        \n",
    "        \n",
    "#     return U"
   ]
  },
  {
   "cell_type": "code",
   "execution_count": 347,
   "metadata": {},
   "outputs": [],
   "source": [
    "def define_LMI(nu, ny, l, N, A_prime, B_prime, Qr, Rr):\n",
    "    n_xi = (nu + ny) * l\n",
    "    \n",
    "    \n",
    "    Xi_para = cp.Parameter((n_xi, N-l)) # N-1-ell+1 = n-ell\n",
    "    Xi_p_para = cp.Parameter((n_xi, N-l)) # shifted window\n",
    "    U_para = cp.Parameter((nu,N-l)) \n",
    "    Z_para = cp.vstack([Xi_para,U_para])\n",
    "    \n",
    "    Bw = np.concatenate((np.zeros([n_xi - ny, ny]), np.eye(ny)),axis = 0) \n",
    "    Bw_pseudo_inv = np.linalg.pinv(Bw)\n",
    "    \n",
    "    P_delta_w = cp.hstack([cp.vstack([-Z_para @ Z_para.T, Bw_pseudo_inv @ Xi_p_para @ Z_para.T]), cp.vstack([Z_para @ Xi_p_para.T @ Bw, -Bw_pseudo_inv @ Xi_p_para @ Xi_p_para.T @ Bw])])\n",
    "    \n",
    "    mul_r = np.concatenate([np.concatenate([np.zeros([n_xi +nu, n_xi]), Bw_pseudo_inv],axis = 0), np.concatenate([np.eye(n_xi + nu),np.zeros([ny, n_xi + nu])],axis = 0)],axis = 1)\n",
    "    P_bar_delta_w = mul_r.T @ P_delta_w @ mul_r\n",
    "    \n",
    "    X_cal = cp.Variable((n_xi,n_xi),PSD = True)\n",
    "    Gamma = cp.Variable((n_xi,n_xi),PSD = True)\n",
    "    M = cp.Variable((nu,n_xi))\n",
    "    tau = cp.Variable(nonneg=True)\n",
    "    gamma = cp.Variable(nonneg=True) # gamma should be positive/test: set as constraint\n",
    "    \n",
    "    Gamma_X_cal_stack = cp.hstack([cp.vstack([Gamma, np.eye(n_xi)]),cp.vstack([np.eye(n_xi), X_cal])])\n",
    "    \n",
    "    X_cal_ext = cp.hstack([cp.vstack([X_cal,np.zeros([n_xi+nu,n_xi])]),cp.vstack([np.zeros([n_xi,n_xi+nu]),np.zeros([n_xi+nu,n_xi+nu])])])\n",
    "    A_B_stack = cp.vstack([A_prime @ X_cal + B_prime @ M, X_cal, M])\n",
    "    Qr_Rr_stack = cp.vstack([Qr @ X_cal, Rr @ M])\n",
    "\n",
    "    LMI_stack_r1 = cp.hstack(((tau* P_bar_delta_w - X_cal_ext), A_B_stack, np.zeros([2 * n_xi + nu, n_xi + nu])))\n",
    "    LMI_stack_r2 = cp.hstack([A_B_stack.T, - X_cal, Qr_Rr_stack.T])\n",
    "    LMI_stack_r3 = cp.hstack([np.zeros([n_xi + nu, 2 * n_xi + nu]), Qr_Rr_stack, -np.eye(n_xi + nu)])\n",
    "    LMI_stack = cp.vstack([LMI_stack_r1, LMI_stack_r2, LMI_stack_r3])\n",
    "    obj = cp.Minimize(0)\n",
    "    constraints = []\n",
    "    constraints += [cp.trace(Gamma) <= gamma ** 2]\n",
    "    constraints += [Gamma_X_cal_stack <= 0]\n",
    "    constraints += [LMI_stack <= 0]\n",
    "    \n",
    "    \n",
    "    prob = cp.Problem(obj, constraints)\n",
    "    \n",
    "    return prob, Xi_para, Xi_p_para, U_para, Z_para, X_cal, M\n",
    "    \n",
    "    "
   ]
  },
  {
   "cell_type": "code",
   "execution_count": 348,
   "metadata": {},
   "outputs": [],
   "source": [
    "def disc_four_tank(x, u):\n",
    "    A = np.array([[0.921,  0, 0.041, 0], [0, 0.918, 0, 0.033], [0, 0, 0.924, 0], [0, 0, 0, 0.937]])\n",
    "    B = np.array([[0.017, 0.001], [0.001, 0.023], [0, 0.061], [0.072, 0]])\n",
    "    x_next = A@x + B@u\n",
    "\n",
    "    return x_next"
   ]
  },
  {
   "cell_type": "code",
   "execution_count": 349,
   "metadata": {},
   "outputs": [],
   "source": [
    "def define_A_B_prime(nu, ny, l):\n",
    "    \n",
    "    blocks = np.multiply.outer(np.ones((l-1)), np.eye(nu))\n",
    "    offset = nu\n",
    "    aux = np.empty((0, offset), int)\n",
    "    \n",
    "    A11 = block_diag(aux, *blocks, aux.T)\n",
    "    A12 = np.zeros((l * nu, l * ny))\n",
    "    A21 = np.zeros((l * ny, l * nu))\n",
    "    \n",
    "    blocks = np.multiply.outer(np.ones((l-1)), np.eye(ny))\n",
    "    offset = ny\n",
    "    aux = np.empty((0, offset), int)\n",
    "    A22 = block_diag(aux, *blocks, aux.T)\n",
    "    \n",
    "    A_prime = np.concatenate([np.concatenate([A11,A12],axis = 1), np.concatenate([A21,A22],axis = 1)], axis = 0)\n",
    "    \n",
    "    B1 = np.concatenate([np.zeros([(l-1) * nu, nu]),np.eye(nu)],axis = 0)\n",
    "    B2 = np.zeros([l * ny, nu])\n",
    "    B_prime = np.concatenate([B1,B2], axis = 0)\n",
    "    \n",
    "  \n",
    "    return A_prime, B_prime\n",
    "#     D1 = [np.eye(nu)] * (l-1)\n",
    "#     print(D1)\n",
    "#     A_prime = np.diag(D1, 1)\n",
    "    \n",
    "#     print(A_prime)\n",
    "    \n",
    "    "
   ]
  },
  {
   "cell_type": "code",
   "execution_count": 350,
   "metadata": {},
   "outputs": [],
   "source": [
    "state_seq, input_seq = data_generation(disc_four_tank, nx, nu, N)"
   ]
  },
  {
   "cell_type": "code",
   "execution_count": 351,
   "metadata": {},
   "outputs": [
    {
     "data": {
      "text/plain": [
       "array([[ 1.99409555e-02,  1.14643049e-02,  1.18624017e-02,\n",
       "         1.39337634e-02,  2.87405348e-02,  3.16248093e-02,\n",
       "         4.80543140e-02,  3.69086708e-02,  4.87481874e-02,\n",
       "         5.57974700e-02,  7.06819811e-02,  6.62359374e-02,\n",
       "         7.67597537e-02,  8.49363489e-02,  9.43455673e-02,\n",
       "         8.11491571e-02,  7.32043498e-02,  7.23358429e-02,\n",
       "         8.14536250e-02,  9.55807899e-02,  1.15755906e-01,\n",
       "         1.24298869e-01,  1.39325443e-01,  1.51715187e-01,\n",
       "         1.52666053e-01,  1.31917190e-01,  1.14242411e-01,\n",
       "         1.13088813e-01,  1.14444274e-01,  9.63527361e-02,\n",
       "         8.26914524e-02,  8.20628808e-02,  8.12627871e-02,\n",
       "         8.44187891e-02,  6.83069463e-02,  5.30182572e-02,\n",
       "         6.43478954e-02,  6.59329428e-02,  5.60851193e-02,\n",
       "         6.62310991e-02,  7.11767889e-02,  5.81407456e-02,\n",
       "         6.50073789e-02,  6.16156838e-02,  6.87604500e-02,\n",
       "         7.47616660e-02,  8.16745134e-02,  7.54384537e-02,\n",
       "         7.62181726e-02,  5.52724531e-02,  4.01510513e-02,\n",
       "         1.40221117e-02, -8.71686573e-03, -4.57171941e-03,\n",
       "        -2.62882384e-02, -3.06911053e-02, -3.03663603e-02,\n",
       "        -2.31280247e-02, -1.75315841e-02, -7.03233392e-03,\n",
       "        -1.89548738e-02, -1.67503731e-02, -6.24469427e-03,\n",
       "        -2.51983220e-02, -3.88138198e-02, -3.55069373e-02,\n",
       "        -2.12901379e-02, -2.79621245e-02, -3.01503624e-02,\n",
       "        -1.94269370e-02, -2.10738057e-02, -2.76292543e-02,\n",
       "        -3.89351007e-02, -2.50186665e-02, -3.23234462e-02,\n",
       "        -1.95895776e-02, -7.72192491e-03, -1.00846818e-02,\n",
       "         3.58482430e-03, -1.23146948e-02, -1.06349222e-02,\n",
       "         5.62149841e-04,  8.00584627e-03,  1.97491192e-02,\n",
       "         3.17954356e-02,  4.56503985e-02,  3.32119084e-02,\n",
       "         2.80852898e-02,  2.30599047e-02,  3.10975777e-02,\n",
       "         3.98947292e-02,  3.03593286e-02,  4.14660742e-02,\n",
       "         4.88559579e-02,  5.30152563e-02,  3.02166390e-02,\n",
       "         9.59636009e-03,  1.19313888e-03, -1.45289604e-02,\n",
       "        -6.42833287e-03,  1.69134176e-03],\n",
       "       [ 5.23130272e-01,  5.07216324e-01,  5.05262532e-01,\n",
       "         4.88362879e-01,  4.50105136e-01,  4.57555006e-01,\n",
       "         4.66755862e-01,  4.67967734e-01,  4.46523704e-01,\n",
       "         4.44078729e-01,  4.48269110e-01,  4.25854082e-01,\n",
       "         4.22303618e-01,  4.09703399e-01,  4.08172692e-01,\n",
       "         3.90892174e-01,  3.89562128e-01,  3.76286743e-01,\n",
       "         3.72732495e-01,  3.73557383e-01,  3.62636409e-01,\n",
       "         3.58162487e-01,  3.55666746e-01,  3.44903749e-01,\n",
       "         3.14091022e-01,  3.09123757e-01,  2.96493548e-01,\n",
       "         2.59119875e-01,  2.31175121e-01,  2.06825699e-01,\n",
       "         2.10236776e-01,  1.89461502e-01,  1.72822816e-01,\n",
       "         1.51658703e-01,  1.54755027e-01,  1.59805275e-01,\n",
       "         1.41347854e-01,  1.58234952e-01,  1.56017363e-01,\n",
       "         1.41922469e-01,  1.25372035e-01,  1.09515166e-01,\n",
       "         9.99833884e-02,  1.15513195e-01,  9.46421624e-02,\n",
       "         8.58587583e-02,  7.19236975e-02,  6.40997526e-02,\n",
       "         5.87674488e-02,  5.91542843e-02,  4.24771436e-02,\n",
       "         3.93519484e-02,  5.91888312e-02,  6.44028139e-02,\n",
       "         4.75791199e-02,  4.54833119e-02,  2.56412123e-02,\n",
       "         4.76480534e-02,  4.50654056e-02,  5.77689656e-02,\n",
       "         5.42473688e-02,  4.99146888e-02,  3.22457847e-02,\n",
       "         5.18682208e-02,  6.12857924e-02,  6.50679374e-02,\n",
       "         8.22204579e-02,  1.00434440e-01,  1.08625447e-01,\n",
       "         1.00258351e-01,  8.61678856e-02,  7.95299491e-02,\n",
       "         9.02523354e-02,  9.91648865e-02,  6.89137553e-02,\n",
       "         4.90272909e-02,  4.74331799e-02,  2.17237682e-02,\n",
       "         1.90187412e-02,  2.66377712e-02,  5.67273171e-03,\n",
       "         2.59726278e-02,  3.57094958e-02,  3.04694003e-02,\n",
       "         4.54983337e-02,  2.68969563e-02,  4.77514990e-02,\n",
       "         4.59639539e-02,  3.54713526e-02,  5.24911535e-02,\n",
       "         7.00627070e-02,  5.02015818e-02,  4.53568788e-02,\n",
       "         2.59872758e-02,  1.64616678e-02,  5.20263023e-03,\n",
       "         1.34364295e-02,  3.03661709e-02,  1.17697617e-02,\n",
       "         1.61476186e-02, -4.75026388e-03],\n",
       "       [ 4.75868511e-02,  3.68342686e-02,  6.74996135e-02,\n",
       "         6.04120659e-02, -4.54624159e-03,  4.85026483e-02,\n",
       "         1.04379858e-01,  1.39217068e-01,  1.16812227e-01,\n",
       "         1.42469231e-01,  1.83565788e-01,  1.53528275e-01,\n",
       "         1.74322786e-01,  1.68868145e-01,  1.90726090e-01,\n",
       "         1.72159560e-01,  2.00988534e-01,  2.00789745e-01,\n",
       "         2.25545420e-01,  2.58329701e-01,  2.54760616e-01,\n",
       "         2.63622517e-01,  2.74895307e-01,  2.60448741e-01,\n",
       "         1.91075082e-01,  1.93451547e-01,  1.82803313e-01,\n",
       "         1.09676820e-01,  5.92224701e-02,  1.78362079e-02,\n",
       "         5.29404510e-02,  2.40894031e-02,  3.14623868e-03,\n",
       "        -3.34975156e-02, -7.42676832e-03,  2.71121620e-02,\n",
       "        -1.43600183e-03,  5.84570952e-02,  6.76360226e-02,\n",
       "         4.48166726e-02,  1.09560070e-02, -2.18330135e-02,\n",
       "        -3.80475825e-02,  9.15724070e-03, -4.17389778e-02,\n",
       "        -6.49048712e-02, -1.05975625e-01, -1.33448649e-01,\n",
       "        -1.55151815e-01, -1.60770587e-01, -2.06809286e-01,\n",
       "        -2.12415287e-01, -1.50667877e-01, -1.25500096e-01,\n",
       "        -1.58319973e-01, -1.48866518e-01, -1.87954985e-01,\n",
       "        -1.19817941e-01, -1.20651385e-01, -8.47047937e-02,\n",
       "        -9.23955940e-02, -1.00095026e-01, -1.45847413e-01,\n",
       "        -9.29399511e-02, -6.06835090e-02, -4.07251452e-02,\n",
       "         1.20343690e-02,  6.67267435e-02,  9.87060091e-02,\n",
       "         8.75902148e-02,  6.06654931e-02,  5.59002642e-02,\n",
       "         1.01169232e-01,  1.43098990e-01,  8.04221677e-02,\n",
       "         4.50477756e-02,  5.30708807e-02, -5.33207603e-03,\n",
       "        -5.18382934e-03,  2.11374187e-02, -2.53307658e-02,\n",
       "         3.45444013e-02,  6.28744869e-02,  4.86782566e-02,\n",
       "         8.44406184e-02,  2.73984793e-02,  7.45905551e-02,\n",
       "         6.67076988e-02,  3.84885794e-02,  8.34241912e-02,\n",
       "         1.27648239e-01,  7.36509469e-02,  6.04861571e-02,\n",
       "         5.31255092e-03, -2.65222511e-02, -6.10887788e-02,\n",
       "        -3.68262214e-02,  1.53438681e-02, -2.30882135e-02,\n",
       "         2.79959368e-04, -4.76825427e-02],\n",
       "       [ 9.14763535e-01,  8.20136475e-01,  7.65270101e-01,\n",
       "         7.18214738e-01,  7.34041281e-01,  7.06758866e-01,\n",
       "         7.29840239e-01,  6.31638808e-01,  6.30984947e-01,\n",
       "         6.14717368e-01,  6.29355117e-01,  5.63766046e-01,\n",
       "         5.66068358e-01,  5.59907470e-01,  5.61170657e-01,\n",
       "         4.68656797e-01,  3.99829304e-01,  3.59507157e-01,\n",
       "         3.62032536e-01,  3.83678914e-01,  4.30961372e-01,\n",
       "         4.32525295e-01,  4.62556074e-01,  4.84323625e-01,\n",
       "         4.66816752e-01,  3.66257142e-01,  2.78589223e-01,\n",
       "         2.66745823e-01,  2.77399104e-01,  2.13868864e-01,\n",
       "         1.69145416e-01,  1.76025508e-01,  1.86148481e-01,\n",
       "         2.16958573e-01,  1.67480708e-01,  1.13962780e-01,\n",
       "         1.69637878e-01,  1.83292376e-01,  1.41000246e-01,\n",
       "         1.83336536e-01,  2.09225143e-01,  1.64963683e-01,\n",
       "         2.08138633e-01,  2.05941915e-01,  2.45738973e-01,\n",
       "         2.87757300e-01,  3.38385519e-01,  3.38852060e-01,\n",
       "         3.71431553e-01,  3.12972259e-01,  2.79667138e-01,\n",
       "         2.02210771e-01,  1.31575836e-01,  1.63136558e-01,\n",
       "         8.40871408e-02,  7.90173303e-02,  9.44954654e-02,\n",
       "         1.37937302e-01,  1.66707609e-01,  2.13898177e-01,\n",
       "         1.63263878e-01,  1.73039237e-01,  2.22113948e-01,\n",
       "         1.48179336e-01,  8.71369099e-02,  9.21382519e-02,\n",
       "         1.38289215e-01,  8.82451552e-02,  4.99027239e-02,\n",
       "         6.51986814e-02,  3.38136027e-02, -1.36556017e-02,\n",
       "        -8.30682677e-02, -5.29348141e-02, -1.10160863e-01,\n",
       "        -7.20374547e-02, -3.24077102e-02, -4.83973259e-02,\n",
       "         1.01156109e-02, -5.75613736e-02, -5.14966809e-02,\n",
       "        -4.01273491e-03,  1.98065960e-02,  6.07095729e-02,\n",
       "         1.03319668e-01,  1.54980808e-01,  9.96316038e-02,\n",
       "         6.99556769e-02,  4.36851798e-02,  7.26840451e-02,\n",
       "         9.77712609e-02,  4.54845311e-02,  8.75533504e-02,\n",
       "         1.20218228e-01,  1.47866742e-01,  6.68760216e-02,\n",
       "        -5.31431893e-03, -3.43919370e-02, -9.84907531e-02,\n",
       "        -6.03299601e-02, -2.10108115e-02]])"
      ]
     },
     "execution_count": 351,
     "metadata": {},
     "output_type": "execute_result"
    }
   ],
   "source": [
    "state_seq"
   ]
  },
  {
   "cell_type": "code",
   "execution_count": 352,
   "metadata": {},
   "outputs": [],
   "source": [
    "A = np.array([[0.921,  0, 0.041, 0], [0, 0.918, 0, 0.033], [0, 0, 0.924, 0], [0, 0, 0, 0.937]])\n",
    "B = np.array([[0.017, 0.001], [0.001, 0.023], [0, 0.061], [0.072, 0]])\n",
    "C = np.array([[1,0,0,0],[0,1,0,0]])\n",
    "\n",
    "\n",
    "\n",
    "\n",
    "# disc_sys_fn = disc_linear_fn\n",
    "nx = 4\n",
    "nu = 2\n",
    "ny = 2\n",
    "\n",
    "Q = np.diag([1] * ny)\n",
    "R = np.diag([5e-3] * nu)\n",
    "\n",
    "\n",
    "\n",
    "l = 2\n",
    "L = 30\n",
    "# T = (nu + 1) * (n + L + nx) - 1\n",
    "N = 100\n",
    "\n",
    "u_ns = np.array([[1,1]* n]).reshape(-1,1)  # terminal equalibrium constraints\n",
    "y_ns = np.array([[0.65,0.77]*n]).reshape(-1,1)\n",
    "\n",
    "state_init = np.array([[0.1],[0.1],[0.2],[0.2]])\n",
    "\n",
    "# state_seq, input_seq = data_generation(disc_four_tank, nx, nu, T, state_init = state_init)\n",
    "state_seq, input_seq = data_generation(disc_four_tank, nx, nu, N)\n",
    "\n",
    "output_seq = C @ state_seq"
   ]
  },
  {
   "cell_type": "code",
   "execution_count": 353,
   "metadata": {},
   "outputs": [
    {
     "data": {
      "text/plain": [
       "8"
      ]
     },
     "execution_count": 353,
     "metadata": {},
     "output_type": "execute_result"
    }
   ],
   "source": [
    "n_xi = (nu + ny) * l\n",
    "n_xi"
   ]
  },
  {
   "cell_type": "code",
   "execution_count": 354,
   "metadata": {},
   "outputs": [],
   "source": [
    "Ty = np.concatenate([np.zeros((ny, n_xi - ny)),np.eye(ny)], axis = 1)#[0 ... 0 I]\n",
    "Qr = Ty.T @ Q @ Ty # since Ty.T @ Q @ Ty = diag(0,0,1,1)\n",
    "L = cholesky(R)\n",
    "Rr = L.T # Since L @ L.T.conj = A if chol(A)"
   ]
  },
  {
   "cell_type": "code",
   "execution_count": 355,
   "metadata": {},
   "outputs": [
    {
     "data": {
      "text/plain": [
       "array([[0., 0., 1., 0., 0., 0., 0., 0.],\n",
       "       [0., 0., 0., 1., 0., 0., 0., 0.],\n",
       "       [0., 0., 0., 0., 0., 0., 0., 0.],\n",
       "       [0., 0., 0., 0., 0., 0., 0., 0.],\n",
       "       [0., 0., 0., 0., 0., 0., 1., 0.],\n",
       "       [0., 0., 0., 0., 0., 0., 0., 1.],\n",
       "       [0., 0., 0., 0., 0., 0., 0., 0.],\n",
       "       [0., 0., 0., 0., 0., 0., 0., 0.]])"
      ]
     },
     "execution_count": 355,
     "metadata": {},
     "output_type": "execute_result"
    }
   ],
   "source": [
    "A_prime, B_prime = define_A_B_prime(nu, ny, l)\n",
    "A_prime"
   ]
  },
  {
   "cell_type": "code",
   "execution_count": 356,
   "metadata": {},
   "outputs": [],
   "source": [
    " prob, Xi_para, Xi_p_para, U_para, Z_para, X_cal, M = define_LMI(nu, ny, l, N, A_prime, B_prime, Qr, Rr)"
   ]
  },
  {
   "cell_type": "code",
   "execution_count": 357,
   "metadata": {},
   "outputs": [],
   "source": [
    "Xi, Xi_p = Xi_stack(nu,ny,l,N,input_seq,output_seq)"
   ]
  },
  {
   "cell_type": "code",
   "execution_count": 358,
   "metadata": {},
   "outputs": [],
   "source": [
    "U = input_seq[:,l:]"
   ]
  },
  {
   "cell_type": "code",
   "execution_count": 359,
   "metadata": {},
   "outputs": [],
   "source": [
    "Z = np.concatenate([Xi, U], axis = 0)"
   ]
  },
  {
   "cell_type": "code",
   "execution_count": 360,
   "metadata": {},
   "outputs": [],
   "source": [
    "Xi_para.value = Xi\n",
    "Xi_p_para.value = Xi_p\n",
    "U_para.value = U \n",
    "# Z_para.value = Z"
   ]
  },
  {
   "cell_type": "code",
   "execution_count": 361,
   "metadata": {},
   "outputs": [
    {
     "name": "stderr",
     "output_type": "stream",
     "text": [
      "/Library/Frameworks/Python.framework/Versions/3.7/lib/python3.7/site-packages/cvxpy/reductions/solvers/solving_chain.py:163: UserWarning: You are solving a parameterized problem that is not DPP. Because the problem is not DPP, subsequent solves will not be faster than the first one. For more information, see the documentation on Discplined Parametrized Programming, at\n",
      "\thttps://www.cvxpy.org/tutorial/advanced/index.html#disciplined-parametrized-programming\n",
      "  warnings.warn(dpp_error_msg)\n"
     ]
    },
    {
     "data": {
      "text/plain": [
       "inf"
      ]
     },
     "execution_count": 361,
     "metadata": {},
     "output_type": "execute_result"
    }
   ],
   "source": [
    "prob.solve(solver=cp.MOSEK)"
   ]
  },
  {
   "cell_type": "code",
   "execution_count": null,
   "metadata": {},
   "outputs": [],
   "source": []
  }
 ],
 "metadata": {
  "kernelspec": {
   "display_name": "Python 3",
   "language": "python",
   "name": "python3"
  },
  "language_info": {
   "codemirror_mode": {
    "name": "ipython",
    "version": 3
   },
   "file_extension": ".py",
   "mimetype": "text/x-python",
   "name": "python",
   "nbconvert_exporter": "python",
   "pygments_lexer": "ipython3",
   "version": "3.7.7"
  }
 },
 "nbformat": 4,
 "nbformat_minor": 4
}
