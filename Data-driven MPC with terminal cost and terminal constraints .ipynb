{
 "cells": [
  {
   "cell_type": "code",
   "execution_count": 86,
   "metadata": {},
   "outputs": [],
   "source": [
    "import numpy as np\n",
    "import mosek\n",
    "import cvxpy as cp\n",
    "import matplotlib.pyplot as plt\n",
    "from scipy.linalg import expm,cholesky,block_diag"
   ]
  },
  {
   "cell_type": "markdown",
   "metadata": {},
   "source": [
    "Ref: On the design of terminal ingredients for data-driven MPC"
   ]
  },
  {
   "cell_type": "markdown",
   "metadata": {},
   "source": [
    "Proposition 10 in the paper states how to design the terminal ingredients to stabilize the closed-loop system\n",
    "$ \\left[ \\begin{array}{cc}\\left(\\tau \\bar{P}_{\\Delta}^{w}-\\left[\\begin{array}{cc}\\mathcal{X} & 0 \\\\ 0 & 0\\end{array}\\right]\\right)& \\left[\\begin{array}{c}A^{\\prime} \\mathcal{X}+B^{\\prime} M \\\\ \\mathcal{X} \\\\ M\\end{array}\\right] & 0 \\\\ \\star & -\\mathcal{X} & {\\left[\\begin{array}{c}Q_{r} \\mathcal{X} \\\\ R_{r} M\\end{array}\\right]^{\\top}} \\\\ \\star & \\star & -I\\end{array} \\right]\\prec 0$ \n",
    "\n",
    "Then: $P:=\\mathcal{X}^{-1}-T_{y}^{\\top} Q T_{y}, K:=M \\mathcal{X}^{-1}$"
   ]
  },
  {
   "cell_type": "code",
   "execution_count": 28,
   "metadata": {},
   "outputs": [],
   "source": [
    "def disc_linear_system(A, B, delta_t):\n",
    "    '''\n",
    "    Discrete a linear system with implicit Euler\n",
    "    x[k+1] = (I - delta_t * A)^{-1} @ x[k] + (I - delta_t * A)^{-1} @ (delta_t * B) @ u[k]\n",
    "    Returns:\n",
    "        Ak\n",
    "        Bk\n",
    "    '''\n",
    "    Nx = np.shape(A)[0]\n",
    "    Ix = np.identity(Nx)\n",
    "\n",
    "    Ak = expm(A*delta_t)\n",
    "    Bk = (expm(A * delta_t) - Ix) @ np.linalg.inv(A) @ B\n",
    "\n",
    "    \n",
    "    def disc_linear_fn(x, u):\n",
    "        x_next = Ak @ x + Bk @ u\n",
    "        \n",
    "        return x_next\n",
    "    \n",
    "    \n",
    "    return disc_linear_fn"
   ]
  },
  {
   "cell_type": "code",
   "execution_count": 29,
   "metadata": {},
   "outputs": [],
   "source": [
    "# Collect data as initial condition\n",
    "def data_generation(sys, nx, nu, N, state_init = None, input_seq = None):\n",
    "    # N is the length of collected data\n",
    "    # Modify this for measurement functions (y = Cx)\n",
    "    if input_seq is None:\n",
    "        input_seq = np.random.uniform(-1,1,(nu, N))\n",
    "#         input_seq = np.random.rand(nu, N)  \n",
    "    N_it = np.shape(input_seq)[1] # Number of iteration\n",
    "    if state_init is None:\n",
    "        state_init = np.random.rand(nx,1) \n",
    "    state_seq = state_init\n",
    "    xk = state_init\n",
    "    for _ in range(N_it):\n",
    "        uk = input_seq[:,[_]]\n",
    "        state_next = sys(xk, uk)\n",
    "        state_seq = np.concatenate((state_seq, state_next),axis=1)\n",
    "        xk = state_next\n",
    "    # Remark: the length of state_seq is larger than the input_seq by one.\n",
    "    return state_seq, input_seq"
   ]
  },
  {
   "cell_type": "code",
   "execution_count": 30,
   "metadata": {},
   "outputs": [],
   "source": [
    "# Construct Hankel matrix\n",
    "def Hankel(sequence, L):\n",
    "    n, T = np.shape(sequence)\n",
    "    print(n,T)\n",
    "    Hankel_matrix = np.empty((n * L, 0), dtype = float)\n",
    "    for _ in range(T-L+1):\n",
    "        Hankel_matrix = np.concatenate((Hankel_matrix, sequence[: , _ : _+L ].reshape(-1,1, order = 'F')),axis = 1)\n",
    "    return Hankel_matrix"
   ]
  },
  {
   "cell_type": "code",
   "execution_count": 290,
   "metadata": {},
   "outputs": [
    {
     "data": {
      "text/plain": [
       "array([[-0.63744449, -0.1860328 ,  0.52130528,  0.77835202, -0.84784831,\n",
       "        -0.76981865, -0.62378987, -0.56382597, -0.93386286,  0.25351951,\n",
       "        -0.2223579 , -0.20476486, -0.19258865, -0.32608359,  0.39663205,\n",
       "         0.15952003,  0.31239566,  0.33514681,  0.02646   , -0.80101688,\n",
       "         0.66915118,  0.96207741, -0.4478528 ,  0.10136053,  0.35118515,\n",
       "         0.85945787, -0.18372272, -0.66684544,  0.10832873, -0.25808865,\n",
       "        -0.84172885,  0.96479336, -0.12387389, -0.67730907,  0.0913358 ,\n",
       "        -0.62404653, -0.18446009,  0.92069789, -0.91636063,  0.93400667,\n",
       "        -0.21260741, -0.99228815, -0.74147929,  0.13859394,  0.37010851,\n",
       "        -0.60683375,  0.21725669, -0.50178181,  0.35871861,  0.44197301,\n",
       "        -0.97552489, -0.55872079, -0.94960398, -0.84892001, -0.07699947,\n",
       "        -0.28729743,  0.06893962,  0.57799319,  0.07410081, -0.88452706,\n",
       "        -0.82883314, -0.40999183, -0.86189609,  0.59536181, -0.73693367,\n",
       "        -0.10134175,  0.70288897, -0.30098107, -0.00961132, -0.90124289,\n",
       "         0.54469652, -0.51737066,  0.1290801 ,  0.21685599, -0.19308012,\n",
       "         0.97342822,  0.85461674, -0.0277448 ,  0.10894844,  0.93898562,\n",
       "        -0.27186379,  0.52789428,  0.85942269, -0.47957245,  0.85964266,\n",
       "         0.5007998 ,  0.21062435, -0.8856045 , -0.32075642,  0.58139967,\n",
       "        -0.79806653,  0.83548548,  0.05948785, -0.70747425, -0.55604946,\n",
       "         0.37060407, -0.3356176 , -0.0191422 ,  0.01984233,  0.47384138],\n",
       "       [ 0.07972646, -0.05600128, -0.64594359, -0.89085885, -0.19669489,\n",
       "         0.69764886, -0.81263169,  0.25288975,  0.34696932, -0.48309818,\n",
       "        -0.07778291,  0.21265927, -0.13717046, -0.63265941, -0.46065235,\n",
       "         0.1644308 , -0.33598078,  0.56702579,  0.90769642,  0.26743044,\n",
       "         0.71033393, -0.10628747,  0.19053145, -0.24397485,  0.92082113,\n",
       "         0.22035278, -0.82928536, -0.84739812,  0.1689269 , -0.42858999,\n",
       "        -0.50370196, -0.93998951,  0.72628097, -0.21996603,  0.73574019,\n",
       "         0.04579854,  0.50999628, -0.97552457,  0.99850273, -0.40111914,\n",
       "         0.10996482, -0.08144532,  0.16474408, -0.50145853,  0.26686307,\n",
       "        -0.71251763,  0.39671503, -0.7877739 , -0.61427997, -0.90768566,\n",
       "         0.29553639, -0.95516886, -0.5720218 , -0.15874843,  0.18503278,\n",
       "        -0.41065774, -0.85055032, -0.51294947,  0.11771673, -0.89198847,\n",
       "         0.80565649, -0.95242123, -0.88350693, -0.02337063,  0.45111824,\n",
       "         0.84542731, -0.12197307, -0.56284143,  0.62133833,  0.24704949,\n",
       "         0.54258284, -0.91894829,  0.88975566,  0.29751456,  0.811389  ,\n",
       "         0.31176132,  0.06604951,  0.54557871, -0.56142711,  0.88151675,\n",
       "        -0.18078703,  0.81547488, -0.67165916, -0.51472738,  0.76900324,\n",
       "         0.82713749, -0.3026119 , -0.82376735, -0.76995664, -0.38524167,\n",
       "        -0.87900816,  0.43478177, -0.62411306, -0.3366008 ,  0.14574672,\n",
       "        -0.2345921 ,  0.15606256,  0.2923647 , -0.31102159,  0.62172635]])"
      ]
     },
     "execution_count": 290,
     "metadata": {},
     "output_type": "execute_result"
    }
   ],
   "source": [
    "input_seq"
   ]
  },
  {
   "cell_type": "code",
   "execution_count": 322,
   "metadata": {},
   "outputs": [],
   "source": [
    "def Xi_stack(nu, ny, l, N, input_seq, output_seq):\n",
    "    Xi = np.empty((l * (nu + ny), 0), dtype = float)\n",
    "    Xi_p = np.empty((l * (nu + ny), 0), dtype = float)\n",
    "    \n",
    "    for i in range(N-l):\n",
    "        input_temp = np.vstack(input_seq[:,i:i+l].flatten().tolist())\n",
    "        output_temp = np.vstack(output_seq[:,i:i+l].flatten().tolist())\n",
    "        xi_temp = np.concatenate([input_temp, output_temp], axis = 0)\n",
    "        Xi = np.concatenate([Xi,xi_temp],axis = 1)\n",
    "        \n",
    "        input_temp = np.vstack(input_seq[:,i+1:i+l+1].flatten().tolist())\n",
    "        output_temp = np.vstack(output_seq[:,i+1:i+l+1].flatten().tolist())\n",
    "        xi_p_temp = np.concatenate([input_temp, output_temp], axis = 0)\n",
    "        Xi_p = np.concatenate([Xi_p,xi_p_temp],axis = 1)\n",
    "        \n",
    "    return Xi,Xi_p"
   ]
  },
  {
   "cell_type": "code",
   "execution_count": null,
   "metadata": {},
   "outputs": [],
   "source": [
    "# def U_stack(nu, l, N, input_seq):\n",
    "#     U = np.empty((l * (nu + ny), 0), dtype = float)\n",
    "\n",
    "    \n",
    "#     for i in range(N-l):\n",
    "#         input_temp = np.vstack(input_seq[:,i:i+l].flatten().tolist())\n",
    "#         output_temp = np.vstack(output_seq[:,i:i+l].flatten().tolist())\n",
    "#         xi_temp = np.concatenate([input_temp, output_temp], axis = 0)\n",
    "#         Xi = np.concatenate([Xi,xi_temp],axis = 1)\n",
    "        \n",
    "        \n",
    "#     return U"
   ]
  },
  {
   "cell_type": "code",
   "execution_count": 456,
   "metadata": {},
   "outputs": [],
   "source": [
    "def define_LMI(nu, ny, l, N, A_prime, B_prime, Qr, Rr):\n",
    "    n_xi = (nu + ny) * l\n",
    "    \n",
    "    \n",
    "    Xi_para = cp.Parameter((n_xi, N-l)) # N-1-ell+1 = n-ell\n",
    "    Xi_p_para = cp.Parameter((n_xi, N-l)) # shifted window\n",
    "    U_para = cp.Parameter((nu,N-l)) \n",
    "    Z_para = cp.vstack([Xi_para,U_para])\n",
    "    \n",
    "    Bw = np.concatenate((np.zeros([n_xi - ny, ny]), np.eye(ny)),axis = 0) \n",
    "    Bw_pseudo_inv = np.linalg.pinv(Bw)\n",
    "    \n",
    "    P_delta_w = cp.hstack([cp.vstack([-Z_para @ Z_para.T, Bw_pseudo_inv @ Xi_p_para @ Z_para.T]), cp.vstack([Z_para @ Xi_p_para.T @ Bw, -Bw_pseudo_inv @ Xi_p_para @ Xi_p_para.T @ Bw])])\n",
    "    \n",
    "    mul_r = np.concatenate([np.concatenate([np.zeros([n_xi +nu, n_xi]), Bw_pseudo_inv],axis = 0), np.concatenate([np.eye(n_xi + nu),np.zeros([ny, n_xi + nu])],axis = 0)],axis = 1)\n",
    "    P_bar_delta_w = mul_r.T @ P_delta_w @ mul_r\n",
    "    \n",
    "    X_cal = cp.Variable((n_xi,n_xi),PSD = True)\n",
    "    Gamma = cp.Variable((n_xi,n_xi),PSD = True)\n",
    "    M = cp.Variable((nu,n_xi))\n",
    "    tau = cp.Variable(nonneg=True)\n",
    "    gamma = cp.Variable(nonneg=True) # gamma should be positive/test: set as constraint\n",
    "    \n",
    "    Gamma_X_cal_stack = cp.hstack([cp.vstack([Gamma, np.eye(n_xi)]),cp.vstack([np.eye(n_xi), X_cal])])\n",
    "    \n",
    "    X_cal_ext = cp.hstack([cp.vstack([X_cal,np.zeros([n_xi+nu,n_xi])]),cp.vstack([np.zeros([n_xi,n_xi+nu]),np.zeros([n_xi+nu,n_xi+nu])])])\n",
    "    A_B_stack = cp.vstack([A_prime @ X_cal + B_prime @ M, X_cal, M])\n",
    "    Qr_Rr_stack = cp.vstack([Qr @ X_cal, Rr @ M])\n",
    "\n",
    "    LMI_stack_r1 = cp.hstack(((tau* P_bar_delta_w - X_cal_ext), A_B_stack, np.zeros([2 * n_xi + nu, n_xi + nu])))\n",
    "    LMI_stack_r2 = cp.hstack([A_B_stack.T, - X_cal, Qr_Rr_stack.T])\n",
    "    LMI_stack_r3 = cp.hstack([np.zeros([n_xi + nu, 2 * n_xi + nu]), Qr_Rr_stack, -np.eye(n_xi + nu)])\n",
    "    LMI_stack = cp.vstack([LMI_stack_r1, LMI_stack_r2, LMI_stack_r3])\n",
    "    obj = cp.Minimize(0)\n",
    "    constraints = []\n",
    "#     constraints += [cp.trace(Gamma) <= gamma ** 2]\n",
    "    constraints += [Gamma_X_cal_stack >= 0]\n",
    "    constraints += [LMI_stack <= 0]\n",
    "    \n",
    "    \n",
    "    prob = cp.Problem(obj, constraints)\n",
    "    \n",
    "    return prob, Xi_para, Xi_p_para, U_para, Z_para, X_cal, M\n",
    "    \n",
    "    "
   ]
  },
  {
   "cell_type": "code",
   "execution_count": 457,
   "metadata": {},
   "outputs": [],
   "source": [
    "def disc_four_tank(x, u):\n",
    "    A = np.array([[0.921,  0, 0.041, 0], [0, 0.918, 0, 0.033], [0, 0, 0.924, 0], [0, 0, 0, 0.937]])\n",
    "    B = np.array([[0.017, 0.001], [0.001, 0.023], [0, 0.061], [0.072, 0]])\n",
    "    x_next = A@x + B@u\n",
    "\n",
    "    return x_next"
   ]
  },
  {
   "cell_type": "code",
   "execution_count": 424,
   "metadata": {},
   "outputs": [],
   "source": [
    "def define_A_B_prime(nu, ny, l):\n",
    "    \n",
    "    blocks = np.multiply.outer(np.ones((l-1)), np.eye(nu))\n",
    "    offset = nu\n",
    "    aux = np.empty((0, offset), int)\n",
    "    \n",
    "    A11 = block_diag(aux, *blocks, aux.T)\n",
    "    A12 = np.zeros((l * nu, l * ny))\n",
    "    A21 = np.zeros((l * ny, l * nu))\n",
    "    \n",
    "    blocks = np.multiply.outer(np.ones((l-1)), np.eye(ny))\n",
    "    offset = ny\n",
    "    aux = np.empty((0, offset), int)\n",
    "    A22 = block_diag(aux, *blocks, aux.T)\n",
    "    \n",
    "    A_prime = np.concatenate([np.concatenate([A11,A12],axis = 1), np.concatenate([A21,A22],axis = 1)], axis = 0)\n",
    "    \n",
    "    B1 = np.concatenate([np.zeros([(l-1) * nu, nu]),np.eye(nu)],axis = 0)\n",
    "    B2 = np.zeros([l * ny, nu])\n",
    "    B_prime = np.concatenate([B1,B2], axis = 0)\n",
    "    \n",
    "  \n",
    "    return A_prime, B_prime\n",
    "#     D1 = [np.eye(nu)] * (l-1)\n",
    "#     print(D1)\n",
    "#     A_prime = np.diag(D1, 1)\n",
    "    \n",
    "#     print(A_prime)\n",
    "    \n",
    "    "
   ]
  },
  {
   "cell_type": "code",
   "execution_count": null,
   "metadata": {},
   "outputs": [],
   "source": [
    "# Formulate optimization problem\n",
    "def define_opt(nu, ny, Q, R, U_Hankel, Y_Hankel, N, L, l, r = None, uub = None, ulb = None, yub = None, ylb = None, P = None, beta = None):\n",
    "    # Let the reference traj r be a list setpoint for input and output. To be modified, if tracking traj required.\n",
    "    \n",
    "    u_decision = cp.Variable(((L+l)*nu,1))\n",
    "    y_decision = cp.Variable(((L+l)*ny,1))\n",
    "    \n",
    "    \n",
    "    alpha = cp.Variable((T-(L+l)+1,1))\n",
    "    \n",
    "    u_init_para = cp.Parameter((l * nu, 1))\n",
    "    y_init_para = cp.Parameter((l * ny, 1))\n",
    "    \n",
    "    \n",
    "    loss_func = 0\n",
    "    for _ in range(L):\n",
    "        loss_func += cp.quad_form(y_decision[ ( l + _ ) * ny : ( l + _ + 1 ) * ny ,:] - np.array(r[:ny]).reshape(-1,1), Q)\n",
    "        loss_func += cp.quad_form(u_decision[ ( l + _ ) * nu : ( l + _ + 1 ) * nu ,:] - np.array(r[ny:]).reshape(-1,1), R)\n",
    "\n",
    "    obj = cp.Minimize(loss_func)\n",
    "    # Define constraints\n",
    "    constraint = []\n",
    "    \n",
    "    constraint += [ u_decision == U_Hankel @ alpha ]\n",
    "    constraint += [ y_decision == Y_Hankel @ alpha ]\n",
    "    constraint += [ u_decision[: n * nu] == u_init_para ]\n",
    "    constraint += [ y_decision[: n * ny] == y_init_para ]\n",
    "    constraint += [ u_decision[- n * nu :] == u_ns ]\n",
    "    constraint += [ y_decision[- n * ny :] == y_ns ]\n",
    "    \n",
    "    if uub is not None:\n",
    "        for _ in range(L):\n",
    "            constraint += [u_decision[ ( n + _ ) * nu : ( n + _ + 1 ) * nu, : ] <= uub]\n",
    "    \n",
    "    if ulb is not None:\n",
    "        for _ in range(L):\n",
    "            constraint += [u_decision[ ( n + _ ) * nu : ( n + _ + 1 ) * nu, : ] >= ulb]\n",
    "\n",
    "    if yub is not None:\n",
    "        for _ in range(L):\n",
    "            constraint += [y_decision[ ( n + _ ) * ny : ( n + _ + 1 ) * ny ,:] <= yub]\n",
    "            \n",
    "    if ylb is not None:\n",
    "        for _ in range(L):\n",
    "            constraint += [y_decision[ ( n + _ ) * ny : ( n + _ + 1 ) * ny ,:] >= ylb]\n",
    "            \n",
    "    prob = cp.Problem(obj,constraint)\n",
    "    \n",
    "    return prob, alpha, u_init_para, y_init_para, u_decision, y_decision"
   ]
  },
  {
   "cell_type": "code",
   "execution_count": 425,
   "metadata": {},
   "outputs": [],
   "source": [
    "state_seq, input_seq = data_generation(disc_four_tank, nx, nu, N)"
   ]
  },
  {
   "cell_type": "code",
   "execution_count": 426,
   "metadata": {},
   "outputs": [
    {
     "data": {
      "text/plain": [
       "array([[ 7.80581007e-01,  7.18380973e-01,  6.92494246e-01,\n",
       "         6.51065026e-01,  6.30347979e-01,  6.10100636e-01,\n",
       "         5.60072225e-01,  5.43598668e-01,  5.18545567e-01,\n",
       "         4.99368573e-01,  4.59712606e-01,  4.42477606e-01,\n",
       "         4.20858213e-01,  3.87604768e-01,  3.53817387e-01,\n",
       "         3.14458546e-01,  2.74657370e-01,  2.66735787e-01,\n",
       "         2.55768760e-01,  2.35582787e-01,  2.18845186e-01,\n",
       "         1.86605321e-01,  1.59303252e-01,  1.58589393e-01,\n",
       "         1.36607888e-01,  1.24145810e-01,  1.24625382e-01,\n",
       "         1.08879162e-01,  9.41631992e-02,  7.55749458e-02,\n",
       "         8.85496225e-02,  7.15137147e-02,  8.10485653e-02,\n",
       "         7.74563401e-02,  7.31301127e-02,  6.69963364e-02,\n",
       "         7.09868938e-02,  8.41950878e-02,  8.49879852e-02,\n",
       "         7.79786120e-02,  6.32545805e-02,  6.15018272e-02,\n",
       "         7.24385714e-02,  8.41917647e-02,  9.36166775e-02,\n",
       "         8.31866304e-02,  8.61758147e-02,  6.59019769e-02,\n",
       "         6.94521050e-02,  7.27484159e-02,  5.86915627e-02,\n",
       "         4.30884368e-02,  3.50097530e-02,  5.23455471e-02,\n",
       "         5.84468599e-02,  6.21097193e-02,  6.46216441e-02,\n",
       "         5.05862825e-02,  5.38690050e-02,  4.88792674e-02,\n",
       "         5.29461724e-02,  4.29941571e-02,  2.38410084e-02,\n",
       "         2.85243100e-02,  2.25357243e-02,  2.46268667e-02,\n",
       "         2.57179124e-02,  2.32952669e-02,  1.73090961e-02,\n",
       "         5.37982716e-03, -1.34015662e-02, -3.02099789e-03,\n",
       "        -1.42164639e-02, -1.88767899e-02, -2.62625044e-02,\n",
       "        -1.51053108e-02, -6.31521241e-04, -1.34823827e-02,\n",
       "        -7.78755691e-03, -2.25079747e-02, -3.30575001e-02,\n",
       "        -4.02085110e-02, -3.00565426e-02, -3.92357595e-02,\n",
       "        -2.22608677e-02, -3.05223097e-02, -4.23629639e-02,\n",
       "        -2.93006311e-02, -4.38128975e-02, -3.51183495e-02,\n",
       "        -2.37965922e-02, -4.40100761e-02, -3.93464622e-02,\n",
       "        -4.43664696e-02, -6.32702235e-02, -5.55103229e-02,\n",
       "        -5.19192058e-02, -6.96596869e-02, -7.13669686e-02,\n",
       "        -5.80439195e-02, -7.49407218e-02],\n",
       "       [ 6.95080587e-01,  6.73036680e-01,  6.30586681e-01,\n",
       "         6.21767496e-01,  6.14936565e-01,  5.78049621e-01,\n",
       "         5.67268978e-01,  5.38929061e-01,  4.97922166e-01,\n",
       "         4.72257319e-01,  4.47119764e-01,  4.12295275e-01,\n",
       "         3.78697391e-01,  3.73951201e-01,  3.52403366e-01,\n",
       "         3.19872533e-01,  3.21144922e-01,  3.19209266e-01,\n",
       "         3.15346160e-01,  2.99770470e-01,  2.78720835e-01,\n",
       "         2.86247976e-01,  2.77798879e-01,  2.84768559e-01,\n",
       "         2.55392239e-01,  2.38726044e-01,  2.41957745e-01,\n",
       "         2.42472002e-01,  2.06965901e-01,  1.95360127e-01,\n",
       "         1.79759861e-01,  1.84942443e-01,  1.54439495e-01,\n",
       "         1.38051911e-01,  1.37439600e-01,  1.43354031e-01,\n",
       "         1.17068346e-01,  1.21009754e-01,  1.03084312e-01,\n",
       "         7.91207867e-02,  9.09978226e-02,  9.50660050e-02,\n",
       "         1.06246194e-01,  1.07223370e-01,  1.01161353e-01,\n",
       "         7.92880892e-02,  8.00710770e-02,  7.00335211e-02,\n",
       "         5.00615122e-02,  5.54280595e-02,  6.99158114e-02,\n",
       "         7.14596884e-02,  6.34576014e-02,  6.89150941e-02,\n",
       "         4.34597631e-02,  6.02146615e-02,  3.52456790e-02,\n",
       "         2.31092160e-02,  1.04588850e-03,  1.09749659e-02,\n",
       "        -8.75520338e-03, -2.49593469e-02, -3.61908576e-02,\n",
       "        -3.59827479e-02, -3.12882888e-02, -1.84368397e-02,\n",
       "         1.08105253e-02,  1.23729744e-02,  3.18568986e-02,\n",
       "         1.32433515e-02,  6.80321136e-03, -9.61957403e-03,\n",
       "         3.48813016e-04, -1.03079255e-02,  1.57057782e-02,\n",
       "         2.62243261e-02,  1.22446058e-02,  2.10549861e-02,\n",
       "         3.33267079e-02,  5.47599167e-02,  3.50628958e-02,\n",
       "         4.96732906e-02,  2.72028855e-02,  1.54421808e-02,\n",
       "         1.50207667e-02,  2.01158777e-02,  8.28098196e-03,\n",
       "        -1.27146989e-03, -2.38698481e-02, -2.66964093e-02,\n",
       "        -4.04470356e-02, -1.28135417e-02, -1.99373272e-02,\n",
       "        -4.03042069e-02, -3.78353674e-02, -2.66052093e-02,\n",
       "        -4.68934290e-02, -4.27471889e-02, -4.54420444e-02,\n",
       "        -6.14158395e-02, -6.78894801e-02],\n",
       "       [ 3.64789299e-01,  3.58756335e-01,  2.99696462e-01,\n",
       "         3.25445040e-01,  3.54083291e-01,  2.97234993e-01,\n",
       "         3.08860909e-01,  2.75541913e-01,  2.04067963e-01,\n",
       "         1.69705090e-01,  1.35472938e-01,  7.55909305e-02,\n",
       "         1.44124485e-02,  2.82529281e-02, -3.00850316e-04,\n",
       "        -5.48006924e-02, -1.53224710e-02,  1.61082680e-02,\n",
       "         3.72485443e-02,  2.53713298e-02, -1.10808097e-03,\n",
       "         4.99528881e-02,  6.41222971e-02,  1.19707392e-01,\n",
       "         7.76535173e-02,  7.10441418e-02,  1.14906873e-01,\n",
       "         1.49932283e-01,  9.18565873e-02,  9.91354696e-02,\n",
       "         9.38263428e-02,  1.39546852e-01,  9.00110083e-02,\n",
       "         7.27754108e-02,  9.55747824e-02,  1.34980592e-01,\n",
       "         8.76604613e-02,  1.15028776e-01,  7.95119993e-02,\n",
       "         2.68561667e-02,  7.06426583e-02,  9.55167964e-02,\n",
       "         1.36572192e-01,  1.45713445e-01,  1.31915135e-01,\n",
       "         7.54613336e-02,  8.00276150e-02,  5.74439454e-02,\n",
       "         1.10982575e-02,  2.85568339e-02,  7.02652554e-02,\n",
       "         8.25362143e-02,  7.34226723e-02,  9.79890317e-02,\n",
       "         3.49326655e-02,  8.07305558e-02,  1.42206638e-02,\n",
       "        -1.79138409e-02, -7.55414852e-02, -5.07278707e-02,\n",
       "        -1.06003365e-01, -1.53823549e-01, -1.86176925e-01,\n",
       "        -1.87914626e-01, -1.80920862e-01, -1.53698126e-01,\n",
       "        -8.51910965e-02, -9.03017688e-02, -4.65898953e-02,\n",
       "        -1.00462278e-01, -1.17169063e-01, -1.59070513e-01,\n",
       "        -1.33372134e-01, -1.60376869e-01, -8.93828771e-02,\n",
       "        -5.99198735e-02, -1.00185753e-01, -8.14389175e-02,\n",
       "        -5.12489907e-02,  4.93788557e-03, -4.18255284e-02,\n",
       "         6.06439260e-03, -4.39527540e-02, -6.68416040e-02,\n",
       "        -6.09120984e-02, -4.33268047e-02, -6.70165307e-02,\n",
       "        -8.47294789e-02, -1.38773003e-01, -1.40127848e-01,\n",
       "        -1.75860919e-01, -1.02756741e-01, -1.18423034e-01,\n",
       "        -1.70401809e-01, -1.59217905e-01, -1.23070908e-01,\n",
       "        -1.73791819e-01, -1.59111373e-01, -1.59446510e-01,\n",
       "        -1.98053437e-01, -2.13472981e-01],\n",
       "       [ 8.39583073e-01,  7.19576506e-01,  7.44877637e-01,\n",
       "         6.98775256e-01,  7.24630072e-01,  7.44725045e-01,\n",
       "         6.36065209e-01,  6.60667119e-01,  6.50481057e-01,\n",
       "         6.67653019e-01,  5.96731538e-01,  6.19874922e-01,\n",
       "         6.28028782e-01,  5.84899368e-01,  5.31566602e-01,\n",
       "         4.53602584e-01,  3.68734200e-01,  4.04410123e-01,\n",
       "         4.17380413e-01,  3.85329128e-01,  3.66286915e-01,\n",
       "         2.76541599e-01,  1.96001574e-01,  2.18598728e-01,\n",
       "         1.46292355e-01,  1.16567593e-01,  1.37035769e-01,\n",
       "         8.04194000e-02,  2.66620340e-02, -3.91792072e-02,\n",
       "         2.61580637e-02, -3.79765030e-02,  7.19763090e-03,\n",
       "         3.73951850e-03, -3.50717504e-03, -2.46326864e-02,\n",
       "        -4.62921350e-03,  5.77696377e-02,  6.75435694e-02,\n",
       "         5.14669066e-02,  4.10926377e-03,  3.22450091e-03,\n",
       "         4.99787244e-02,  9.57746838e-02,  1.32714156e-01,\n",
       "         9.18187727e-02,  1.12708661e-01,  3.58249244e-02,\n",
       "         6.35935571e-02,  9.35879562e-02,  4.44924143e-02,\n",
       "        -1.81810421e-02, -5.09692863e-02,  2.25350839e-02,\n",
       "         5.13159299e-02,  7.37218633e-02,  9.06705401e-02,\n",
       "         4.68227705e-02,  8.19081672e-02,  8.54322170e-02,\n",
       "         1.26543214e-01,  1.16423179e-01,  7.21236654e-02,\n",
       "         1.28824092e-01,  1.38025469e-01,  1.76207604e-01,\n",
       "         2.00711025e-01,  2.02008081e-01,  1.84844876e-01,\n",
       "         1.40543564e-01,  7.30796858e-02,  1.31830017e-01,\n",
       "         1.01775082e-01,  9.66071579e-02,  7.66903363e-02,\n",
       "         1.24272795e-01,  1.86207100e-01,  1.36461580e-01,\n",
       "         1.59947960e-01,  9.01888660e-02,  3.46590486e-02,\n",
       "        -4.71322079e-03,  2.75146683e-02, -1.36986130e-02,\n",
       "         5.74780987e-02,  2.10967771e-02, -3.11963787e-02,\n",
       "         2.51383473e-02, -2.88003111e-02,  2.01026605e-02,\n",
       "         8.25901727e-02,  1.02048897e-02,  3.40618603e-02,\n",
       "         2.22875344e-02, -4.43116045e-02, -3.84583314e-03,\n",
       "         1.85747135e-02, -4.50269872e-02, -4.42363552e-02,\n",
       "         2.23083165e-02, -3.35737752e-02]])"
      ]
     },
     "execution_count": 426,
     "metadata": {},
     "output_type": "execute_result"
    }
   ],
   "source": [
    "state_seq"
   ]
  },
  {
   "cell_type": "code",
   "execution_count": 427,
   "metadata": {},
   "outputs": [],
   "source": [
    "A = np.array([[0.921,  0, 0.041, 0], [0, 0.918, 0, 0.033], [0, 0, 0.924, 0], [0, 0, 0, 0.937]])\n",
    "B = np.array([[0.017, 0.001], [0.001, 0.023], [0, 0.061], [0.072, 0]])\n",
    "C = np.array([[1,0,0,0],[0,1,0,0]])\n",
    "\n",
    "\n",
    "\n",
    "\n",
    "# disc_sys_fn = disc_linear_fn\n",
    "nx = 4\n",
    "nu = 2\n",
    "ny = 2\n",
    "\n",
    "Q = np.diag([1] * ny)\n",
    "R = np.diag([5e-3] * nu)\n",
    "\n",
    "\n",
    "\n",
    "l = 2\n",
    "L = 30\n",
    "# T = (nu + 1) * (n + L + nx) - 1\n",
    "N = 100\n",
    "\n",
    "u_ns = np.array([[1,1]* n]).reshape(-1,1)  # terminal equalibrium constraints\n",
    "y_ns = np.array([[0.65,0.77]*n]).reshape(-1,1)\n",
    "\n",
    "state_init = np.array([[0.1],[0.1],[0.2],[0.2]])\n",
    "\n",
    "# state_seq, input_seq = data_generation(disc_four_tank, nx, nu, T, state_init = state_init)\n",
    "state_seq, input_seq = data_generation(disc_four_tank, nx, nu, N)\n",
    "\n",
    "output_seq = C @ state_seq"
   ]
  },
  {
   "cell_type": "code",
   "execution_count": 428,
   "metadata": {},
   "outputs": [
    {
     "data": {
      "text/plain": [
       "8"
      ]
     },
     "execution_count": 428,
     "metadata": {},
     "output_type": "execute_result"
    }
   ],
   "source": [
    "n_xi = (nu + ny) * l\n",
    "n_xi"
   ]
  },
  {
   "cell_type": "code",
   "execution_count": 429,
   "metadata": {},
   "outputs": [],
   "source": [
    "Ty = np.concatenate([np.zeros((ny, n_xi - ny)),np.eye(ny)], axis = 1)#[0 ... 0 I]\n",
    "Qr = Ty.T @ Q @ Ty # since Ty.T @ Q @ Ty = diag(0,0,1,1)\n",
    "L = cholesky(R)\n",
    "Rr = L.T # Since L @ L.T.conj = A if chol(A)"
   ]
  },
  {
   "cell_type": "code",
   "execution_count": 430,
   "metadata": {},
   "outputs": [
    {
     "data": {
      "text/plain": [
       "array([[0., 0., 1., 0., 0., 0., 0., 0.],\n",
       "       [0., 0., 0., 1., 0., 0., 0., 0.],\n",
       "       [0., 0., 0., 0., 0., 0., 0., 0.],\n",
       "       [0., 0., 0., 0., 0., 0., 0., 0.],\n",
       "       [0., 0., 0., 0., 0., 0., 1., 0.],\n",
       "       [0., 0., 0., 0., 0., 0., 0., 1.],\n",
       "       [0., 0., 0., 0., 0., 0., 0., 0.],\n",
       "       [0., 0., 0., 0., 0., 0., 0., 0.]])"
      ]
     },
     "execution_count": 430,
     "metadata": {},
     "output_type": "execute_result"
    }
   ],
   "source": [
    "A_prime, B_prime = define_A_B_prime(nu, ny, l)\n",
    "A_prime"
   ]
  },
  {
   "cell_type": "code",
   "execution_count": 459,
   "metadata": {},
   "outputs": [],
   "source": [
    " prob, Xi_para, Xi_p_para, U_para, Z_para, X_cal, M= define_LMI(nu, ny, l, N, A_prime, B_prime, Qr, Rr)"
   ]
  },
  {
   "cell_type": "code",
   "execution_count": 460,
   "metadata": {},
   "outputs": [],
   "source": [
    "Xi, Xi_p = Xi_stack(nu,ny,l,N,input_seq,output_seq)"
   ]
  },
  {
   "cell_type": "code",
   "execution_count": 461,
   "metadata": {},
   "outputs": [],
   "source": [
    "U = input_seq[:,l:]"
   ]
  },
  {
   "cell_type": "code",
   "execution_count": 462,
   "metadata": {},
   "outputs": [],
   "source": [
    "Z = np.concatenate([Xi, U], axis = 0)"
   ]
  },
  {
   "cell_type": "code",
   "execution_count": 463,
   "metadata": {},
   "outputs": [],
   "source": [
    "Xi_para.value = Xi\n",
    "Xi_p_para.value = Xi_p\n",
    "U_para.value = U \n",
    "# Z_para.value = Z"
   ]
  },
  {
   "cell_type": "code",
   "execution_count": 464,
   "metadata": {},
   "outputs": [
    {
     "data": {
      "text/plain": [
       "0.0"
      ]
     },
     "execution_count": 464,
     "metadata": {},
     "output_type": "execute_result"
    }
   ],
   "source": [
    "prob.solve(solver=cp.MOSEK)"
   ]
  },
  {
   "cell_type": "code",
   "execution_count": 465,
   "metadata": {},
   "outputs": [],
   "source": [
    "K = M.value @ np.linalg.inv(X_cal.value)\n",
    "P = np.linalg.inv(X_cal.value) - Ty.T @ Q @ Ty"
   ]
  },
  {
   "cell_type": "code",
   "execution_count": 466,
   "metadata": {},
   "outputs": [
    {
     "data": {
      "text/plain": [
       "array([[ 1.10375401e+11, -3.48251603e+10, -5.72162854e+09,\n",
       "        -5.72162854e+09, -3.48251604e+10, -3.48251604e+10,\n",
       "        -3.14224522e+09, -3.14224522e+09],\n",
       "       [-3.48251603e+10,  1.10375401e+11, -5.72162854e+09,\n",
       "        -5.72162855e+09, -3.48251603e+10, -3.48251605e+10,\n",
       "        -3.14224523e+09, -3.14224522e+09],\n",
       "       [-5.72162854e+09, -5.72162854e+09,  2.69844002e+10,\n",
       "        -5.26312694e+09, -5.72162856e+09, -5.72162856e+09,\n",
       "        -1.21023372e+10, -1.21023372e+10],\n",
       "       [-5.72162854e+09, -5.72162855e+09, -5.26312694e+09,\n",
       "         2.69844002e+10, -5.72162856e+09, -5.72162855e+09,\n",
       "        -1.21023372e+10, -1.21023372e+10],\n",
       "       [-3.48251604e+10, -3.48251603e+10, -5.72162856e+09,\n",
       "        -5.72162856e+09,  1.10375401e+11, -3.48251603e+10,\n",
       "        -3.14224524e+09, -3.14224523e+09],\n",
       "       [-3.48251604e+10, -3.48251605e+10, -5.72162856e+09,\n",
       "        -5.72162855e+09, -3.48251603e+10,  1.10375401e+11,\n",
       "        -3.14224522e+09, -3.14224523e+09],\n",
       "       [-3.14224522e+09, -3.14224523e+09, -1.21023372e+10,\n",
       "        -1.21023372e+10, -3.14224524e+09, -3.14224522e+09,\n",
       "         1.00585568e+10, -2.47183928e+10],\n",
       "       [-3.14224522e+09, -3.14224522e+09, -1.21023372e+10,\n",
       "        -1.21023372e+10, -3.14224523e+09, -3.14224523e+09,\n",
       "        -2.47183928e+10,  1.00585568e+10]])"
      ]
     },
     "execution_count": 466,
     "metadata": {},
     "output_type": "execute_result"
    }
   ],
   "source": [
    "P"
   ]
  },
  {
   "cell_type": "code",
   "execution_count": null,
   "metadata": {},
   "outputs": [],
   "source": []
  }
 ],
 "metadata": {
  "kernelspec": {
   "display_name": "Python 3",
   "language": "python",
   "name": "python3"
  },
  "language_info": {
   "codemirror_mode": {
    "name": "ipython",
    "version": 3
   },
   "file_extension": ".py",
   "mimetype": "text/x-python",
   "name": "python",
   "nbconvert_exporter": "python",
   "pygments_lexer": "ipython3",
   "version": "3.7.7"
  }
 },
 "nbformat": 4,
 "nbformat_minor": 4
}
