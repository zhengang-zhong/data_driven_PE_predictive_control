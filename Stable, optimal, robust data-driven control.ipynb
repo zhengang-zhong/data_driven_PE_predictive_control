{
 "cells": [
  {
   "cell_type": "code",
   "execution_count": 1,
   "metadata": {},
   "outputs": [],
   "source": [
    "import numpy as np\n",
    "import mosek\n",
    "import cvxpy as cp\n",
    "import matplotlib.pyplot as plt\n",
    "from scipy.linalg import expm"
   ]
  },
  {
   "cell_type": "code",
   "execution_count": 2,
   "metadata": {},
   "outputs": [],
   "source": [
    "def disc_linear_system(A, B, delta_t):\n",
    "    '''\n",
    "    Discrete a linear system with implicit Euler\n",
    "    x[k+1] = (I - delta_t * A)^{-1} @ x[k] + (I - delta_t * A)^{-1} @ (delta_t * B) @ u[k]\n",
    "    Returns:\n",
    "        Ak\n",
    "        Bk\n",
    "    '''\n",
    "    Nx = np.shape(A)[0]\n",
    "    Ix = np.identity(Nx)\n",
    "\n",
    "    Ak = expm(A*delta_t)\n",
    "    Bk = (expm(A * delta_t) - Ix) @ np.linalg.inv(A) @ B\n",
    "\n",
    "    \n",
    "    def disc_linear_fn(x, u):\n",
    "        x_next = Ak @ x + Bk @ u\n",
    "        \n",
    "        return x_next\n",
    "    \n",
    "    \n",
    "    return disc_linear_fn"
   ]
  },
  {
   "cell_type": "code",
   "execution_count": 3,
   "metadata": {},
   "outputs": [],
   "source": [
    "# Collect data as initial condition\n",
    "def data_generation(sys, nx, nu, N, state_init = None, input_seq = None):\n",
    "    # N is the length of collected data\n",
    "    # Modify this for measurement functions (y = Cx)\n",
    "    if input_seq is None:\n",
    "        input_seq = np.random.uniform(-1,1,(nu, N))\n",
    "#         input_seq = np.random.rand(nu, N)  \n",
    "    N_it = np.shape(input_seq)[1] # Number of iteration\n",
    "    if state_init is None:\n",
    "        state_init = np.random.rand(nx,1) \n",
    "    state_seq = state_init\n",
    "    xk = state_init\n",
    "    for _ in range(N_it):\n",
    "        uk = input_seq[:,[_]]\n",
    "        state_next = sys(xk, uk)\n",
    "        state_seq = np.concatenate((state_seq, state_next),axis=1)\n",
    "        xk = state_next\n",
    "    # Remark: the length of state_seq is larger than the input_seq by one.\n",
    "    return state_seq, input_seq"
   ]
  },
  {
   "cell_type": "code",
   "execution_count": 4,
   "metadata": {},
   "outputs": [],
   "source": [
    "# Define optimization problem for finding a stable controller\n",
    "def def_stable_controller_prob(n, T):\n",
    "    # n is the state dimension, T is the length of the data sequence\n",
    "    P = cp.Variable((n, n), symmetric=True)\n",
    "    Y = cp.Variable((T, n))\n",
    "    X0_para = cp.Parameter((n,T))    \n",
    "    X1_para = cp.Parameter((n,T))\n",
    "    \n",
    "    obj = cp.Minimize(0)\n",
    "    constraints = []\n",
    "    lhs = cp.hstack([cp.vstack([P, X1 @ Y]),cp.vstack([Y.T @ X1.T, P])])\n",
    "    constraints += [lhs >= np.eye(2*n)]\n",
    "#     constraints += [lhs >= 0]\n",
    "    constraints += [P == X0_para @ Y]\n",
    "    \n",
    "    prob = cp.Problem(obj, constraints)\n",
    "    \n",
    "    return prob, X0_para, X1_para, P, Y"
   ]
  },
  {
   "cell_type": "code",
   "execution_count": 5,
   "metadata": {},
   "outputs": [],
   "source": [
    "# Simulation\n",
    "def sim(sys, N_sim, delta_t, nu, nx, K, x_init, r = None):\n",
    "    # Generally, u_init and y_init are sequences, and x_init is the corresponding initial state of the last element in sequences\n",
    "    t0 = 0\n",
    "    xk = x_init\n",
    "    uk = 0\n",
    "    t = t0\n",
    "    h = delta_t\n",
    "\n",
    "    x_list = []\n",
    "    x_list += xk.flatten().tolist()\n",
    "    u_list = []\n",
    "\n",
    "    # N_sample_max\n",
    "    for i in range(N_sim):\n",
    "#         X0 = state_seq[:,:-1]\n",
    "#         X1 = state_seq[:,1:]\n",
    "#         X0_para.value = X0\n",
    "#         X1_para.value = X1\n",
    "#         prob.solve(solver=cp.MOSEK)\n",
    "#         U0 = input_seq\n",
    "#         K = U0 @ Y.value @ np.linalg.inv(P.value)\n",
    "        uk = K @ xk \n",
    "        print(uk,xk)\n",
    "#         print(K)\n",
    "        u_list += uk.flatten().tolist()\n",
    "        x_kp1 = sys(xk, uk)\n",
    "#         state_seq = np.concatenate( (state_seq[:,1:], x_kp1), axis = 1  )\n",
    "#         input_seq = np.concatenate( (input_seq[:,1:], uk), axis = 1  )\n",
    "        xk = x_kp1\n",
    "        x_list += xk.flatten().tolist()\n",
    "\n",
    "    return x_list, u_list"
   ]
  },
  {
   "cell_type": "markdown",
   "metadata": {},
   "source": [
    "### Find a stabilizing controller"
   ]
  },
  {
   "cell_type": "markdown",
   "metadata": {},
   "source": [
    "#### Case 1: example in paper"
   ]
  },
  {
   "cell_type": "code",
   "execution_count": 6,
   "metadata": {},
   "outputs": [],
   "source": [
    "X0 = np.array([[0.4027, 0.3478, 0.3571, 0.3216, 0.2362], [0.4448, 1.1451, 1.7499, 2.3708, 2.9301]])\n",
    "X1 = np.array([[0.3478, 0.3571, 0.3216, 0.2362, 0.1541], [1.1451, 1.7499, 2.3708, 2.9301, 3.3409]])\n",
    "\n",
    "n, T = np.shape(X0)"
   ]
  },
  {
   "cell_type": "code",
   "execution_count": 7,
   "metadata": {},
   "outputs": [
    {
     "name": "stdout",
     "output_type": "stream",
     "text": [
      "\n",
      "\n",
      "Problem\n",
      "  Name                   :                 \n",
      "  Objective sense        : max             \n",
      "  Type                   : LO (linear optimization problem)\n",
      "  Constraints            : 13              \n",
      "  Cones                  : 0               \n",
      "  Scalar variables       : 20              \n",
      "  Matrix variables       : 0               \n",
      "  Integer variables      : 0               \n",
      "\n",
      "Optimizer started.\n",
      "Optimizer terminated. Time: 0.01    \n",
      "\n",
      "\n",
      "Interior-point solution summary\n",
      "  Problem status  : PRIMAL_AND_DUAL_FEASIBLE\n",
      "  Solution status : OPTIMAL\n",
      "  Primal.  obj: 0.0000000000e+00    nrm: 0e+00    Viol.  con: 0e+00    var: 0e+00  \n",
      "  Dual.    obj: 0.0000000000e+00    nrm: 1e+01    Viol.  con: 0e+00    var: 0e+00  \n"
     ]
    },
    {
     "data": {
      "text/plain": [
       "0.0"
      ]
     },
     "execution_count": 7,
     "metadata": {},
     "output_type": "execute_result"
    }
   ],
   "source": [
    "prob, X0_para, X1_para, P, Y = def_stable_controller_prob(n,T)\n",
    "X0_para.value = X0\n",
    "X1_para.value = X1\n",
    "\n",
    "prob.solve(solver=cp.MOSEK,verbose=True)"
   ]
  },
  {
   "cell_type": "code",
   "execution_count": 8,
   "metadata": {},
   "outputs": [
    {
     "data": {
      "text/plain": [
       "array([[1.        , 4.90030804],\n",
       "       [4.90030804, 5.41260744]])"
      ]
     },
     "execution_count": 8,
     "metadata": {},
     "output_type": "execute_result"
    }
   ],
   "source": [
    "P.value"
   ]
  },
  {
   "cell_type": "code",
   "execution_count": 9,
   "metadata": {},
   "outputs": [
    {
     "data": {
      "text/plain": [
       "array([[-0.        , 12.16863183],\n",
       "       [-0.        , -0.        ],\n",
       "       [ 2.80033604, -0.        ],\n",
       "       [-0.        , -0.        ],\n",
       "       [-0.        , -0.        ]])"
      ]
     },
     "execution_count": 9,
     "metadata": {},
     "output_type": "execute_result"
    }
   ],
   "source": [
    "Y.value"
   ]
  },
  {
   "cell_type": "code",
   "execution_count": 18,
   "metadata": {},
   "outputs": [],
   "source": [
    "m = 2  # [kg]\n",
    "k1 = 3  # [N/m]\n",
    "k2 = 2  # [N/m]\n",
    "\n",
    "A = np.array([[0, 1], [-k2 / m, -k1 / m]])\n",
    "B = np.array([[0], [1 / m]])\n",
    "\n",
    "\n",
    "Q = np.diag([10, 1])\n",
    "R = np.diag([1])\n",
    "\n",
    "state_init = np.array([[5],[1]])\n",
    "\n",
    "dt = 0.1\n",
    "disc_sys_fn = disc_linear_system(A,B, dt)\n",
    "nx = 2\n",
    "nu = 1\n",
    "\n",
    "\n",
    "n = 1\n",
    "L = 15\n",
    "T = (nu + 1) * (n + L + nx) - 1\n",
    "T = 200\n",
    "\n",
    "state_seq, input_seq = data_generation(disc_sys_fn, nx, nu, T, state_init = state_init)"
   ]
  },
  {
   "cell_type": "code",
   "execution_count": 19,
   "metadata": {},
   "outputs": [],
   "source": [
    "X0 = state_seq[:,:-1]\n",
    "X1 = state_seq[:,1:]\n",
    "U0 = input_seq"
   ]
  },
  {
   "cell_type": "code",
   "execution_count": 20,
   "metadata": {},
   "outputs": [],
   "source": [
    "prob, X0_para, X1_para, P, Y = def_stable_controller_prob(nx, T)"
   ]
  },
  {
   "cell_type": "code",
   "execution_count": 21,
   "metadata": {},
   "outputs": [
    {
     "name": "stdout",
     "output_type": "stream",
     "text": [
      "\n",
      "\n",
      "Problem\n",
      "  Name                   :                 \n",
      "  Objective sense        : max             \n",
      "  Type                   : LO (linear optimization problem)\n",
      "  Constraints            : 403             \n",
      "  Cones                  : 0               \n",
      "  Scalar variables       : 20              \n",
      "  Matrix variables       : 0               \n",
      "  Integer variables      : 0               \n",
      "\n",
      "Optimizer started.\n",
      "Optimizer terminated. Time: 0.01    \n",
      "\n",
      "\n",
      "Interior-point solution summary\n",
      "  Problem status  : PRIMAL_AND_DUAL_FEASIBLE\n",
      "  Solution status : OPTIMAL\n",
      "  Primal.  obj: 0.0000000000e+00    nrm: 0e+00    Viol.  con: 0e+00    var: 0e+00  \n",
      "  Dual.    obj: 0.0000000000e+00    nrm: 8e+00    Viol.  con: 0e+00    var: 1e-16  \n"
     ]
    },
    {
     "data": {
      "text/plain": [
       "0.0"
      ]
     },
     "execution_count": 21,
     "metadata": {},
     "output_type": "execute_result"
    }
   ],
   "source": [
    "X0_para.value = X0\n",
    "X1_para.value = X1\n",
    "\n",
    "prob.solve(solver=cp.MOSEK,verbose=True)"
   ]
  },
  {
   "cell_type": "code",
   "execution_count": 22,
   "metadata": {},
   "outputs": [
    {
     "data": {
      "text/plain": [
       "array([[ 2.        , -1.96708234]])"
      ]
     },
     "execution_count": 22,
     "metadata": {},
     "output_type": "execute_result"
    }
   ],
   "source": [
    "K = U0 @ Y.value @ np.linalg.inv(P.value)\n",
    "K"
   ]
  },
  {
   "cell_type": "code",
   "execution_count": 23,
   "metadata": {},
   "outputs": [
    {
     "name": "stdout",
     "output_type": "stream",
     "text": [
      "[[8.03291766]] [[5]\n",
      " [1]]\n",
      "[[8.67123399]] [[5.0880298 ]\n",
      " [0.76500388]]\n",
      "[[9.15954845]] [[5.15537295]\n",
      " [0.58523094]]\n",
      "[[9.53311092]] [[5.20689071]\n",
      " [0.44770394]]\n",
      "[[9.81888765]] [[5.246302  ]\n",
      " [0.34249525]]\n",
      "[[10.03750796]] [[5.27645179]\n",
      " [0.26201019]]\n",
      "[[10.20475334]] [[5.2995165 ]\n",
      " [0.20043881]]\n",
      "[[10.33269671]] [[5.31716108]\n",
      " [0.15333647]]\n",
      "[[10.43057388]] [[5.33065926]\n",
      " [0.11730299]]\n",
      "[[10.5054503]] [[5.34098542]\n",
      " [0.08973725]]\n",
      "[[10.56273104]] [[5.34888498]\n",
      " [0.06864934]]\n",
      "[[10.60655104]] [[5.35492816]\n",
      " [0.05251701]]\n",
      "[[10.64007351]] [[5.35955123]\n",
      " [0.04017572]]\n",
      "[[10.66571832]] [[5.36308789]\n",
      " [0.03073458]]\n",
      "[[10.68533671]] [[5.36579345]\n",
      " [0.02351207]]\n",
      "[[10.70034485]] [[5.36786321]\n",
      " [0.01798683]]\n",
      "[[10.71182613]] [[5.36944659]\n",
      " [0.01375999]]\n",
      "[[10.72060936]] [[5.37065788]\n",
      " [0.01052645]]\n",
      "[[10.72732856]] [[5.37158452]\n",
      " [0.00805277]]\n",
      "[[10.73246878]] [[5.3722934]\n",
      " [0.0061604]]\n",
      "[[10.73640107]] [[5.37283570e+00]\n",
      " [4.71273207e-03]]\n",
      "[[10.73940928]] [[5.37325056e+00]\n",
      " [3.60525831e-03]]\n",
      "[[10.74171058]] [[5.37356793e+00]\n",
      " [2.75803660e-03]]\n",
      "[[10.74347108]] [[5.37381072e+00]\n",
      " [2.10990869e-03]]\n",
      "[[10.74481787]] [[5.37399646e+00]\n",
      " [1.61408834e-03]]\n",
      "[[10.74584816]] [[5.37413854e+00]\n",
      " [1.23478384e-03]]\n",
      "[[10.74663635]] [[5.37424724e+00]\n",
      " [9.44614427e-04]]\n",
      "[[10.74723931]] [[5.37433039e+00]\n",
      " [7.22633701e-04]]\n",
      "[[10.74770058]] [[5.37439401e+00]\n",
      " [5.52817585e-04]]\n",
      "[[10.74805345]] [[5.37444267e+00]\n",
      " [4.22907597e-04]]\n",
      "[[10.7483234]] [[5.37447990e+00]\n",
      " [3.23525952e-04]]\n",
      "[[10.74852991]] [[5.37450838e+00]\n",
      " [2.47498609e-04]]\n",
      "[[10.74868789]] [[5.37453017e+00]\n",
      " [1.89337396e-04]]\n",
      "[[10.74880875]] [[5.37454684e+00]\n",
      " [1.44843842e-04]]\n",
      "[[10.74890121]] [[5.37455959e+00]\n",
      " [1.10806101e-04]]\n",
      "[[10.74897194]] [[5.37456934e+00]\n",
      " [8.47670972e-05]]\n",
      "[[10.74902605]] [[5.37457680e+00]\n",
      " [6.48471582e-05]]\n",
      "[[10.74906744]] [[5.37458251e+00]\n",
      " [4.96083276e-05]]\n",
      "[[10.7490991]] [[5.37458688e+00]\n",
      " [3.79505631e-05]]\n",
      "[[10.74912333]] [[5.37459022e+00]\n",
      " [2.90323280e-05]]\n",
      "[[10.74914186]] [[5.37459277e+00]\n",
      " [2.22098435e-05]]\n",
      "[[10.74915604]] [[5.37459473e+00]\n",
      " [1.69906165e-05]]\n",
      "[[10.74916688]] [[5.37459623e+00]\n",
      " [1.29978875e-05]]\n",
      "[[10.74917518]] [[5.37459737e+00]\n",
      " [9.94343436e-06]]\n",
      "[[10.74918153]] [[5.37459824e+00]\n",
      " [7.60676586e-06]]\n",
      "[[10.74918638]] [[5.37459891e+00]\n",
      " [5.81920539e-06]]\n",
      "[[10.7491901]] [[5.37459943e+00]\n",
      " [4.45171470e-06]]\n",
      "[[10.74919294]] [[5.37459982e+00]\n",
      " [3.40557902e-06]]\n",
      "[[10.74919511]] [[5.37460012e+00]\n",
      " [2.60528116e-06]]\n",
      "[[10.74919677]] [[5.37460035e+00]\n",
      " [1.99305019e-06]]\n",
      "[[10.74919805]] [[5.37460052e+00]\n",
      " [1.52469113e-06]]\n",
      "[[10.74919902]] [[5.37460066e+00]\n",
      " [1.16639463e-06]]\n",
      "[[10.74919976]] [[5.37460076e+00]\n",
      " [8.92296416e-07]]\n",
      "[[10.74920033]] [[5.37460084e+00]\n",
      " [6.82610220e-07]]\n",
      "[[10.74920077]] [[5.37460090e+00]\n",
      " [5.22199466e-07]]\n",
      "[[10.7492011]] [[5.37460094e+00]\n",
      " [3.99484617e-07]]\n",
      "[[10.74920136]] [[5.37460098e+00]\n",
      " [3.05607282e-07]]\n",
      "[[10.74920155]] [[5.37460101e+00]\n",
      " [2.33790756e-07]]\n",
      "[[10.7492017]] [[5.37460103e+00]\n",
      " [1.78850835e-07]]\n",
      "[[10.74920182]] [[5.37460104e+00]\n",
      " [1.36821583e-07]]\n",
      "[[10.7492019]] [[5.37460106e+00]\n",
      " [1.04669042e-07]]\n",
      "[[10.74920197]] [[5.37460106e+00]\n",
      " [8.00722230e-08]]\n",
      "[[10.74920202]] [[5.37460107e+00]\n",
      " [6.12555612e-08]]\n",
      "[[10.74920206]] [[5.37460108e+00]\n",
      " [4.68607420e-08]]\n",
      "[[10.74920209]] [[5.37460108e+00]\n",
      " [3.58486494e-08]]\n",
      "[[10.74920211]] [[5.37460108e+00]\n",
      " [2.74243559e-08]]\n",
      "[[10.74920213]] [[5.37460109e+00]\n",
      " [2.09797386e-08]]\n",
      "[[10.74920214]] [[5.37460109e+00]\n",
      " [1.60495815e-08]]\n",
      "[[10.74920216]] [[5.37460109e+00]\n",
      " [1.22779921e-08]]\n",
      "[[10.74920216]] [[5.37460109e+00]\n",
      " [9.39271155e-09]]\n",
      "[[10.74920217]] [[5.37460109e+00]\n",
      " [7.18546078e-09]]\n",
      "[[10.74920217]] [[5.37460109e+00]\n",
      " [5.49690538e-09]]\n",
      "[[10.74920218]] [[5.37460109e+00]\n",
      " [4.20515395e-09]]\n",
      "[[10.74920218]] [[5.37460109e+00]\n",
      " [3.21695909e-09]]\n",
      "[[10.74920218]] [[5.37460109e+00]\n",
      " [2.46098625e-09]]\n",
      "[[10.74920218]] [[5.37460109e+00]\n",
      " [1.88266402e-09]]\n",
      "[[10.74920218]] [[5.37460109e+00]\n",
      " [1.44024526e-09]]\n",
      "[[10.74920219]] [[5.37460109e+00]\n",
      " [1.10179316e-09]]\n",
      "[[10.74920219]] [[5.37460109e+00]\n",
      " [8.42876102e-10]]\n",
      "[[10.74920219]] [[5.37460109e+00]\n",
      " [6.44803433e-10]]\n",
      "[[10.74920219]] [[5.37460109e+00]\n",
      " [4.93277197e-10]]\n",
      "[[10.74920219]] [[5.37460109e+00]\n",
      " [3.77358922e-10]]\n",
      "[[10.74920219]] [[5.37460109e+00]\n",
      " [2.88681024e-10]]\n",
      "[[10.74920219]] [[5.37460109e+00]\n",
      " [2.20842178e-10]]\n",
      "[[10.74920219]] [[5.37460109e+00]\n",
      " [1.68945080e-10]]\n",
      "[[10.74920219]] [[5.37460109e+00]\n",
      " [1.29243616e-10]]\n",
      "[[10.74920219]] [[5.37460109e+00]\n",
      " [9.88719107e-11]]\n",
      "[[10.74920219]] [[5.37460109e+00]\n",
      " [7.56373297e-11]]\n",
      "[[10.74920219]] [[5.37460109e+00]\n",
      " [5.78628812e-11]]\n",
      "[[10.74920219]] [[5.37460109e+00]\n",
      " [4.42652581e-11]]\n",
      "[[10.74920219]] [[5.37460109e+00]\n",
      " [3.38630790e-11]]\n",
      "[[10.74920219]] [[5.37460109e+00]\n",
      " [2.59053334e-11]]\n",
      "[[10.74920219]] [[5.37460109e+00]\n",
      " [1.98177030e-11]]\n",
      "[[10.74920219]] [[5.37460109e+00]\n",
      " [1.51605395e-11]]\n",
      "[[10.74920219]] [[5.37460109e+00]\n",
      " [1.15978893e-11]]\n",
      "[[10.74920219]] [[5.37460109e+00]\n",
      " [8.87245832e-12]]\n",
      "[[10.74920219]] [[5.37460109e+00]\n",
      " [6.78751499e-12]]\n",
      "[[10.74920219]] [[5.37460109e+00]\n",
      " [5.19251309e-12]]\n",
      "[[10.74920219]] [[5.37460109e+00]\n",
      " [3.97232247e-12]]\n",
      "[[10.74920219]] [[5.37460109e+00]\n",
      " [3.03884695e-12]]\n"
     ]
    }
   ],
   "source": [
    "N_sim = 100\n",
    "x_init = state_init\n",
    "x_list, u_list = sim(disc_sys_fn, N_sim, dt, nu, nx, K, x_init)"
   ]
  },
  {
   "cell_type": "code",
   "execution_count": 24,
   "metadata": {},
   "outputs": [
    {
     "data": {
      "image/png": "[encoded data removed]",
      "text/plain": [
       "<Figure size 720x1440 with 2 Axes>"
      ]
     },
     "metadata": {
      "needs_background": "light"
     },
     "output_type": "display_data"
    }
   ],
   "source": [
    "delta_t = dt\n",
    "n = nx\n",
    "\n",
    "x_traj = x_list\n",
    "\n",
    "Nt = np.shape(x_traj[::n])[0]\n",
    "t_plot = [delta_t * i for i in range(Nt)]\n",
    "\n",
    "plt.figure(1, figsize=(10, 20))\n",
    "plt.clf()\n",
    "for i in range (n):\n",
    "    plt.subplot( str(n) + str(1) + str(i + 1) )\n",
    "    plt.grid()\n",
    "    x_traj_temp = x_traj[i::n]\n",
    "    plt.plot(t_plot, x_traj_temp)\n",
    "    plt.ylabel('x' + str(i + 1))\n",
    "\n",
    "plt.xlabel('t')\n",
    "plt.show()"
   ]
  },
  {
   "cell_type": "code",
   "execution_count": 25,
   "metadata": {},
   "outputs": [
    {
     "data": {
      "image/png": "[encoded data removed]",
      "text/plain": [
       "<Figure size 360x720 with 1 Axes>"
      ]
     },
     "metadata": {
      "needs_background": "light"
     },
     "output_type": "display_data"
    }
   ],
   "source": [
    "delta_t = dt\n",
    "n = nu\n",
    "\n",
    "u_traj = u_list\n",
    "\n",
    "Nt = np.shape(u_traj[::n])[0]\n",
    "t_plot = [delta_t * i for i in range(Nt)]\n",
    "\n",
    "plt.figure(1, figsize=(5, 10))\n",
    "plt.clf()\n",
    "for i in range (n):\n",
    "    plt.subplot( str(n) + str(1) + str(i + 1) )\n",
    "    plt.grid()\n",
    "    u_traj_temp = u_traj[i::n]\n",
    "    plt.plot(t_plot, u_traj_temp)\n",
    "    plt.ylabel('u' + str(i + 1))\n",
    "\n",
    "plt.xlabel('t')\n",
    "plt.show()"
   ]
  }
 ],
 "metadata": {
  "kernelspec": {
   "display_name": "Python 3",
   "language": "python",
   "name": "python3"
  },
  "language_info": {
   "codemirror_mode": {
    "name": "ipython",
    "version": 3
   },
   "file_extension": ".py",
   "mimetype": "text/x-python",
   "name": "python",
   "nbconvert_exporter": "python",
   "pygments_lexer": "ipython3",
   "version": "3.7.7"
  }
 },
 "nbformat": 4,
 "nbformat_minor": 4
}
